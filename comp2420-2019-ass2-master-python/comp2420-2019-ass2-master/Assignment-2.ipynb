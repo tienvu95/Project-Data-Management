{
 "cells": [
  {
   "cell_type": "markdown",
   "metadata": {},
   "source": [
    "<h1 align='center'> COMP2420/COMP6420 - Introduction to Data Management,<br/> Analysis and Security</h1>\n",
    "\n",
    "<h1 align='center'> Assignment - 2</h1>\n",
    "\n",
    "-----\n",
    "<br/>\n",
    "\n",
    "## Grading\n",
    "\n",
    "|**Maximum Marks**         |  **100**\n",
    "|--------------------------|--------\n",
    "|  **Weight**              |  **20% of the Total Course Grade**\n",
    "|  **Submission deadline** |  **7:00PM, Friday, May 24**\n",
    "|  **Submission mode**     |  **Electronic, Using GitLab <br/> One submission per group**\n",
    "|  **Estimated time**      |  **20 hours**\n",
    "|  **Penalty**             |  **100% after the deadline**\n",
    "  \n",
    "\n",
    "\n",
    "## Submission\n",
    "\n",
    "You need to submit the notebook `Assignment-2.ipynb` and any other additional files that you may have created / hyperlinked in this notebook, as part of your submission by pushing it to your forked GitLab repository. You need to add your group details below. Make sure your group works on and submits only one fork of the assignment repository. \n",
    "\n",
    "\n",
    "### Note:\n",
    "\n",
    "* It is strongly advised to read the whole assignment before attempting it and have at least a cursory glance at the dataset in order to gauge the requirements and understand what you need to do as a bigger picture.\n",
    "\n",
    "* For answers requiring free form written text, use the designated cells denoted by `YOUR ANSWER HERE` -- double click on the cell to write inside them.\n",
    "\n",
    "* For all coding questions please write your code after the comment `YOUR CODE HERE`.\n",
    "\n",
    "* In the process of testing your code, you can insert more cells or use print statements for debugging, but when submitting your file remember to remove these cells and calls respectively.\n",
    "\n",
    "* With respect to any code that you submit, you will be marked on the **correctness** and **readability** of your code. If your marker can't understand your code, your marks may be deducted."
   ]
  },
  {
   "cell_type": "markdown",
   "metadata": {},
   "source": [
    "<span style=\"color:blue\">\n",
    "    \n",
    "### Group Number :  2420_A2_Grp61\n",
    "\n",
    "### Student IDs: u6871331, u6894190 and u5846163\n",
    "\n",
    "</span>"
   ]
  },
  {
   "cell_type": "markdown",
   "metadata": {},
   "source": [
    "## Introductiongenres\n",
    "\n"
   ]
  },
  {
   "cell_type": "code",
   "execution_count": 1,
   "metadata": {},
   "outputs": [],
   "source": [
    "# IMPORTING FREQUENTLY USED PYTHON MODULES\n",
    "import numpy as np\n",
    "import pandas as pd\n",
    "import seaborn as sns\n",
    "import matplotlib.pyplot as plt\n",
    "import psycopg2\n",
    "import os\n",
    "plt.style.use('seaborn-notebook')\n",
    "%matplotlib inline\n",
    "\n",
    "# JUST TO MAKE SURE SOME WARNINGS ARE IGNORED \n",
    "import warnings\n",
    "warnings.filterwarnings(\"ignore\")"
   ]
  },
  {
   "cell_type": "code",
   "execution_count": 2,
   "metadata": {},
   "outputs": [],
   "source": [
    "# IMPORT ANY OTHER REQUIRED MODULES IN THIS\n",
    "\n",
    "from sklearn.cluster import KMeans\n",
    "import sklearn as sk\n",
    "from sklearn import datasets, metrics\n",
    "from sklearn.linear_model import SGDClassifier\n",
    "from scipy import stats\n",
    "\n",
    "from sklearn.preprocessing import OneHotEncoder\n",
    "from sklearn.preprocessing import LabelEncoder\n",
    "\n",
    "from operator import itemgetter\n",
    "from sklearn.neighbors import KNeighborsClassifier\n",
    "from sklearn.model_selection import train_test_split, cross_val_score\n",
    "import sklearn.metrics as skm\n"
   ]
  },
  {
   "cell_type": "markdown",
   "metadata": {},
   "source": []
  },
  {
   "cell_type": "markdown",
   "metadata": {},
   "source": [
    "## Section A - Database Management (15 Marks)\n",
    "\n",
    "You have been given the following database containing 15 tables relating to **DVD Movie Rentals**. The data contained in these tables is as follows -\n",
    "\n",
    "|  **Table**               |  **Data Description**      |\n",
    "|--------------------------|----------------------------|\n",
    "|  **actor**                   |  actors data including first name and last name     |\n",
    "|  **film**                    |  films data such as title, release year, length, rating, etc      |\n",
    "|  film_actor              |  stores the relationships between films and actors |\n",
    "|  **category**                |  stores film’s categories data |\n",
    "|  film_category           |  stores the relationships between films and categories | \n",
    "|  **store**                  |  store data including manager staff and address |\n",
    "|  **inventory**               |  stores inventory data |\n",
    "|  **rental**                  |  stores rental data |\n",
    "|  **payment**                 |  stores customer's payments |\n",
    "|  **staff**                   |  stores staff data |\n",
    "|  **customer**                |  stores customer data |\n",
    "|  **address**                 |  address data for staff and customers |\n",
    "|  **city**                    |  stores city data |\n",
    "|  **country**                 |  stores country data |\n",
    "\n",
    "Visualizing the relations between these tables can be aided by looking at the below **E-R Diagram**.\n",
    "\n",
    "<img src='./dvd_rental_er.png'>\n",
    "\n",
    "Based on your understanding of the relationships between these tables, answer the following questions by writing SQL queries to get the required data rows from the database and display them as a **Pandas dataframe**. "
   ]
  },
  {
   "cell_type": "markdown",
   "metadata": {},
   "source": [
    "***\n",
    "#### **NOTE**:\n",
    "For the following questions, in the CSIT labs you will be able to connect directly to the database using the below code within the notebook. From outside of the CSIT labs, you will need to perform SQL queries in your terminal by using [partch](https://cs.anu.edu.au/docs/student-computing-environment/linuxlabs/remoteaccess/#connectingtopartch3). Once you have the correct query, you may just fill in the boxes below.\n",
    "\n",
    "**Partch Instructions**\n",
    "1. Connect to partch as per the above hyperlink\n",
    "2. In your terminal, enter `psql` to access the sql database\n",
    "3. Enter `\\c dvdrental` to ensure you are accessing the assignment database (or simply specify dvdrental when connecting to the database server -- `psql dvdrental`).\n",
    "4. (Sanity Check) Enter `SELECT * FROM actor;` . If you receive the first row to be \"Penelope Guiness\", you should be good to go !\n",
    "***"
   ]
  },
  {
   "cell_type": "code",
   "execution_count": 3,
   "metadata": {},
   "outputs": [],
   "source": [
    "# Connect using psycopg2\n",
    "conn = psycopg2.connect(host=\"/var/run/postgresql\", database=\"dvdrental\")\n",
    "\n",
    "# Activate connection cursor\n",
    "curr = conn.cursor()"
   ]
  },
  {
   "cell_type": "code",
   "execution_count": 4,
   "metadata": {},
   "outputs": [],
   "source": [
    "def execute_sql(query):\n",
    "    # Select table and display\n",
    "    curr.execute(query)\n",
    "\n",
    "    # Fetches all the rows from the result of the query\n",
    "    rows = curr.fetchall()\n",
    "    \n",
    "    # Gets the column names for the table\n",
    "    colnames = [desc[0] for desc in curr.description]\n",
    "\n",
    "    # Converts into readable pandas dataframe\n",
    "    df_result = pd.DataFrame(rows, columns=colnames)\n",
    "    return df_result"
   ]
  },
  {
   "cell_type": "markdown",
   "metadata": {},
   "source": [
    "### 1. Write an SQL query to determine the total sales from the rentals of the film 'Affair Prejudice' from the rental store with `store_id = 2`. Your query should result in a single column called `Total Rental Cost` with the value of the total cost of all these rentals.\n",
    "<span style= 'float: right;'><b>[3 marks]</b></span>"
   ]
  },
  {
   "cell_type": "code",
   "execution_count": 5,
   "metadata": {},
   "outputs": [
    {
     "data": {
      "text/html": [
       "<div>\n",
       "<style scoped>\n",
       "    .dataframe tbody tr th:only-of-type {\n",
       "        vertical-align: middle;\n",
       "    }\n",
       "\n",
       "    .dataframe tbody tr th {\n",
       "        vertical-align: top;\n",
       "    }\n",
       "\n",
       "    .dataframe thead th {\n",
       "        text-align: right;\n",
       "    }\n",
       "</style>\n",
       "<table border=\"1\" class=\"dataframe\">\n",
       "  <thead>\n",
       "    <tr style=\"text-align: right;\">\n",
       "      <th></th>\n",
       "      <th>total_rental_cost</th>\n",
       "    </tr>\n",
       "  </thead>\n",
       "  <tbody>\n",
       "    <tr>\n",
       "      <th>0</th>\n",
       "      <td>33.91</td>\n",
       "    </tr>\n",
       "  </tbody>\n",
       "</table>\n",
       "</div>"
      ],
      "text/plain": [
       "  total_rental_cost\n",
       "0             33.91"
      ]
     },
     "execution_count": 5,
     "metadata": {},
     "output_type": "execute_result"
    }
   ],
   "source": [
    "# YOUR QUERY HERE\n",
    "query = \"SELECT sum(amount) AS Total_Rental_Cost \\\n",
    "        FROM payment \\\n",
    "        JOIN rental ON payment.rental_id = rental.rental_id \\\n",
    "        JOIN inventory ON rental.inventory_id = inventory.inventory_id \\\n",
    "        join film on inventory.film_id = film.film_id \\\n",
    "        WHERE film.title = 'Affair Prejudice' AND store_id = 2\"\n",
    "\n",
    "execute_sql(query)"
   ]
  },
  {
   "cell_type": "markdown",
   "metadata": {},
   "source": [
    "### 2. Write an SQL query to retrieve the names of all customers who rented the film ‘Affair Prejudice’ from the store with `store_id = 1`. The result of your query should display each customer's first name and last name. \n",
    "<span style= 'float: right;'><b>[3 marks]</b></span>"
   ]
  },
  {
   "cell_type": "markdown",
   "metadata": {},
   "source": [
    "Note that inventory.store_id is different from customer.store_id. In this case, we use inventory.store_id as is more about rental, while customer.store_id is more about the registration"
   ]
  },
  {
   "cell_type": "code",
   "execution_count": 6,
   "metadata": {},
   "outputs": [
    {
     "data": {
      "text/html": [
       "<div>\n",
       "<style scoped>\n",
       "    .dataframe tbody tr th:only-of-type {\n",
       "        vertical-align: middle;\n",
       "    }\n",
       "\n",
       "    .dataframe tbody tr th {\n",
       "        vertical-align: top;\n",
       "    }\n",
       "\n",
       "    .dataframe thead th {\n",
       "        text-align: right;\n",
       "    }\n",
       "</style>\n",
       "<table border=\"1\" class=\"dataframe\">\n",
       "  <thead>\n",
       "    <tr style=\"text-align: right;\">\n",
       "      <th></th>\n",
       "      <th>first_name</th>\n",
       "      <th>last_name</th>\n",
       "    </tr>\n",
       "  </thead>\n",
       "  <tbody>\n",
       "    <tr>\n",
       "      <th>0</th>\n",
       "      <td>Vivian</td>\n",
       "      <td>Ruiz</td>\n",
       "    </tr>\n",
       "    <tr>\n",
       "      <th>1</th>\n",
       "      <td>Nina</td>\n",
       "      <td>Soto</td>\n",
       "    </tr>\n",
       "    <tr>\n",
       "      <th>2</th>\n",
       "      <td>Jordan</td>\n",
       "      <td>Archuleta</td>\n",
       "    </tr>\n",
       "    <tr>\n",
       "      <th>3</th>\n",
       "      <td>Danielle</td>\n",
       "      <td>Daniels</td>\n",
       "    </tr>\n",
       "    <tr>\n",
       "      <th>4</th>\n",
       "      <td>Sue</td>\n",
       "      <td>Peters</td>\n",
       "    </tr>\n",
       "    <tr>\n",
       "      <th>5</th>\n",
       "      <td>Michael</td>\n",
       "      <td>Silverman</td>\n",
       "    </tr>\n",
       "    <tr>\n",
       "      <th>6</th>\n",
       "      <td>Jeff</td>\n",
       "      <td>East</td>\n",
       "    </tr>\n",
       "    <tr>\n",
       "      <th>7</th>\n",
       "      <td>Megan</td>\n",
       "      <td>Palmer</td>\n",
       "    </tr>\n",
       "    <tr>\n",
       "      <th>8</th>\n",
       "      <td>Eleanor</td>\n",
       "      <td>Hunt</td>\n",
       "    </tr>\n",
       "    <tr>\n",
       "      <th>9</th>\n",
       "      <td>Natalie</td>\n",
       "      <td>Meyer</td>\n",
       "    </tr>\n",
       "    <tr>\n",
       "      <th>10</th>\n",
       "      <td>Tommy</td>\n",
       "      <td>Collazo</td>\n",
       "    </tr>\n",
       "    <tr>\n",
       "      <th>11</th>\n",
       "      <td>Minnie</td>\n",
       "      <td>Romero</td>\n",
       "    </tr>\n",
       "    <tr>\n",
       "      <th>12</th>\n",
       "      <td>Carmen</td>\n",
       "      <td>Owens</td>\n",
       "    </tr>\n",
       "  </tbody>\n",
       "</table>\n",
       "</div>"
      ],
      "text/plain": [
       "   first_name  last_name\n",
       "0      Vivian       Ruiz\n",
       "1        Nina       Soto\n",
       "2      Jordan  Archuleta\n",
       "3    Danielle    Daniels\n",
       "4         Sue     Peters\n",
       "5     Michael  Silverman\n",
       "6        Jeff       East\n",
       "7       Megan     Palmer\n",
       "8     Eleanor       Hunt\n",
       "9     Natalie      Meyer\n",
       "10      Tommy    Collazo\n",
       "11     Minnie     Romero\n",
       "12     Carmen      Owens"
      ]
     },
     "execution_count": 6,
     "metadata": {},
     "output_type": "execute_result"
    }
   ],
   "source": [
    "# YOUR QUERY HERE\n",
    "query =  \"SELECT first_name, last_name from customer \\\n",
    "        JOIN rental on customer.customer_id = rental.customer_id \\\n",
    "        JOIN inventory on rental.inventory_id = inventory.inventory_id \\\n",
    "        JOIN film on inventory.film_id = film.film_id \\\n",
    "        WHERE film.title = 'Affair Prejudice' AND inventory.store_id = 1\"\n",
    "execute_sql(query)"
   ]
  },
  {
   "cell_type": "markdown",
   "metadata": {},
   "source": [
    "### 3. Write an SQL query to retrieve the names of all those customers who have a total of more than 100 dollars in recorded payments. Your query's result should include each customer's first name, last name and customer ID. \n",
    "<span style= 'float: right;'><b>[4 marks]</b></span>"
   ]
  },
  {
   "cell_type": "code",
   "execution_count": 7,
   "metadata": {},
   "outputs": [
    {
     "data": {
      "text/html": [
       "<div>\n",
       "<style scoped>\n",
       "    .dataframe tbody tr th:only-of-type {\n",
       "        vertical-align: middle;\n",
       "    }\n",
       "\n",
       "    .dataframe tbody tr th {\n",
       "        vertical-align: top;\n",
       "    }\n",
       "\n",
       "    .dataframe thead th {\n",
       "        text-align: right;\n",
       "    }\n",
       "</style>\n",
       "<table border=\"1\" class=\"dataframe\">\n",
       "  <thead>\n",
       "    <tr style=\"text-align: right;\">\n",
       "      <th></th>\n",
       "      <th>first_name</th>\n",
       "      <th>last_name</th>\n",
       "      <th>customer_id</th>\n",
       "    </tr>\n",
       "  </thead>\n",
       "  <tbody>\n",
       "    <tr>\n",
       "      <th>0</th>\n",
       "      <td>Wanda</td>\n",
       "      <td>Patterson</td>\n",
       "      <td>87</td>\n",
       "    </tr>\n",
       "    <tr>\n",
       "      <th>1</th>\n",
       "      <td>Dan</td>\n",
       "      <td>Paine</td>\n",
       "      <td>477</td>\n",
       "    </tr>\n",
       "    <tr>\n",
       "      <th>2</th>\n",
       "      <td>Priscilla</td>\n",
       "      <td>Lowe</td>\n",
       "      <td>273</td>\n",
       "    </tr>\n",
       "    <tr>\n",
       "      <th>3</th>\n",
       "      <td>Guy</td>\n",
       "      <td>Brownlee</td>\n",
       "      <td>550</td>\n",
       "    </tr>\n",
       "    <tr>\n",
       "      <th>4</th>\n",
       "      <td>Alice</td>\n",
       "      <td>Stewart</td>\n",
       "      <td>51</td>\n",
       "    </tr>\n",
       "    <tr>\n",
       "      <th>5</th>\n",
       "      <td>Yolanda</td>\n",
       "      <td>Weaver</td>\n",
       "      <td>190</td>\n",
       "    </tr>\n",
       "    <tr>\n",
       "      <th>6</th>\n",
       "      <td>Kyle</td>\n",
       "      <td>Spurlock</td>\n",
       "      <td>424</td>\n",
       "    </tr>\n",
       "    <tr>\n",
       "      <th>7</th>\n",
       "      <td>Nathan</td>\n",
       "      <td>Runyon</td>\n",
       "      <td>406</td>\n",
       "    </tr>\n",
       "    <tr>\n",
       "      <th>8</th>\n",
       "      <td>June</td>\n",
       "      <td>Carroll</td>\n",
       "      <td>176</td>\n",
       "    </tr>\n",
       "    <tr>\n",
       "      <th>9</th>\n",
       "      <td>Morris</td>\n",
       "      <td>Mccarter</td>\n",
       "      <td>576</td>\n",
       "    </tr>\n",
       "    <tr>\n",
       "      <th>10</th>\n",
       "      <td>Christopher</td>\n",
       "      <td>Greco</td>\n",
       "      <td>309</td>\n",
       "    </tr>\n",
       "    <tr>\n",
       "      <th>11</th>\n",
       "      <td>Misty</td>\n",
       "      <td>Lambert</td>\n",
       "      <td>292</td>\n",
       "    </tr>\n",
       "    <tr>\n",
       "      <th>12</th>\n",
       "      <td>Erik</td>\n",
       "      <td>Guillen</td>\n",
       "      <td>529</td>\n",
       "    </tr>\n",
       "    <tr>\n",
       "      <th>13</th>\n",
       "      <td>Audrey</td>\n",
       "      <td>Ray</td>\n",
       "      <td>173</td>\n",
       "    </tr>\n",
       "    <tr>\n",
       "      <th>14</th>\n",
       "      <td>Shawn</td>\n",
       "      <td>Heaton</td>\n",
       "      <td>390</td>\n",
       "    </tr>\n",
       "    <tr>\n",
       "      <th>15</th>\n",
       "      <td>Brett</td>\n",
       "      <td>Cornwell</td>\n",
       "      <td>502</td>\n",
       "    </tr>\n",
       "    <tr>\n",
       "      <th>16</th>\n",
       "      <td>Carolyn</td>\n",
       "      <td>Perez</td>\n",
       "      <td>42</td>\n",
       "    </tr>\n",
       "    <tr>\n",
       "      <th>17</th>\n",
       "      <td>Marsha</td>\n",
       "      <td>Douglas</td>\n",
       "      <td>257</td>\n",
       "    </tr>\n",
       "    <tr>\n",
       "      <th>18</th>\n",
       "      <td>Ethel</td>\n",
       "      <td>Webb</td>\n",
       "      <td>125</td>\n",
       "    </tr>\n",
       "    <tr>\n",
       "      <th>19</th>\n",
       "      <td>Cindy</td>\n",
       "      <td>Fisher</td>\n",
       "      <td>113</td>\n",
       "    </tr>\n",
       "    <tr>\n",
       "      <th>20</th>\n",
       "      <td>Amanda</td>\n",
       "      <td>Carter</td>\n",
       "      <td>40</td>\n",
       "    </tr>\n",
       "    <tr>\n",
       "      <th>21</th>\n",
       "      <td>Sergio</td>\n",
       "      <td>Stanfield</td>\n",
       "      <td>587</td>\n",
       "    </tr>\n",
       "    <tr>\n",
       "      <th>22</th>\n",
       "      <td>Sylvia</td>\n",
       "      <td>Ortiz</td>\n",
       "      <td>120</td>\n",
       "    </tr>\n",
       "    <tr>\n",
       "      <th>23</th>\n",
       "      <td>Brittany</td>\n",
       "      <td>Riley</td>\n",
       "      <td>187</td>\n",
       "    </tr>\n",
       "    <tr>\n",
       "      <th>24</th>\n",
       "      <td>Joe</td>\n",
       "      <td>Gilliland</td>\n",
       "      <td>349</td>\n",
       "    </tr>\n",
       "    <tr>\n",
       "      <th>25</th>\n",
       "      <td>Erin</td>\n",
       "      <td>Dunn</td>\n",
       "      <td>160</td>\n",
       "    </tr>\n",
       "    <tr>\n",
       "      <th>26</th>\n",
       "      <td>Leslie</td>\n",
       "      <td>Seward</td>\n",
       "      <td>506</td>\n",
       "    </tr>\n",
       "    <tr>\n",
       "      <th>27</th>\n",
       "      <td>Milton</td>\n",
       "      <td>Howland</td>\n",
       "      <td>508</td>\n",
       "    </tr>\n",
       "    <tr>\n",
       "      <th>28</th>\n",
       "      <td>Glenda</td>\n",
       "      <td>Frazier</td>\n",
       "      <td>242</td>\n",
       "    </tr>\n",
       "    <tr>\n",
       "      <th>29</th>\n",
       "      <td>Eric</td>\n",
       "      <td>Robert</td>\n",
       "      <td>331</td>\n",
       "    </tr>\n",
       "    <tr>\n",
       "      <th>...</th>\n",
       "      <td>...</td>\n",
       "      <td>...</td>\n",
       "      <td>...</td>\n",
       "    </tr>\n",
       "    <tr>\n",
       "      <th>266</th>\n",
       "      <td>Janet</td>\n",
       "      <td>Phillips</td>\n",
       "      <td>45</td>\n",
       "    </tr>\n",
       "    <tr>\n",
       "      <th>267</th>\n",
       "      <td>Daisy</td>\n",
       "      <td>Bates</td>\n",
       "      <td>295</td>\n",
       "    </tr>\n",
       "    <tr>\n",
       "      <th>268</th>\n",
       "      <td>Gina</td>\n",
       "      <td>Williamson</td>\n",
       "      <td>213</td>\n",
       "    </tr>\n",
       "    <tr>\n",
       "      <th>269</th>\n",
       "      <td>Naomi</td>\n",
       "      <td>Jennings</td>\n",
       "      <td>274</td>\n",
       "    </tr>\n",
       "    <tr>\n",
       "      <th>270</th>\n",
       "      <td>Cathy</td>\n",
       "      <td>Spencer</td>\n",
       "      <td>163</td>\n",
       "    </tr>\n",
       "    <tr>\n",
       "      <th>271</th>\n",
       "      <td>Bessie</td>\n",
       "      <td>Morrison</td>\n",
       "      <td>221</td>\n",
       "    </tr>\n",
       "    <tr>\n",
       "      <th>272</th>\n",
       "      <td>Nicholas</td>\n",
       "      <td>Barfield</td>\n",
       "      <td>362</td>\n",
       "    </tr>\n",
       "    <tr>\n",
       "      <th>273</th>\n",
       "      <td>Crystal</td>\n",
       "      <td>Ford</td>\n",
       "      <td>102</td>\n",
       "    </tr>\n",
       "    <tr>\n",
       "      <th>274</th>\n",
       "      <td>Veronica</td>\n",
       "      <td>Stone</td>\n",
       "      <td>158</td>\n",
       "    </tr>\n",
       "    <tr>\n",
       "      <th>275</th>\n",
       "      <td>Eduardo</td>\n",
       "      <td>Hiatt</td>\n",
       "      <td>594</td>\n",
       "    </tr>\n",
       "    <tr>\n",
       "      <th>276</th>\n",
       "      <td>Jessie</td>\n",
       "      <td>Milam</td>\n",
       "      <td>533</td>\n",
       "    </tr>\n",
       "    <tr>\n",
       "      <th>277</th>\n",
       "      <td>Marc</td>\n",
       "      <td>Outlaw</td>\n",
       "      <td>499</td>\n",
       "    </tr>\n",
       "    <tr>\n",
       "      <th>278</th>\n",
       "      <td>Jennie</td>\n",
       "      <td>Terry</td>\n",
       "      <td>265</td>\n",
       "    </tr>\n",
       "    <tr>\n",
       "      <th>279</th>\n",
       "      <td>Tommy</td>\n",
       "      <td>Collazo</td>\n",
       "      <td>459</td>\n",
       "    </tr>\n",
       "    <tr>\n",
       "      <th>280</th>\n",
       "      <td>Sandra</td>\n",
       "      <td>Martin</td>\n",
       "      <td>16</td>\n",
       "    </tr>\n",
       "    <tr>\n",
       "      <th>281</th>\n",
       "      <td>Gertrude</td>\n",
       "      <td>Castillo</td>\n",
       "      <td>207</td>\n",
       "    </tr>\n",
       "    <tr>\n",
       "      <th>282</th>\n",
       "      <td>Billy</td>\n",
       "      <td>Poulin</td>\n",
       "      <td>371</td>\n",
       "    </tr>\n",
       "    <tr>\n",
       "      <th>283</th>\n",
       "      <td>Darlene</td>\n",
       "      <td>Rose</td>\n",
       "      <td>157</td>\n",
       "    </tr>\n",
       "    <tr>\n",
       "      <th>284</th>\n",
       "      <td>Robin</td>\n",
       "      <td>Hayes</td>\n",
       "      <td>100</td>\n",
       "    </tr>\n",
       "    <tr>\n",
       "      <th>285</th>\n",
       "      <td>Rhonda</td>\n",
       "      <td>Kennedy</td>\n",
       "      <td>137</td>\n",
       "    </tr>\n",
       "    <tr>\n",
       "      <th>286</th>\n",
       "      <td>Lee</td>\n",
       "      <td>Hawks</td>\n",
       "      <td>421</td>\n",
       "    </tr>\n",
       "    <tr>\n",
       "      <th>287</th>\n",
       "      <td>Deborah</td>\n",
       "      <td>Walker</td>\n",
       "      <td>25</td>\n",
       "    </tr>\n",
       "    <tr>\n",
       "      <th>288</th>\n",
       "      <td>Debbie</td>\n",
       "      <td>Reyes</td>\n",
       "      <td>141</td>\n",
       "    </tr>\n",
       "    <tr>\n",
       "      <th>289</th>\n",
       "      <td>Thelma</td>\n",
       "      <td>Murray</td>\n",
       "      <td>122</td>\n",
       "    </tr>\n",
       "    <tr>\n",
       "      <th>290</th>\n",
       "      <td>Joyce</td>\n",
       "      <td>Edwards</td>\n",
       "      <td>49</td>\n",
       "    </tr>\n",
       "    <tr>\n",
       "      <th>291</th>\n",
       "      <td>Eddie</td>\n",
       "      <td>Tomlin</td>\n",
       "      <td>434</td>\n",
       "    </tr>\n",
       "    <tr>\n",
       "      <th>292</th>\n",
       "      <td>Stacey</td>\n",
       "      <td>Montgomery</td>\n",
       "      <td>211</td>\n",
       "    </tr>\n",
       "    <tr>\n",
       "      <th>293</th>\n",
       "      <td>Fernando</td>\n",
       "      <td>Churchill</td>\n",
       "      <td>536</td>\n",
       "    </tr>\n",
       "    <tr>\n",
       "      <th>294</th>\n",
       "      <td>Mitchell</td>\n",
       "      <td>Westmoreland</td>\n",
       "      <td>520</td>\n",
       "    </tr>\n",
       "    <tr>\n",
       "      <th>295</th>\n",
       "      <td>Eleanor</td>\n",
       "      <td>Hunt</td>\n",
       "      <td>148</td>\n",
       "    </tr>\n",
       "  </tbody>\n",
       "</table>\n",
       "<p>296 rows × 3 columns</p>\n",
       "</div>"
      ],
      "text/plain": [
       "      first_name     last_name  customer_id\n",
       "0          Wanda     Patterson           87\n",
       "1            Dan         Paine          477\n",
       "2      Priscilla          Lowe          273\n",
       "3            Guy      Brownlee          550\n",
       "4          Alice       Stewart           51\n",
       "5        Yolanda        Weaver          190\n",
       "6           Kyle      Spurlock          424\n",
       "7         Nathan        Runyon          406\n",
       "8           June       Carroll          176\n",
       "9         Morris      Mccarter          576\n",
       "10   Christopher         Greco          309\n",
       "11         Misty       Lambert          292\n",
       "12          Erik       Guillen          529\n",
       "13        Audrey           Ray          173\n",
       "14         Shawn        Heaton          390\n",
       "15         Brett      Cornwell          502\n",
       "16       Carolyn         Perez           42\n",
       "17        Marsha       Douglas          257\n",
       "18         Ethel          Webb          125\n",
       "19         Cindy        Fisher          113\n",
       "20        Amanda        Carter           40\n",
       "21        Sergio     Stanfield          587\n",
       "22        Sylvia         Ortiz          120\n",
       "23      Brittany         Riley          187\n",
       "24           Joe     Gilliland          349\n",
       "25          Erin          Dunn          160\n",
       "26        Leslie        Seward          506\n",
       "27        Milton       Howland          508\n",
       "28        Glenda       Frazier          242\n",
       "29          Eric        Robert          331\n",
       "..           ...           ...          ...\n",
       "266        Janet      Phillips           45\n",
       "267        Daisy         Bates          295\n",
       "268         Gina    Williamson          213\n",
       "269        Naomi      Jennings          274\n",
       "270        Cathy       Spencer          163\n",
       "271       Bessie      Morrison          221\n",
       "272     Nicholas      Barfield          362\n",
       "273      Crystal          Ford          102\n",
       "274     Veronica         Stone          158\n",
       "275      Eduardo         Hiatt          594\n",
       "276       Jessie         Milam          533\n",
       "277         Marc        Outlaw          499\n",
       "278       Jennie         Terry          265\n",
       "279        Tommy       Collazo          459\n",
       "280       Sandra        Martin           16\n",
       "281     Gertrude      Castillo          207\n",
       "282        Billy        Poulin          371\n",
       "283      Darlene          Rose          157\n",
       "284        Robin         Hayes          100\n",
       "285       Rhonda       Kennedy          137\n",
       "286          Lee         Hawks          421\n",
       "287      Deborah        Walker           25\n",
       "288       Debbie         Reyes          141\n",
       "289       Thelma        Murray          122\n",
       "290        Joyce       Edwards           49\n",
       "291        Eddie        Tomlin          434\n",
       "292       Stacey    Montgomery          211\n",
       "293     Fernando     Churchill          536\n",
       "294     Mitchell  Westmoreland          520\n",
       "295      Eleanor          Hunt          148\n",
       "\n",
       "[296 rows x 3 columns]"
      ]
     },
     "execution_count": 7,
     "metadata": {},
     "output_type": "execute_result"
    }
   ],
   "source": [
    "# YOUR QUERY HERE\n",
    "#query = \"SELECT customer.first_name AS firstName, customer.last_name AS lastName, customer.customer_id AS customerID FROM customer JOIN rental ON customer.customer_id=rental.customer_id JOIN payment ON rental.rental_id=payment.rental_id GROUP BY customer.first_name, customer.last_name, customer.customer_id HAVING SUM(payment.amount) > 100\"\n",
    "query = \"SELECT first_name, last_name, customer.customer_id \\\n",
    "        FROM customer \\\n",
    "        INNER JOIN payment ON customer.customer_id = payment.customer_id  \\\n",
    "        GROUP BY customer.customer_id \\\n",
    "        HAVING SUM(payment.amount) > 100\"\n",
    "execute_sql(query)"
   ]
  },
  {
   "cell_type": "markdown",
   "metadata": {},
   "source": [
    "### 4. Write an SQL query to retrieve the names of all customers who have rented the movie ‘Angels Life’ from *both* stores with `store_id = 1` and `store_id = 2`. Your query's result should include each customer's first name, last name and customer ID.\n",
    "<span style= 'float: right;'><b>[5 marks]</b></span>"
   ]
  },
  {
   "cell_type": "code",
   "execution_count": 8,
   "metadata": {},
   "outputs": [
    {
     "data": {
      "text/html": [
       "<div>\n",
       "<style scoped>\n",
       "    .dataframe tbody tr th:only-of-type {\n",
       "        vertical-align: middle;\n",
       "    }\n",
       "\n",
       "    .dataframe tbody tr th {\n",
       "        vertical-align: top;\n",
       "    }\n",
       "\n",
       "    .dataframe thead th {\n",
       "        text-align: right;\n",
       "    }\n",
       "</style>\n",
       "<table border=\"1\" class=\"dataframe\">\n",
       "  <thead>\n",
       "    <tr style=\"text-align: right;\">\n",
       "      <th></th>\n",
       "      <th>first_name</th>\n",
       "      <th>last_name</th>\n",
       "      <th>customer_id</th>\n",
       "    </tr>\n",
       "  </thead>\n",
       "  <tbody>\n",
       "    <tr>\n",
       "      <th>0</th>\n",
       "      <td>Cathy</td>\n",
       "      <td>Spencer</td>\n",
       "      <td>163</td>\n",
       "    </tr>\n",
       "  </tbody>\n",
       "</table>\n",
       "</div>"
      ],
      "text/plain": [
       "  first_name last_name  customer_id\n",
       "0      Cathy   Spencer          163"
      ]
     },
     "execution_count": 8,
     "metadata": {},
     "output_type": "execute_result"
    }
   ],
   "source": [
    "# YOUR QUERY HERE\n",
    "\n",
    "query = \"SELECT first_name, last_name, customer.customer_id FROM customer \\\n",
    "        JOIN rental on customer.customer_id = rental.customer_id \\\n",
    "        JOIN inventory on rental.inventory_id = inventory.inventory_id \\\n",
    "        JOIN film on inventory.film_id = film.film_id \\\n",
    "        WHERE film.title = 'Angels Life' \\\n",
    "        GROUP BY first_name, last_name, customer.customer_id \\\n",
    "        HAVING COUNT (*) > 1\"\n",
    "execute_sql(query)"
   ]
  },
  {
   "cell_type": "markdown",
   "metadata": {},
   "source": [
    "***"
   ]
  },
  {
   "cell_type": "markdown",
   "metadata": {},
   "source": [
    "## Section B - Data Acquisition (20 Marks)\n",
    "\n",
    "In this section, you need to read and import the data from the database into Python and make it ready to be used by your machine learning algorithms in the next section. **Your task here is to load the required columns from the various appropriate tables in the database to fuel the data required to train your machine learning models in the next section.** You can load the required data into one or more Pandas dataframes, to suit the the needs of different Machine Learning models in Section C. \n",
    "\n",
    "If you fail to do so, or an error in the previous section is preventing you from doing so, we can provide you with a **CSV of the required data**. If you choose to use this CSV, you will not receive any marks for this section, but you'll be able to do the following section without having to spend time on this section.  \n",
    "\n",
    "<span style='color:red;'><b>Note:</b> While you are provided the .csv files to use for development of the later questions at home, you must submit a copy of the code that can read the database to receive marks for this section.</span>\n",
    "<span style= 'float: right;'><b>[20 marks]</b></span>"
   ]
  },
  {
   "cell_type": "code",
   "execution_count": 9,
   "metadata": {},
   "outputs": [
    {
     "data": {
      "text/html": [
       "<div>\n",
       "<style scoped>\n",
       "    .dataframe tbody tr th:only-of-type {\n",
       "        vertical-align: middle;\n",
       "    }\n",
       "\n",
       "    .dataframe tbody tr th {\n",
       "        vertical-align: top;\n",
       "    }\n",
       "\n",
       "    .dataframe thead th {\n",
       "        text-align: right;\n",
       "    }\n",
       "</style>\n",
       "<table border=\"1\" class=\"dataframe\">\n",
       "  <thead>\n",
       "    <tr style=\"text-align: right;\">\n",
       "      <th></th>\n",
       "      <th>rental_id</th>\n",
       "      <th>film_id</th>\n",
       "      <th>customer_id</th>\n",
       "      <th>rental_rate</th>\n",
       "      <th>rating</th>\n",
       "      <th>category_id</th>\n",
       "      <th>actor_id</th>\n",
       "      <th>amount</th>\n",
       "    </tr>\n",
       "  </thead>\n",
       "  <tbody>\n",
       "    <tr>\n",
       "      <th>0</th>\n",
       "      <td>1520</td>\n",
       "      <td>749</td>\n",
       "      <td>341</td>\n",
       "      <td>4.99</td>\n",
       "      <td>R</td>\n",
       "      <td>11</td>\n",
       "      <td>161.0</td>\n",
       "      <td>7.99</td>\n",
       "    </tr>\n",
       "    <tr>\n",
       "      <th>1</th>\n",
       "      <td>1520</td>\n",
       "      <td>749</td>\n",
       "      <td>341</td>\n",
       "      <td>4.99</td>\n",
       "      <td>R</td>\n",
       "      <td>11</td>\n",
       "      <td>127.0</td>\n",
       "      <td>7.99</td>\n",
       "    </tr>\n",
       "    <tr>\n",
       "      <th>2</th>\n",
       "      <td>1520</td>\n",
       "      <td>749</td>\n",
       "      <td>341</td>\n",
       "      <td>4.99</td>\n",
       "      <td>R</td>\n",
       "      <td>11</td>\n",
       "      <td>77.0</td>\n",
       "      <td>7.99</td>\n",
       "    </tr>\n",
       "    <tr>\n",
       "      <th>3</th>\n",
       "      <td>1520</td>\n",
       "      <td>749</td>\n",
       "      <td>341</td>\n",
       "      <td>4.99</td>\n",
       "      <td>R</td>\n",
       "      <td>11</td>\n",
       "      <td>59.0</td>\n",
       "      <td>7.99</td>\n",
       "    </tr>\n",
       "    <tr>\n",
       "      <th>4</th>\n",
       "      <td>1520</td>\n",
       "      <td>749</td>\n",
       "      <td>341</td>\n",
       "      <td>4.99</td>\n",
       "      <td>R</td>\n",
       "      <td>11</td>\n",
       "      <td>1.0</td>\n",
       "      <td>7.99</td>\n",
       "    </tr>\n",
       "  </tbody>\n",
       "</table>\n",
       "</div>"
      ],
      "text/plain": [
       "   rental_id  film_id  customer_id  rental_rate rating  category_id  actor_id  \\\n",
       "0       1520      749          341         4.99      R           11     161.0   \n",
       "1       1520      749          341         4.99      R           11     127.0   \n",
       "2       1520      749          341         4.99      R           11      77.0   \n",
       "3       1520      749          341         4.99      R           11      59.0   \n",
       "4       1520      749          341         4.99      R           11       1.0   \n",
       "\n",
       "   amount  \n",
       "0    7.99  \n",
       "1    7.99  \n",
       "2    7.99  \n",
       "3    7.99  \n",
       "4    7.99  "
      ]
     },
     "execution_count": 9,
     "metadata": {},
     "output_type": "execute_result"
    }
   ],
   "source": [
    "\n",
    "query_data= pd.read_sql_query(\"SELECT rental.rental_id, inventory.film_id, rental.customer_id, rental_rate, rating,film_category.category_id, film_actor.actor_id , payment.amount \\\n",
    "        FROM rental \\\n",
    "        LEFT OUTER JOIN payment ON rental.rental_id = payment.rental_id\\\n",
    "        LEFT OUTER JOIN inventory ON rental.inventory_id = inventory.inventory_id \\\n",
    "        LEFT OUTER JOIN film ON film.film_id = inventory.film_id \\\n",
    "        LEFT OUTER JOIN film_actor ON film.film_id = film_actor.film_id \\\n",
    "        LEFT OUTER JOIN actor ON film_actor.actor_id = actor.actor_id \\\n",
    "        LEFT OUTER JOIN film_category ON film.film_id = film_category.film_id \", conn)\n",
    "\n",
    "master_df = pd.DataFrame(query_data)\n",
    "\n",
    "\n",
    "\n",
    "master_df.head()\n"
   ]
  },
  {
   "cell_type": "markdown",
   "metadata": {},
   "source": [
    "To cluster the customer, we decided to consider the following aspect\n",
    "\n",
    "Cluster based on purchasing power: look at the total number of movie rented and total money each customer spent\n",
    "Cluster based on preference: Look at the rating and category that each customer prefers\n",
    "Hence, for clustering, we would like to import rental_id, customer_id, rating, amount and catergory_id.\n",
    "\n",
    "From rental_id, we can determine how many movies that each customer rented by counting the number of rental id that associated to each customer.\n",
    "For customer_id, we can use that to identify and aggregate the data for each customer.\n",
    "Rating and catogery give insight to customer's preference\n",
    "The sum of amount associated to each customer_id will give us the total spending of each customer."
   ]
  },
  {
   "cell_type": "code",
   "execution_count": 10,
   "metadata": {},
   "outputs": [
    {
     "data": {
      "text/html": [
       "<div>\n",
       "<style scoped>\n",
       "    .dataframe tbody tr th:only-of-type {\n",
       "        vertical-align: middle;\n",
       "    }\n",
       "\n",
       "    .dataframe tbody tr th {\n",
       "        vertical-align: top;\n",
       "    }\n",
       "\n",
       "    .dataframe thead th {\n",
       "        text-align: right;\n",
       "    }\n",
       "</style>\n",
       "<table border=\"1\" class=\"dataframe\">\n",
       "  <thead>\n",
       "    <tr style=\"text-align: right;\">\n",
       "      <th></th>\n",
       "      <th>rental_id</th>\n",
       "      <th>customer_id</th>\n",
       "      <th>amount</th>\n",
       "      <th>rating</th>\n",
       "      <th>category_id</th>\n",
       "    </tr>\n",
       "  </thead>\n",
       "  <tbody>\n",
       "    <tr>\n",
       "      <th>0</th>\n",
       "      <td>1422</td>\n",
       "      <td>1</td>\n",
       "      <td>0.99</td>\n",
       "      <td>PG-13</td>\n",
       "      <td>4</td>\n",
       "    </tr>\n",
       "    <tr>\n",
       "      <th>1</th>\n",
       "      <td>15298</td>\n",
       "      <td>1</td>\n",
       "      <td>2.99</td>\n",
       "      <td>PG</td>\n",
       "      <td>5</td>\n",
       "    </tr>\n",
       "    <tr>\n",
       "      <th>2</th>\n",
       "      <td>14825</td>\n",
       "      <td>1</td>\n",
       "      <td>1.99</td>\n",
       "      <td>PG</td>\n",
       "      <td>5</td>\n",
       "    </tr>\n",
       "    <tr>\n",
       "      <th>3</th>\n",
       "      <td>573</td>\n",
       "      <td>1</td>\n",
       "      <td>NaN</td>\n",
       "      <td>PG</td>\n",
       "      <td>15</td>\n",
       "    </tr>\n",
       "    <tr>\n",
       "      <th>4</th>\n",
       "      <td>13176</td>\n",
       "      <td>1</td>\n",
       "      <td>2.99</td>\n",
       "      <td>G</td>\n",
       "      <td>13</td>\n",
       "    </tr>\n",
       "  </tbody>\n",
       "</table>\n",
       "</div>"
      ],
      "text/plain": [
       "   rental_id  customer_id  amount rating  category_id\n",
       "0       1422            1    0.99  PG-13            4\n",
       "1      15298            1    2.99     PG            5\n",
       "2      14825            1    1.99     PG            5\n",
       "3        573            1     NaN     PG           15\n",
       "4      13176            1    2.99      G           13"
      ]
     },
     "execution_count": 10,
     "metadata": {},
     "output_type": "execute_result"
    }
   ],
   "source": [
    "#data preprocessing for section C - part 1.2\n",
    "\n",
    "data_part12 = master_df[['rental_id','customer_id','amount','rating','category_id']]\n",
    "data_part12a = data_part12.drop_duplicates()\n",
    "\n",
    "#reorganize data and reindex so that we can merge with other data_frame based on index (as we slice the data)\n",
    "\n",
    "data_part12b = data_part12a.sort_values('customer_id').reset_index().drop(['index'],axis =1)\n",
    "data_part12b.head()"
   ]
  },
  {
   "cell_type": "markdown",
   "metadata": {},
   "source": [
    "We decided to used one hot encoding for rating instead of using label encoding. If we used label encoding (1 to 5), the model might misunderstand that there are some kinds of order (1<2<3<4<5) exists in the dataset for rating."
   ]
  },
  {
   "cell_type": "code",
   "execution_count": 11,
   "metadata": {},
   "outputs": [
    {
     "name": "stdout",
     "output_type": "stream",
     "text": [
      "[[0. 0. 0. 1. 0.]\n",
      " [0. 0. 1. 0. 0.]\n",
      " [0. 0. 1. 0. 0.]\n",
      " ...\n",
      " [0. 0. 0. 0. 1.]\n",
      " [0. 1. 0. 0. 0.]\n",
      " [0. 1. 0. 0. 0.]]\n"
     ]
    }
   ],
   "source": [
    "#using one hot encoding\n",
    "\n",
    "label_encoder = LabelEncoder()\n",
    "integer_encoded = label_encoder.fit_transform(data_part12b['rating'])\n",
    "\n",
    "# binary encode\n",
    "onehot_encoder = OneHotEncoder(sparse=False)\n",
    "integer_encoded = integer_encoded.reshape(len(integer_encoded), 1)\n",
    "onehot_encoded = onehot_encoder.fit_transform(integer_encoded)\n",
    "print(onehot_encoded)"
   ]
  },
  {
   "cell_type": "markdown",
   "metadata": {},
   "source": [
    "After that, we merged the newly created encoded rating to the dataframe pre-processed earlier using merge function."
   ]
  },
  {
   "cell_type": "code",
   "execution_count": 12,
   "metadata": {},
   "outputs": [],
   "source": [
    "rating_hot_encoded = pd.DataFrame(columns=[\"G\", \"NC-17\", \"PG\", \"PG-13\", \"R\"], data=onehot_encoded)\n",
    "\n",
    "data_part12c = pd.merge(data_part12b, rating_hot_encoded, left_index = True, right_index = True)\n"
   ]
  },
  {
   "cell_type": "markdown",
   "metadata": {},
   "source": [
    "After getting the data for all the rentals made by all the customers in our database, we aggregated the data to a dataframe represents all rentals/ transactions made by each customer. \n",
    "\n",
    "We grouped rentals made by each customer using their customer ID. Regarding to the \"amount\" column, the sum of all observartions will return total money spent by each customer. Furthermore, the total number of rental_id for each customer will represent the total number of rentals that they made. For the 5 new values of rating, we summed all the columns up, so that we will see the distributions of rating for all the movie that each customer rents. Lastly, for category_id, we count the number of unique values that each customer rent to see if customer watch a narrow or diverse range of genres"
   ]
  },
  {
   "cell_type": "code",
   "execution_count": 13,
   "metadata": {},
   "outputs": [
    {
     "data": {
      "text/html": [
       "<div>\n",
       "<style scoped>\n",
       "    .dataframe tbody tr th:only-of-type {\n",
       "        vertical-align: middle;\n",
       "    }\n",
       "\n",
       "    .dataframe tbody tr th {\n",
       "        vertical-align: top;\n",
       "    }\n",
       "\n",
       "    .dataframe thead th {\n",
       "        text-align: right;\n",
       "    }\n",
       "</style>\n",
       "<table border=\"1\" class=\"dataframe\">\n",
       "  <thead>\n",
       "    <tr style=\"text-align: right;\">\n",
       "      <th></th>\n",
       "      <th>amount</th>\n",
       "      <th>category_id</th>\n",
       "      <th>rental_id</th>\n",
       "      <th>PG-13</th>\n",
       "      <th>NC-17</th>\n",
       "      <th>PG</th>\n",
       "      <th>R</th>\n",
       "      <th>G</th>\n",
       "    </tr>\n",
       "    <tr>\n",
       "      <th>customer_id</th>\n",
       "      <th></th>\n",
       "      <th></th>\n",
       "      <th></th>\n",
       "      <th></th>\n",
       "      <th></th>\n",
       "      <th></th>\n",
       "      <th></th>\n",
       "      <th></th>\n",
       "    </tr>\n",
       "  </thead>\n",
       "  <tbody>\n",
       "    <tr>\n",
       "      <th>1</th>\n",
       "      <td>114.70</td>\n",
       "      <td>14</td>\n",
       "      <td>32</td>\n",
       "      <td>6.0</td>\n",
       "      <td>9.0</td>\n",
       "      <td>9.0</td>\n",
       "      <td>5.0</td>\n",
       "      <td>3.0</td>\n",
       "    </tr>\n",
       "    <tr>\n",
       "      <th>2</th>\n",
       "      <td>123.74</td>\n",
       "      <td>13</td>\n",
       "      <td>27</td>\n",
       "      <td>7.0</td>\n",
       "      <td>6.0</td>\n",
       "      <td>6.0</td>\n",
       "      <td>4.0</td>\n",
       "      <td>4.0</td>\n",
       "    </tr>\n",
       "    <tr>\n",
       "      <th>3</th>\n",
       "      <td>130.76</td>\n",
       "      <td>13</td>\n",
       "      <td>26</td>\n",
       "      <td>5.0</td>\n",
       "      <td>1.0</td>\n",
       "      <td>2.0</td>\n",
       "      <td>12.0</td>\n",
       "      <td>6.0</td>\n",
       "    </tr>\n",
       "    <tr>\n",
       "      <th>4</th>\n",
       "      <td>81.78</td>\n",
       "      <td>14</td>\n",
       "      <td>22</td>\n",
       "      <td>5.0</td>\n",
       "      <td>1.0</td>\n",
       "      <td>5.0</td>\n",
       "      <td>4.0</td>\n",
       "      <td>7.0</td>\n",
       "    </tr>\n",
       "    <tr>\n",
       "      <th>5</th>\n",
       "      <td>134.65</td>\n",
       "      <td>15</td>\n",
       "      <td>38</td>\n",
       "      <td>8.0</td>\n",
       "      <td>8.0</td>\n",
       "      <td>10.0</td>\n",
       "      <td>9.0</td>\n",
       "      <td>3.0</td>\n",
       "    </tr>\n",
       "  </tbody>\n",
       "</table>\n",
       "</div>"
      ],
      "text/plain": [
       "             amount  category_id  rental_id  PG-13  NC-17    PG     R    G\n",
       "customer_id                                                               \n",
       "1            114.70           14         32    6.0    9.0   9.0   5.0  3.0\n",
       "2            123.74           13         27    7.0    6.0   6.0   4.0  4.0\n",
       "3            130.76           13         26    5.0    1.0   2.0  12.0  6.0\n",
       "4             81.78           14         22    5.0    1.0   5.0   4.0  7.0\n",
       "5            134.65           15         38    8.0    8.0  10.0   9.0  3.0"
      ]
     },
     "execution_count": 13,
     "metadata": {},
     "output_type": "execute_result"
    }
   ],
   "source": [
    "data_part12d = data_part12c.groupby(['customer_id']).agg({'amount': 'sum', 'category_id' :lambda x: x.nunique(), \\\n",
    "                                                             'rental_id':'count','PG-13' : 'sum','NC-17' : 'sum','PG' : 'sum','R' : 'sum','G' : 'sum'})\n",
    "data_part12d.head()"
   ]
  },
  {
   "cell_type": "code",
   "execution_count": 14,
   "metadata": {},
   "outputs": [],
   "source": [
    "#change the name of rental_id column to total_rent, to accurately reflects what the column represents\n",
    "\n",
    "data_part12d.rename(columns={\"rental_id\": \"total_rent\"}, inplace=True)\n"
   ]
  },
  {
   "cell_type": "markdown",
   "metadata": {},
   "source": [
    "***"
   ]
  },
  {
   "cell_type": "markdown",
   "metadata": {},
   "source": [
    "## Section C - Machine Learning (55 Marks)\n",
    "<span style='color:purple;'><b>Note:</b> We have provided the .csv outputs for the files to use in these questions if you are working on the assignment at home. Please note if any of these questions refer to those csvs and not the data from Section B in your submitted assignment, you will receive no marks for Section B.</span>"
   ]
  },
  {
   "cell_type": "markdown",
   "metadata": {},
   "source": [
    "### Part 1 - Clustering (25 Marks)"
   ]
  },
  {
   "cell_type": "markdown",
   "metadata": {},
   "source": [
    "### Part 1.1 - Clustering Short Answers (8 Marks)"
   ]
  },
  {
   "cell_type": "markdown",
   "metadata": {},
   "source": [
    "#### 1. Can a Decision Tree be used to perform clustering? If so, explain how. If not, provide a counterexample showing how it is not suitable for the function.\n",
    "<span style= 'float: right;'><b>[4 marks]</b></span>"
   ]
  },
  {
   "cell_type": "markdown",
   "metadata": {},
   "source": [
    "Although decision tree is more widely known for regression and classification, researchers have discovered various approaches and instances where decision tree can be applied to perform clustering.\n",
    "\n",
    "The first technique is CLTree approach, introduced by Liu, Xia and Yu (2005), in their paper \"Clustering Via Decision Tree Construction\". The essence of their method is the idea of partitioning data into cluster region and empty region. \n",
    "\n",
    "<img src=\"images/image.png\">\n",
    "\n",
    "Refer to our figure 1 (Liu et al, 2005), assume that initially, our data can be plotted as seen in (A). It's easy to distinguish the two clusters from the plot. Following CLTree method, we will add some uniformedly distributed N points (presented by \"o\") to our plot. Then by running a decision tree algorithm, we can obtain a partitioning of data space (i.e. to determine where are the empty regions and where are the cluster region).\n",
    "\n",
    "This technique works since if there are clusters in our data space, the data points can not be uniformly distributed. \n",
    "\n",
    "Besides, this example, Yook (2002) also examined several cluster split criteria in decision tree building algorithms where he found that the Bhattacharyya distance based measures are more consistent than the conventional log likelihood based measure. Yook (2002) also discussed on how clustering by decision trees can be applied in automatic speech recognition using hidden Markov models.\n",
    "\n",
    "Kaewchinporn et at (2011) also suggested the indirect application of decision in clustering by introducing the Tree Bagging and Weighted Clustering (TBWC) technique. In TBWC, decision tree is used to select and weight important attributes, which are then subsequently used as input for k-means clustering. The 2-step process can be visualized by the figure presented below (Kaewchinporn et at, 2011)\n",
    "\n",
    "<img src=\"images/image2.png\">\n",
    "\n",
    "Thus, we can see that besides its primary usage as a tool for regression and classification, decision tree has been extensively used for clustering."
   ]
  },
  {
   "cell_type": "markdown",
   "metadata": {},
   "source": [
    "#### 2. Will a K-means Clustering Algorithm generate the same results each time? Provide examples on how this may or may not be the case.\n",
    "<span style= 'float: right;'><b>[4 marks]</b></span>"
   ]
  },
  {
   "cell_type": "markdown",
   "metadata": {},
   "source": [
    "No it will not. The reason for this is that in K-Means clustering algorithm, the centroids are randomly determined each time we run the algorithm. Hence, the end result will differ due to different starting point. Let's create a hypothetical scenario to illustrate this.\n",
    "\n",
    "Assume our dataset consists of 3 points and we somehow decided that we want K to equal 2. If we run an identical k-means algorithm 2 times, they could differ the following way:\n",
    "\n",
    "Scenario 1: the first algorithm might randomly assign the two initial centroids to two points on the left. Thus after a few iterations, the left-most point will form 1 cluster, while the other 2 points belong to another cluster\n",
    "\n",
    "Scenario 2: using the same dataset, the second algorithm might randomly assign the two right-most data points to be the 2 initial centroids. Thus, the right-most point will form 1 cluster, while the other 2 points belong to the other cluster."
   ]
  },
  {
   "cell_type": "code",
   "execution_count": 15,
   "metadata": {},
   "outputs": [
    {
     "data": {
      "image/png": "[encoded data removed]",
      "text/plain": [
       "<Figure size 1152x720 with 1 Axes>"
      ]
     },
     "metadata": {},
     "output_type": "display_data"
    }
   ],
   "source": [
    "from sklearn.datasets.samples_generator import make_blobs\n",
    "X, y_true = make_blobs(n_samples=3, centers=2,\n",
    "                       cluster_std=5, random_state=1)\n",
    "# cluster_std - ?\n",
    "# random_state - ?\n",
    "plt.figure(figsize=(16,10))\n",
    "plt.scatter(X[:, 0], X[:, 1], s=100);\n",
    "plt.title('Example data points', fontsize=20)\n",
    "plt.show()"
   ]
  },
  {
   "cell_type": "markdown",
   "metadata": {},
   "source": [
    "Another way to illustrate the phenenomenon is by running the K-means algorith twice. We reuse the code for part 1.2 to demonstrate this."
   ]
  },
  {
   "cell_type": "code",
   "execution_count": 16,
   "metadata": {},
   "outputs": [
    {
     "name": "stdout",
     "output_type": "stream",
     "text": [
      "Indices:  [154 176  60 546]\n",
      "Centers: \n",
      "              amount  category_id  total_rent  PG-13  NC-17    PG    R    G\n",
      "customer_id                                                               \n",
      "154          110.73           14          30    6.0    6.0   5.0  9.0  4.0\n",
      "176          151.68           13          37   13.0    1.0  12.0  6.0  5.0\n",
      "60            88.78           14          25    6.0   10.0   5.0  3.0  1.0\n",
      "546           90.77           13          25    6.0    5.0   5.0  5.0  4.0\n"
     ]
    },
    {
     "data": {
      "text/plain": [
       "{0: 206, 1: 71, 2: 107, 3: 215}"
      ]
     },
     "execution_count": 16,
     "metadata": {},
     "output_type": "execute_result"
    }
   ],
   "source": [
    "#run1\n",
    "num_clusters = 4\n",
    "indices = np.random.randint(len(data_part12d), size=(num_clusters))\n",
    "centers = data_part12d.loc[indices] \n",
    "km = KMeans(n_clusters=num_clusters, max_iter=25,init=centers, n_init=10)\n",
    "\n",
    "print(\"Indices: \", indices)\n",
    "print(\"Centers: \\n\", centers)\n",
    "\n",
    "km.fit(data_part12d)\n",
    "\n",
    "predicted_clusters = km.predict(data_part12d)\n",
    "\n",
    "unique, counts = np.unique(predicted_clusters, return_counts=True)\n",
    "dict(zip(unique, counts))\n"
   ]
  },
  {
   "cell_type": "code",
   "execution_count": 17,
   "metadata": {},
   "outputs": [
    {
     "name": "stdout",
     "output_type": "stream",
     "text": [
      "Indices:  [341  62 119 408]\n",
      "Centers: \n",
      "              amount  category_id  total_rent  PG-13  NC-17    PG    R     G\n",
      "customer_id                                                                \n",
      "341          103.78           13          23    3.0    5.0   3.0  7.0   5.0\n",
      "62            78.79           13          23    4.0    6.0   5.0  3.0   5.0\n",
      "119          139.69           14          34   10.0    7.0  10.0  5.0   2.0\n",
      "408          103.73           11          30    3.0    5.0   5.0  6.0  11.0\n"
     ]
    },
    {
     "data": {
      "text/plain": [
       "{0: 208, 1: 126, 2: 68, 3: 197}"
      ]
     },
     "execution_count": 17,
     "metadata": {},
     "output_type": "execute_result"
    }
   ],
   "source": [
    "#run2\n",
    "num_clusters = 4\n",
    "indices = np.random.randint(len(data_part12d), size=(num_clusters))\n",
    "centers = data_part12d.loc[indices] \n",
    "km = KMeans(n_clusters=num_clusters, max_iter=25,init=centers, n_init=10)\n",
    "\n",
    "print(\"Indices: \", indices)\n",
    "print(\"Centers: \\n\", centers)\n",
    "\n",
    "km.fit(data_part12d)\n",
    "\n",
    "predicted_clusters = km.predict(data_part12d)\n",
    "\n",
    "unique, counts = np.unique(predicted_clusters, return_counts=True)\n",
    "dict(zip(unique, counts))"
   ]
  },
  {
   "cell_type": "markdown",
   "metadata": {},
   "source": [
    "If we run the algorithm twice, for several times, we might get different clustering results. It's due the fact that out initial centroids differ. Furthermore, even if we apply K-means++, our result remain differ, since the 1st centroid is still being chosen randomly."
   ]
  },
  {
   "cell_type": "markdown",
   "metadata": {},
   "source": [
    "### Part 1.2 - K-Means Clustering Implementation (17 Marks)"
   ]
  },
  {
   "cell_type": "markdown",
   "metadata": {},
   "source": [
    "Clustering helps visualise a dataset based on attributes considered important to the data scientist and/or reader.  From the dataset acquired after completing **Section - B**, implement a `K-Means clustering algorithm` to help you cluster the dataset of customers on the basis of the movies they have rented from the DVD rental stores. Various attributes related to the movies such `rating`, `year`, `rental_rate` and `year` may be useful for this exercise. Another interesting attribute that you can look at is the `fulltext` of the movie. In terms of the customer details, you can look at which movies a customer has rented, and the total number of movies rented by a customer. After you've prepared your learning model, plot a **visualization** showing the different clusters. If you have used more than 2 features for your clustering, you are still expected to provide a visualization by reducing the dimensions into a 2D graph.\n",
    "\n",
    "It's upto you to decide how many clusters you would like to incorporate in your model. You are expected to justify all aspects of your implementation including the reasoning behind the choice of **the number of clusters** and **number of iterations** in your model. \n",
    "\n",
    "<span style='color:red;'><b>Note:</b> You are only allowed to use packages that are within the Anaconda distribution.</span>\n",
    "<span style= 'float: right;'><b>[15 marks total: 10 marks model, 5 marks justification & commentary]</b></span>"
   ]
  },
  {
   "cell_type": "markdown",
   "metadata": {},
   "source": [
    "After finishing pre-processing the data, we start to try out different models using built-in KMeans function in Sklearn package. In our first model, we'd like to introduce all the variables to the model.\n",
    "\n",
    "We also initiated our KMeans model using k-means++ method. To simply explain, instead of choosing all the initial centroids randomly, kmeans ++ will choose the first centroid randomly and determine the other initial centroids (in this case 2 other centroids) by calculating the distance from the 1st centroid to other points. Then the model will select the next centroid with weighted probability that is proporational from the distance from the 1st centroid (thus, point which is farther away is more likely to be selected).\n",
    "\n",
    "We also decided to test the initial number of clusters equal to 3. This is a rough estimate given our sample size is 599 customers. After choosing the relevant variables for clustering, we will perform a test to determine the optimal number of clusters.\n",
    "\n",
    "Moreover, according to Broder et al (2014), K-means converges after 20-50 iterations in all practical situations, even on high dimensional datasets. Thus given the simplicity of our dataset, the number of iterations will not matter much as the model will take only a fraction of seconds even if we set max_iter = 50."
   ]
  },
  {
   "cell_type": "code",
   "execution_count": 18,
   "metadata": {},
   "outputs": [
    {
     "data": {
      "text/plain": [
       "KMeans(algorithm='auto', copy_x=True, init='k-means++', max_iter=50,\n",
       "    n_clusters=3, n_init=10, n_jobs=1, precompute_distances='auto',\n",
       "    random_state=None, tol=0.0001, verbose=0)"
      ]
     },
     "execution_count": 18,
     "metadata": {},
     "output_type": "execute_result"
    }
   ],
   "source": [
    "# YOUR CODE HERE\n",
    "\n",
    "num_clusters = 3\n",
    "km = KMeans(n_clusters=num_clusters, max_iter=50,init='k-means++', n_init=10)\n",
    "km.fit(data_part12d)"
   ]
  },
  {
   "cell_type": "markdown",
   "metadata": {},
   "source": [
    "After running the model, we examine the number of elements in each cluster identified."
   ]
  },
  {
   "cell_type": "code",
   "execution_count": 19,
   "metadata": {},
   "outputs": [
    {
     "data": {
      "text/plain": [
       "{0: 263, 1: 218, 2: 118}"
      ]
     },
     "execution_count": 19,
     "metadata": {},
     "output_type": "execute_result"
    }
   ],
   "source": [
    "predicted_clusters = km.predict(data_part12d)\n",
    "\n",
    "unique, counts = np.unique(predicted_clusters, return_counts=True)\n",
    "dict(zip(unique, counts))"
   ]
  },
  {
   "cell_type": "markdown",
   "metadata": {},
   "source": [
    "To measure the performance of our K-Means model, we utilized silhouette score, which has a build-in function in skleanrn. According to the documentation of .silhouette_score(), the Silhouette Coefficient is calculated using the mean intra-cluster distance (a) and the mean nearest-cluster distance (b) for each sample. The Silhouette Coefficient for a sample is (b - a) / max(a, b). To clarify, b is the distance between a sample and the nearest cluster that the sample is not a part of. \n",
    "\n",
    "Thus, the coefficient measures how close an observation is to its own cluster as compared to other clusters, or measures the tightness of the cluster."
   ]
  },
  {
   "cell_type": "code",
   "execution_count": 20,
   "metadata": {},
   "outputs": [
    {
     "data": {
      "text/plain": [
       "0.4380612178045664"
      ]
     },
     "execution_count": 20,
     "metadata": {},
     "output_type": "execute_result"
    }
   ],
   "source": [
    "labels = km.labels_\n",
    "metrics.silhouette_score(data_part12d, labels, metric='euclidean')"
   ]
  },
  {
   "cell_type": "markdown",
   "metadata": {},
   "source": [
    "Afterwards, we visualized the clusters obtained by plotting scatter plot of pairs of variables."
   ]
  },
  {
   "cell_type": "code",
   "execution_count": 21,
   "metadata": {},
   "outputs": [
    {
     "data": {
      "image/png": "[encoded data removed]",
      "text/plain": [
       "<Figure size 864x576 with 1 Axes>"
      ]
     },
     "metadata": {},
     "output_type": "display_data"
    }
   ],
   "source": [
    "markers = ['o','x','s']\n",
    "colors = ['purple','green','y']\n",
    "plt.figure(figsize=(12,8))\n",
    "plt.scatter(data_part12d['amount'], data_part12d['total_rent'], c=predicted_clusters, s=10, cmap='viridis')\n",
    "centers = km.cluster_centers_\n",
    "for ind in range(len(markers)):\n",
    "    plt.scatter(centers[ind, 0], centers[ind, 2], c=colors[ind], s=100, marker=markers[ind])\n",
    "plt.title('Result of sklearn k-means Clustering', fontsize=20)\n",
    "plt.show()"
   ]
  },
  {
   "cell_type": "markdown",
   "metadata": {},
   "source": [
    "From the first plot, it seems that the 3 clusters produced have different purchasing power with low, moderate and high spending. It is very intuitive since people who rented more movies should end up spending more money."
   ]
  },
  {
   "cell_type": "code",
   "execution_count": 22,
   "metadata": {},
   "outputs": [
    {
     "data": {
      "image/png": "[encoded data removed]",
      "text/plain": [
       "<Figure size 864x576 with 1 Axes>"
      ]
     },
     "metadata": {},
     "output_type": "display_data"
    }
   ],
   "source": [
    "markers = ['o','x','s']\n",
    "colors = ['purple','green','y']\n",
    "plt.figure(figsize=(12,8))\n",
    "plt.scatter(data_part12d['amount'], data_part12d['category_id'], c=predicted_clusters, s=10, cmap='viridis')\n",
    "centers = km.cluster_centers_\n",
    "for ind in range(len(markers)):\n",
    "    plt.scatter(centers[ind, 0], centers[ind, 1], c=colors[ind], s=100, marker=markers[ind])\n",
    "plt.title('Result of sklearn k-means Clustering', fontsize=20)\n",
    "plt.show()"
   ]
  },
  {
   "cell_type": "markdown",
   "metadata": {},
   "source": [
    "Moving on to the plot for total money spent and total number of categories that each customer rented, we will see that most customer rented a diverse range of category (ranging from 12 to 16). Thus, the total number of categories that each customer rent might not be useful for clustering. \n",
    "\n",
    "Subsequently, we examined the plot between total amount of money spent and different rating. "
   ]
  },
  {
   "cell_type": "code",
   "execution_count": 23,
   "metadata": {},
   "outputs": [
    {
     "data": {
      "image/png": "[encoded data removed]",
      "text/plain": [
       "<Figure size 864x576 with 1 Axes>"
      ]
     },
     "metadata": {},
     "output_type": "display_data"
    }
   ],
   "source": [
    "markers = ['o','x','s']\n",
    "colors = ['purple','green','y']\n",
    "plt.figure(figsize=(12,8))\n",
    "plt.scatter(data_part12d['amount'], data_part12d['PG-13'], c=predicted_clusters, s=10, cmap='viridis')\n",
    "centers = km.cluster_centers_\n",
    "for ind in range(len(markers)):\n",
    "    plt.scatter(centers[ind, 0], centers[ind, 3], c=colors[ind], s=100, marker=markers[ind])\n",
    "plt.title('Result of sklearn k-means Clustering', fontsize=20)\n",
    "plt.show()"
   ]
  },
  {
   "cell_type": "code",
   "execution_count": 24,
   "metadata": {},
   "outputs": [
    {
     "data": {
      "image/png": "[encoded data removed]",
      "text/plain": [
       "<Figure size 864x576 with 1 Axes>"
      ]
     },
     "metadata": {},
     "output_type": "display_data"
    }
   ],
   "source": [
    "markers = ['o','x','s']\n",
    "colors = ['purple','green','y']\n",
    "plt.figure(figsize=(12,8))\n",
    "plt.scatter(data_part12d['amount'], data_part12d['PG'], c=predicted_clusters, s=10, cmap='viridis')\n",
    "centers = km.cluster_centers_\n",
    "for ind in range(len(markers)):\n",
    "    plt.scatter(centers[ind, 0], centers[ind, 5], c=colors[ind], s=100, marker=markers[ind])\n",
    "plt.title('Result of sklearn k-means Clustering', fontsize=20)\n",
    "plt.show()"
   ]
  },
  {
   "cell_type": "markdown",
   "metadata": {},
   "source": [
    "From the 2 plots above, we can also see that rating does not add a lot of values for our clusters as across the 3 clusters, the number of PG and PG-13 rated movies rented by each customers are about the same.\n",
    "\n",
    "Moving up next, we will examine plots between rating variables."
   ]
  },
  {
   "cell_type": "code",
   "execution_count": 25,
   "metadata": {},
   "outputs": [
    {
     "data": {
      "image/png": "[encoded data removed]",
      "text/plain": [
       "<Figure size 864x576 with 1 Axes>"
      ]
     },
     "metadata": {},
     "output_type": "display_data"
    }
   ],
   "source": [
    "markers = ['o','x','s']\n",
    "colors = ['purple','green','y']\n",
    "plt.figure(figsize=(12,8))\n",
    "plt.scatter(data_part12d['PG-13'], data_part12d['PG'], c=predicted_clusters, s=10, cmap='viridis')\n",
    "centers = km.cluster_centers_\n",
    "for ind in range(len(markers)):\n",
    "    plt.scatter(centers[ind, 3], centers[ind, 5], c=colors[ind], s=100, marker=markers[ind])\n",
    "plt.title('Result of sklearn k-means Clustering', fontsize=20)\n",
    "plt.show()"
   ]
  },
  {
   "cell_type": "code",
   "execution_count": 26,
   "metadata": {},
   "outputs": [
    {
     "data": {
      "image/png": "[encoded data removed]",
      "text/plain": [
       "<Figure size 864x576 with 1 Axes>"
      ]
     },
     "metadata": {},
     "output_type": "display_data"
    }
   ],
   "source": [
    "\n",
    "markers = ['o','x','s']\n",
    "colors = ['purple','green','y']\n",
    "plt.figure(figsize=(12,8))\n",
    "plt.scatter(data_part12d['PG-13'], data_part12d['NC-17'], c=predicted_clusters, s=10, cmap='viridis')\n",
    "centers = km.cluster_centers_\n",
    "for ind in range(len(markers)):\n",
    "    plt.scatter(centers[ind, 3], centers[ind, 4], c=colors[ind], s=100, marker=markers[ind])\n",
    "plt.title('Result of sklearn k-means Clustering', fontsize=20)\n",
    "plt.show()"
   ]
  },
  {
   "cell_type": "markdown",
   "metadata": {},
   "source": [
    "From the two plots above, we can see that the cluster centroids are very close together and situtate in the middle of the plot. As such, it seems that the clusters we obtain are not distinctive/ separated in terms of rating and category."
   ]
  },
  {
   "cell_type": "markdown",
   "metadata": {},
   "source": [
    "Next up, we create a very simple model with only 2 features, total number of movie rented and total amount of money spent. We believe that by removing irrelavant variables (such as total number of categories rented or number of movie in each rating rented), there will be less noise in the model and we can improve the performance of Kmeans clustering. "
   ]
  },
  {
   "cell_type": "code",
   "execution_count": 27,
   "metadata": {},
   "outputs": [],
   "source": [
    "data_part12d1 = data_part12d[['amount','total_rent']]"
   ]
  },
  {
   "cell_type": "code",
   "execution_count": 28,
   "metadata": {},
   "outputs": [
    {
     "data": {
      "text/plain": [
       "KMeans(algorithm='auto', copy_x=True, init='k-means++', max_iter=50,\n",
       "    n_clusters=3, n_init=1, n_jobs=1, precompute_distances='auto',\n",
       "    random_state=None, tol=0.0001, verbose=0)"
      ]
     },
     "execution_count": 28,
     "metadata": {},
     "output_type": "execute_result"
    }
   ],
   "source": [
    "#model 2\n",
    "num_clusters = 3\n",
    "km = KMeans(n_clusters=num_clusters, max_iter=50,init='k-means++', n_init=1)\n",
    "km.fit(data_part12d1)\n"
   ]
  },
  {
   "cell_type": "code",
   "execution_count": 29,
   "metadata": {},
   "outputs": [
    {
     "data": {
      "text/plain": [
       "{0: 219, 1: 114, 2: 266}"
      ]
     },
     "execution_count": 29,
     "metadata": {},
     "output_type": "execute_result"
    }
   ],
   "source": [
    "predicted_clusters = km.predict(data_part12d1)\n",
    "\n",
    "unique, counts = np.unique(predicted_clusters, return_counts=True)\n",
    "dict(zip(unique, counts))"
   ]
  },
  {
   "cell_type": "code",
   "execution_count": 30,
   "metadata": {},
   "outputs": [
    {
     "data": {
      "image/png": "[encoded data removed]",
      "text/plain": [
       "<Figure size 864x576 with 1 Axes>"
      ]
     },
     "metadata": {},
     "output_type": "display_data"
    }
   ],
   "source": [
    "markers = ['o','x','s']\n",
    "colors = ['purple','green','y']\n",
    "plt.figure(figsize=(12,8))\n",
    "plt.scatter(data_part12d1['amount'], data_part12d1['total_rent'], c=predicted_clusters, s=10, cmap='viridis')\n",
    "centers = km.cluster_centers_\n",
    "for ind in range(len(markers)):\n",
    "    plt.scatter(centers[ind, 0], centers[ind, 1], c=colors[ind], s=100, marker=markers[ind])\n",
    "plt.title('Result of sklearn k-means Clustering', fontsize=20)\n",
    "plt.show()"
   ]
  },
  {
   "cell_type": "code",
   "execution_count": 31,
   "metadata": {},
   "outputs": [
    {
     "data": {
      "text/plain": [
       "0.4974817638731053"
      ]
     },
     "execution_count": 31,
     "metadata": {},
     "output_type": "execute_result"
    }
   ],
   "source": [
    "labels = km.labels_\n",
    "metrics.silhouette_score(data_part12d1, labels, metric='euclidean')\n"
   ]
  },
  {
   "cell_type": "code",
   "execution_count": 32,
   "metadata": {},
   "outputs": [
    {
     "data": {
      "text/plain": [
       "array([[ 78.08477477,  22.53153153],\n",
       "       [140.32114035,  33.19298246],\n",
       "       [106.36741445,  27.60456274]])"
      ]
     },
     "execution_count": 32,
     "metadata": {},
     "output_type": "execute_result"
    }
   ],
   "source": [
    "centers"
   ]
  },
  {
   "cell_type": "markdown",
   "metadata": {},
   "source": [
    "So, the silhouette score has improved slightly. It means that the clusters have better \"tightness\" measure. Even though this clustering is simple, its implication is very clear, which is the customers can be reasonably segmented based on the total amount of money that they spent and total amount of movie that they rented.\n",
    "\n",
    "This approach of segmenting customers based on purchasing power does exist in real-life since it's not too complicated and most of the time gives us decent result (for instance, loyalty program usually rewards customers based on their total spending)\n"
   ]
  },
  {
   "cell_type": "markdown",
   "metadata": {},
   "source": [
    "Then, we would like to run a clustering based solely on the rating to see if we can get any meaningful result if we segment customers based on the genre that they prefer,"
   ]
  },
  {
   "cell_type": "code",
   "execution_count": 33,
   "metadata": {},
   "outputs": [],
   "source": [
    "data_part12d2 = data_part12d[['PG-13','NC-17','PG','R','G']]"
   ]
  },
  {
   "cell_type": "code",
   "execution_count": 34,
   "metadata": {},
   "outputs": [
    {
     "data": {
      "text/plain": [
       "KMeans(algorithm='auto', copy_x=True, init='k-means++', max_iter=50,\n",
       "    n_clusters=3, n_init=10, n_jobs=1, precompute_distances='auto',\n",
       "    random_state=None, tol=0.0001, verbose=0)"
      ]
     },
     "execution_count": 34,
     "metadata": {},
     "output_type": "execute_result"
    }
   ],
   "source": [
    "#model 3\n",
    "# YOUR CODE HERE\n",
    "\n",
    "num_clusters = 3 \n",
    "km = KMeans(n_clusters=num_clusters, max_iter=50,init='k-means++', n_init=10)\n",
    "km.fit(data_part12d2)"
   ]
  },
  {
   "cell_type": "code",
   "execution_count": 35,
   "metadata": {},
   "outputs": [
    {
     "data": {
      "text/plain": [
       "{0: 227, 1: 168, 2: 204}"
      ]
     },
     "execution_count": 35,
     "metadata": {},
     "output_type": "execute_result"
    }
   ],
   "source": [
    "predicted_clusters = km.predict(data_part12d2)\n",
    "\n",
    "unique, counts = np.unique(predicted_clusters, return_counts=True)\n",
    "dict(zip(unique, counts))"
   ]
  },
  {
   "cell_type": "code",
   "execution_count": 36,
   "metadata": {},
   "outputs": [
    {
     "data": {
      "text/plain": [
       "0.14505925836833436"
      ]
     },
     "execution_count": 36,
     "metadata": {},
     "output_type": "execute_result"
    }
   ],
   "source": [
    "labels = km.labels_\n",
    "metrics.silhouette_score(data_part12d2, labels, metric='euclidean')"
   ]
  },
  {
   "cell_type": "markdown",
   "metadata": {},
   "source": [
    "The silhouette score seems to be not that promising. We move on to visualize the clustering results to see what went wrong with the model."
   ]
  },
  {
   "cell_type": "code",
   "execution_count": 37,
   "metadata": {},
   "outputs": [
    {
     "data": {
      "image/png": "[encoded data removed]",
      "text/plain": [
       "<Figure size 864x576 with 1 Axes>"
      ]
     },
     "metadata": {},
     "output_type": "display_data"
    }
   ],
   "source": [
    "markers = ['o','x','s']\n",
    "colors = ['purple','green','y']\n",
    "plt.figure(figsize=(12,8))\n",
    "plt.scatter(data_part12d2['PG-13'], data_part12d2['NC-17'], c=predicted_clusters, s=10, cmap='viridis')\n",
    "centers = km.cluster_centers_\n",
    "for ind in range(len(markers)):\n",
    "    plt.scatter(centers[ind, 0], centers[ind, 1], c=colors[ind], s=100, marker=markers[ind])\n",
    "plt.title('Result of sklearn k-means Clustering', fontsize=20)\n",
    "plt.show()"
   ]
  },
  {
   "cell_type": "code",
   "execution_count": 38,
   "metadata": {},
   "outputs": [
    {
     "data": {
      "image/png": "[encoded data removed]",
      "text/plain": [
       "<Figure size 864x576 with 1 Axes>"
      ]
     },
     "metadata": {},
     "output_type": "display_data"
    }
   ],
   "source": [
    "markers = ['o','x','s']\n",
    "colors = ['purple','green','y']\n",
    "plt.figure(figsize=(12,8))\n",
    "plt.scatter(data_part12d2['PG'], data_part12d2['R'], c=predicted_clusters, s=10, cmap='viridis')\n",
    "centers = km.cluster_centers_\n",
    "for ind in range(len(markers)):\n",
    "    plt.scatter(centers[ind, 2], centers[ind, 3], c=colors[ind], s=100, marker=markers[ind])\n",
    "plt.title('Result of sklearn k-means Clustering', fontsize=20)\n",
    "plt.show()"
   ]
  },
  {
   "cell_type": "code",
   "execution_count": 39,
   "metadata": {},
   "outputs": [
    {
     "data": {
      "image/png": "[encoded data removed]",
      "text/plain": [
       "<Figure size 864x576 with 1 Axes>"
      ]
     },
     "metadata": {},
     "output_type": "display_data"
    }
   ],
   "source": [
    "markers = ['o','x','s']\n",
    "colors = ['purple','green','y']\n",
    "plt.figure(figsize=(12,8))\n",
    "plt.scatter(data_part12d2['PG-13'], data_part12d2['R'], c=predicted_clusters, s=10, cmap='viridis')\n",
    "centers = km.cluster_centers_\n",
    "for ind in range(len(markers)):\n",
    "    plt.scatter(centers[ind, 0], centers[ind, 3], c=colors[ind], s=100, marker=markers[ind])\n",
    "plt.title('Result of sklearn k-means Clustering', fontsize=20)\n",
    "plt.show()"
   ]
  },
  {
   "cell_type": "markdown",
   "metadata": {},
   "source": [
    "From the plots, it is obvious that the centroids are close together. It further strenthens our belief that the customers are not really different in terms of their preference."
   ]
  },
  {
   "cell_type": "markdown",
   "metadata": {},
   "source": [
    "For completeness, we were going to run another model that includes category."
   ]
  },
  {
   "cell_type": "code",
   "execution_count": 40,
   "metadata": {},
   "outputs": [],
   "source": [
    "data_part12d3 = data_part12d[['category_id','PG-13','NC-17','PG','R','G']]"
   ]
  },
  {
   "cell_type": "code",
   "execution_count": 41,
   "metadata": {},
   "outputs": [
    {
     "data": {
      "text/plain": [
       "KMeans(algorithm='auto', copy_x=True, init='k-means++', max_iter=50,\n",
       "    n_clusters=3, n_init=10, n_jobs=1, precompute_distances='auto',\n",
       "    random_state=None, tol=0.0001, verbose=0)"
      ]
     },
     "execution_count": 41,
     "metadata": {},
     "output_type": "execute_result"
    }
   ],
   "source": [
    "#Model 4, fit all variables available\n",
    "\n",
    "# YOUR CODE HERE\n",
    "\n",
    "num_clusters = 3\n",
    "km = KMeans(n_clusters=num_clusters, max_iter=50,init='k-means++', n_init=10)\n",
    "km.fit(data_part12d3)"
   ]
  },
  {
   "cell_type": "code",
   "execution_count": 42,
   "metadata": {},
   "outputs": [
    {
     "data": {
      "text/plain": [
       "{0: 204, 1: 204, 2: 191}"
      ]
     },
     "execution_count": 42,
     "metadata": {},
     "output_type": "execute_result"
    }
   ],
   "source": [
    "predicted_clusters = km.predict(data_part12d3)\n",
    "\n",
    "unique, counts = np.unique(predicted_clusters, return_counts=True)\n",
    "dict(zip(unique, counts))"
   ]
  },
  {
   "cell_type": "code",
   "execution_count": 43,
   "metadata": {},
   "outputs": [
    {
     "data": {
      "text/plain": [
       "0.13742847158393498"
      ]
     },
     "execution_count": 43,
     "metadata": {},
     "output_type": "execute_result"
    }
   ],
   "source": [
    "labels = km.labels_\n",
    "metrics.silhouette_score(data_part12d3, labels, metric='euclidean')"
   ]
  },
  {
   "cell_type": "code",
   "execution_count": 44,
   "metadata": {},
   "outputs": [
    {
     "data": {
      "image/png": "[encoded data removed]",
      "text/plain": [
       "<Figure size 864x576 with 1 Axes>"
      ]
     },
     "metadata": {},
     "output_type": "display_data"
    }
   ],
   "source": [
    "markers = ['o','D','s']\n",
    "colors = ['purple','green','y']\n",
    "plt.figure(figsize=(12,8))\n",
    "plt.scatter(data_part12d3['category_id'], data_part12d3['PG-13'], c=predicted_clusters, s=10, cmap='viridis')\n",
    "centers = km.cluster_centers_\n",
    "for ind in range(len(markers)):\n",
    "    plt.scatter(centers[ind, 0], centers[ind, 1], c=colors[ind], s=100, marker=markers[ind])\n",
    "plt.title('Result of sklearn k-means Clustering', fontsize=20)\n",
    "plt.show()\n"
   ]
  },
  {
   "cell_type": "code",
   "execution_count": 45,
   "metadata": {},
   "outputs": [
    {
     "data": {
      "image/png": "[encoded data removed]",
      "text/plain": [
       "<Figure size 864x576 with 1 Axes>"
      ]
     },
     "metadata": {},
     "output_type": "display_data"
    }
   ],
   "source": [
    "markers = ['o','D','s']\n",
    "colors = ['purple','green','y']\n",
    "plt.figure(figsize=(12,8))\n",
    "plt.scatter(data_part12d3['category_id'], data_part12d3['G'], c=predicted_clusters, s=10, cmap='viridis')\n",
    "centers = km.cluster_centers_\n",
    "for ind in range(len(markers)):\n",
    "    plt.scatter(centers[ind, 0], centers[ind, 5], c=colors[ind], s=100, marker=markers[ind])\n",
    "plt.title('Result of sklearn k-means Clustering', fontsize=20)\n",
    "plt.show()"
   ]
  },
  {
   "cell_type": "markdown",
   "metadata": {},
   "source": [
    "The result is somewhat similar to the 3rd model. The centroids remain very close together and signifies that our customers are very similar in terms of their preference.\n",
    "\n",
    "After running these models, we decided that the 2nd model with 2 features \"amount\" and \"total_rent\" is the most optimal model that we explored. Given its decent silhouette score, it appears to perform much better than other models. Additionally, as category and rating do not seem to add a lot of value in clustering (due to the fact that most of the customer have pretty standard perference), we believe that adding these features to the model is redundant. "
   ]
  },
  {
   "cell_type": "markdown",
   "metadata": {},
   "source": [
    "After determining the suitable variables used to clustering, we rem going to perform the average silhouette approach to measures the quality of a clustering. The approach is simple, we are going to execute the K-Means algorithm for the chosen model at difference number of clusters (from 2 to 8). For each case, we will iterate the algorithm 10 times and record the silhouette score. Then, we will find the average score for each number of clusters and the one with highest score should be the most desirable."
   ]
  },
  {
   "cell_type": "code",
   "execution_count": 46,
   "metadata": {},
   "outputs": [
    {
     "data": {
      "text/plain": [
       "0.4410899475971334"
      ]
     },
     "execution_count": 46,
     "metadata": {},
     "output_type": "execute_result"
    }
   ],
   "source": [
    "num_clusters = 8\n",
    " \n",
    "km = KMeans(n_clusters=num_clusters, max_iter=50,init='k-means++', n_init=10)\n",
    "\n",
    "km.fit(data_part12d1)\n",
    "\n",
    "labels = km.labels_\n",
    "metrics.silhouette_score(data_part12d1, labels, metric='euclidean')"
   ]
  },
  {
   "cell_type": "markdown",
   "metadata": {},
   "source": [
    "<img src=\"images/image3.png\">\n",
    "\n",
    "The result is presented above. As we can see model with 2,3 and 5 seesm to yield the best score. Nonetheless, having only 2 clusters might not be an ideal case if we want to segment our customer base. It is unlikely that we can comprehensively cluster 599 customers into 2 clusters. Hence, even if we only base the clustering on purchasing power, we believe having 3 clusters would make more sense (low, moderate and high purchasing power cluster). Having only 2 cluster (low vs high purchasing power) might oversimplify the customer segmentation."
   ]
  },
  {
   "cell_type": "markdown",
   "metadata": {},
   "source": [
    "#### What do your resulting clusters represent?  Explain the distinguishing characteristics of each cluster. \n",
    "<span style= 'float: right;'><b>[2 marks]</b></span>"
   ]
  },
  {
   "cell_type": "markdown",
   "metadata": {},
   "source": [
    "The resulting clusters represents 3 groups of customer with different purchasing power.\n",
    "\n",
    "The first group can be termed as low purchasing power, with centroid having total amounth spent approximately around $77-79 and rented around 21-24 movies\n",
    "\n",
    "The second group can be termed as moderate/average purchasing power, with centroid having total amounth spent approximately around $100-110 and rented around 25-29 movies\n",
    "\n",
    "The last group can be termed as high purchasing power, with centroid having total amounth spent approximately more than $130 and rented more than 30 movies\n"
   ]
  },
  {
   "cell_type": "markdown",
   "metadata": {},
   "source": [
    "***"
   ]
  },
  {
   "cell_type": "markdown",
   "metadata": {},
   "source": [
    "### Part 2 - Classification (30 Marks)\n",
    "\n",
    "The rental company has decided that they want to use simple machine learning to allocate price tags to their movies. The tags are as follows:\n",
    "\n",
    "\n",
    "|  **Classification**      |  **Requirements**        |\n",
    "|--------------------------|------------------------- |\n",
    "|  Cheap                   |  Rental Rate is 0.99   |\n",
    "|  Moderate                |  Rental Rate is 2.99   |\n",
    "|  Expensive               |  Rental Rate is 4.99  |\n",
    "\n",
    "\n",
    "**Your task is to implement a `Classification Algorithm` (such as K-Nearest Neighbours) that can predict the `Price Label` of a movie**. You are required to perform the following tasks:\n",
    "\n",
    "1. Create useable dataset/s by manually determining the 'truth values' for existing data (where the rating is within the classification system defined above)\n",
    "2. Implement an algorithm that can predict the classification as per the above classifications.\n",
    "3. Perform independent testing of the model and provide statistical metrics outlining the performance of your model. Splitting the dataset into testing and training subsets will assist with this.\n",
    "\n",
    "You are welcome to use any features within the dataset, except the `Rental Rate` of the film. Various attributes relating to a movie in the tables `rating`, `movie`, `film_actor`, `actor` and `film_category` can be helpful while making the algorithm. If required, you can also look to make new **compound attributes** that may be helpful in increasing the accuracy of your model.\n",
    "You are expected to justify all aspects of your answer including the features used, the metrics provided and validation system employed. Provide commentary on the strengths and potential pitfalls of the model.\n",
    "\n",
    "<span style='color:red;'><b>Note:</b> You are only allowed to use packages that are within the Anaconda distribution. This means packages such as Keras, Tensorflow etc are not available for use.</span> \n",
    "<span style= 'float: right;'><b>[25 marks total: 18 marks model, 7 marks justification & commentary]</b></span>"
   ]
  },
  {
   "cell_type": "code",
   "execution_count": 47,
   "metadata": {},
   "outputs": [
    {
     "data": {
      "text/html": [
       "<div>\n",
       "<style scoped>\n",
       "    .dataframe tbody tr th:only-of-type {\n",
       "        vertical-align: middle;\n",
       "    }\n",
       "\n",
       "    .dataframe tbody tr th {\n",
       "        vertical-align: top;\n",
       "    }\n",
       "\n",
       "    .dataframe thead th {\n",
       "        text-align: right;\n",
       "    }\n",
       "</style>\n",
       "<table border=\"1\" class=\"dataframe\">\n",
       "  <thead>\n",
       "    <tr style=\"text-align: right;\">\n",
       "      <th></th>\n",
       "      <th>Classification</th>\n",
       "      <th>film_id</th>\n",
       "      <th>rating</th>\n",
       "      <th>category_id</th>\n",
       "      <th>actor_id</th>\n",
       "    </tr>\n",
       "  </thead>\n",
       "  <tbody>\n",
       "    <tr>\n",
       "      <th>0</th>\n",
       "      <td>Expensive</td>\n",
       "      <td>749</td>\n",
       "      <td>5</td>\n",
       "      <td>11</td>\n",
       "      <td>161.0</td>\n",
       "    </tr>\n",
       "    <tr>\n",
       "      <th>1</th>\n",
       "      <td>Expensive</td>\n",
       "      <td>749</td>\n",
       "      <td>5</td>\n",
       "      <td>11</td>\n",
       "      <td>127.0</td>\n",
       "    </tr>\n",
       "    <tr>\n",
       "      <th>2</th>\n",
       "      <td>Expensive</td>\n",
       "      <td>749</td>\n",
       "      <td>5</td>\n",
       "      <td>11</td>\n",
       "      <td>77.0</td>\n",
       "    </tr>\n",
       "    <tr>\n",
       "      <th>3</th>\n",
       "      <td>Expensive</td>\n",
       "      <td>749</td>\n",
       "      <td>5</td>\n",
       "      <td>11</td>\n",
       "      <td>59.0</td>\n",
       "    </tr>\n",
       "    <tr>\n",
       "      <th>4</th>\n",
       "      <td>Expensive</td>\n",
       "      <td>749</td>\n",
       "      <td>5</td>\n",
       "      <td>11</td>\n",
       "      <td>1.0</td>\n",
       "    </tr>\n",
       "  </tbody>\n",
       "</table>\n",
       "</div>"
      ],
      "text/plain": [
       "  Classification  film_id  rating  category_id  actor_id\n",
       "0      Expensive      749       5           11     161.0\n",
       "1      Expensive      749       5           11     127.0\n",
       "2      Expensive      749       5           11      77.0\n",
       "3      Expensive      749       5           11      59.0\n",
       "4      Expensive      749       5           11       1.0"
      ]
     },
     "execution_count": 47,
     "metadata": {},
     "output_type": "execute_result"
    }
   ],
   "source": [
    "# YOUR CODE HERE\n",
    "#1 creating dataset. \n",
    "#We do not need the customer_id so we will drop it \n",
    "class_df = master_df.drop(['customer_id'], axis=1)\n",
    "\n",
    "#in order to create labels for our data, we will convert the rental rate column \n",
    "#into the target values (labels) as provided above. Additionally, we \n",
    "# will turn the movie ratings into numeric values ranging from 1 -5 starting with G and ending with R\n",
    "replacement_values = { 0.99 : 'Cheap', 2.99 : 'Moderate', 4.99 : 'Expensive',\n",
    "                      'G' : 1, 'PG' : 2, 'PG-13' : 3, 'NC-17' : 4, 'R' : 5}\n",
    "data_df = class_df.replace(replacement_values)\n",
    "\n",
    "#Rename the rental rate colum to Classification \n",
    "data_df = data_df.rename(index=str, columns={\"rental_rate\": \"Classification\"})\n",
    "\n",
    "#Moreover, any NaN values need to be dropped from the dataframe in order\n",
    "#for us to be able to implement KNN later on. Check NaN:\n",
    "data_df.isnull().sum()\n",
    "\n",
    "#We can see that the column 'actor_id' has 40 NaN values that we need to get rid of:\n",
    "data_df = data_df.dropna()\n",
    "\n",
    "#rearrange order of columns so that target is on left and features are on right\n",
    "data_df= data_df[['Classification', 'film_id', 'rating', 'category_id', 'actor_id']]\n",
    "data_df.head()"
   ]
  },
  {
   "cell_type": "markdown",
   "metadata": {},
   "source": [
    "However, there is one more problem with our dataset. Since one actor can be in many different movies, we risk overtraining our classiifer if we do not find a way to aggregate the actor column. The way we will aggregate the actor_id is the following; \n",
    "\n",
    "1. We will create a new data frame that shows us the different price lables ('Classification') for the movies that each 'actor_id' acted in\n",
    "\n",
    "2. Next, we wil assign each price label a value. High = 3, Moderate = 2 and Cheap = 1.\n",
    "\n",
    "3. Now we calculate the mean value that each actor got. This is equivalent to the average Classifiation that each actor was assigned to \n",
    "\n",
    "4. Merging this dataset with the one above, we can add the sum of mean values for each actor per movie. This provides us with a unique variable that quantifies the value of actors for each movie. We are assuming that actors who are in many expensive movies will be considered expensive actors. Hence, if lots of expensive actors are in one movie, the movie should be fairly expensive as well to cover the fees etc. "
   ]
  },
  {
   "cell_type": "code",
   "execution_count": 48,
   "metadata": {},
   "outputs": [
    {
     "data": {
      "text/html": [
       "<div>\n",
       "<style scoped>\n",
       "    .dataframe tbody tr th:only-of-type {\n",
       "        vertical-align: middle;\n",
       "    }\n",
       "\n",
       "    .dataframe tbody tr th {\n",
       "        vertical-align: top;\n",
       "    }\n",
       "\n",
       "    .dataframe thead th {\n",
       "        text-align: right;\n",
       "    }\n",
       "</style>\n",
       "<table border=\"1\" class=\"dataframe\">\n",
       "  <thead>\n",
       "    <tr style=\"text-align: right;\">\n",
       "      <th></th>\n",
       "      <th>Classification</th>\n",
       "      <th>rating</th>\n",
       "      <th>category_id</th>\n",
       "      <th>Mean_act_val</th>\n",
       "    </tr>\n",
       "    <tr>\n",
       "      <th>film_id</th>\n",
       "      <th></th>\n",
       "      <th></th>\n",
       "      <th></th>\n",
       "      <th></th>\n",
       "    </tr>\n",
       "  </thead>\n",
       "  <tbody>\n",
       "    <tr>\n",
       "      <th>1</th>\n",
       "      <td>Cheap</td>\n",
       "      <td>2</td>\n",
       "      <td>6</td>\n",
       "      <td>18.384443</td>\n",
       "    </tr>\n",
       "    <tr>\n",
       "      <th>2</th>\n",
       "      <td>Expensive</td>\n",
       "      <td>1</td>\n",
       "      <td>11</td>\n",
       "      <td>8.396858</td>\n",
       "    </tr>\n",
       "    <tr>\n",
       "      <th>3</th>\n",
       "      <td>Moderate</td>\n",
       "      <td>4</td>\n",
       "      <td>6</td>\n",
       "      <td>10.051630</td>\n",
       "    </tr>\n",
       "    <tr>\n",
       "      <th>4</th>\n",
       "      <td>Moderate</td>\n",
       "      <td>1</td>\n",
       "      <td>11</td>\n",
       "      <td>10.396669</td>\n",
       "    </tr>\n",
       "    <tr>\n",
       "      <th>5</th>\n",
       "      <td>Moderate</td>\n",
       "      <td>1</td>\n",
       "      <td>8</td>\n",
       "      <td>9.553378</td>\n",
       "    </tr>\n",
       "  </tbody>\n",
       "</table>\n",
       "</div>"
      ],
      "text/plain": [
       "        Classification  rating  category_id  Mean_act_val\n",
       "film_id                                                  \n",
       "1                Cheap       2            6     18.384443\n",
       "2            Expensive       1           11      8.396858\n",
       "3             Moderate       4            6     10.051630\n",
       "4             Moderate       1           11     10.396669\n",
       "5             Moderate       1            8      9.553378"
      ]
     },
     "execution_count": 48,
     "metadata": {},
     "output_type": "execute_result"
    }
   ],
   "source": [
    "\n",
    "actor_df = data_df[['actor_id', 'Classification']]\n",
    "\n",
    "replc_vals = { 'Expensive' : 3, 'Moderate' : 2, \"Cheap\" : 1}\n",
    "actor_df = actor_df.replace(replc_vals)\n",
    "actor_value_df = actor_df.groupby(['actor_id']).mean()\n",
    "\n",
    "actor_value_df.rename(inplace=True, columns={'Classification': 'Mean_act_val'})\n",
    "\n",
    "actor_value_df['actor_id'] = actor_value_df.index\n",
    "\n",
    "classification_data = data_df.merge(actor_value_df, on=\"actor_id\")\n",
    "\n",
    "cl_data2 = classification_data.drop_duplicates().sort_values('film_id')\n",
    "classification_final = cl_data2.groupby(['film_id']).agg({'Classification' :'first' , 'rating':'first', 'category_id':'first','Mean_act_val':'sum'})\n",
    "classification_final.head()"
   ]
  },
  {
   "cell_type": "code",
   "execution_count": 49,
   "metadata": {},
   "outputs": [
    {
     "name": "stdout",
     "output_type": "stream",
     "text": [
      "[[['film_id'], 1.0], [['film_id', 'category_id'], 1.0], [['film_id', 'actor_id'], 0.9996255616575137], [['film_id', 'actor_id', 'category_id'], 0.9992511233150274], [['rating', 'actor_id'], 0.49588117823265104], [['actor_id'], 0.3745631552670993], [['category_id'], 0.3487269096355467], [['rating'], 0.34860209685471794]]\n"
     ]
    }
   ],
   "source": [
    "#2 Implementing algorithm\n",
    "#Firstly, we will focus on the features, i.e. choosing the most accurate\n",
    "#features that will allow us to predict the price tags of the movies \n",
    "\n",
    "#2.1 Seperating data\n",
    "target_var = data_df['Classification']\n",
    "feature_var = data_df.drop(['Classification'], axis=1)\n",
    "\n",
    "#2.2 Creating combinations that we think might be good together\n",
    "test_batchs = [['film_id'], ['rating'], ['category_id'], ['actor_id'], ['rating', 'actor_id'], ['film_id', 'actor_id'], ['film_id', 'category_id'],['film_id', 'actor_id', 'category_id']]\n",
    "\n",
    "accuracy_scores = []\n",
    "\n",
    "#2.3 Test accuracy for the few combinations above to give us an initial idea on what combination of features\n",
    "# we might want to integrate into our KNN algorithm. We will start by setting the hyperparamter k to 5. \n",
    "for i in range(len(test_batchs)):\n",
    "    x_train, x_test, y_train, y_test = train_test_split(feature_var[test_batchs[i]], target_var, test_size=0.1, random_state=3)\n",
    "    classifier = KNeighborsClassifier(n_neighbors=5)\n",
    "    classifier.fit(x_train, y_train)\n",
    "    accuracy_scores.append([test_batchs[i], classifier.score(x_test, y_test)])\n",
    "\n",
    "accuracy_scores = sorted(accuracy_scores, key=itemgetter(1), reverse=True)\n",
    "print(accuracy_scores)"
   ]
  },
  {
   "cell_type": "code",
   "execution_count": 50,
   "metadata": {},
   "outputs": [
    {
     "name": "stdout",
     "output_type": "stream",
     "text": [
      "[[['rating', 'actor_id', 'category_id'], 0.9016434366548783], [['category_id', 'actor_id'], 0.6864156438527148], [['rating', 'actor_id'], 0.49731641356355316], [['category_id'], 0.3836904514250052], [['actor_id'], 0.3735801955481589], [['rating'], 0.3533596837944664]]\n"
     ]
    }
   ],
   "source": [
    "#From the results we can see that using film_id is not recommended as it will always\n",
    "#return an accuracy score of 1.0. This is the case since every movie has a unique film_id, resulting\n",
    "#in overtraining the model. It might be very precise for our data but will not be for unknown data.\n",
    "#Thus, we will take out film_id\n",
    "test_batchs2 = [['rating'], ['category_id'], ['actor_id'], ['rating', 'actor_id'], ['category_id', 'actor_id'],['rating', 'actor_id', 'category_id']]\n",
    "accuracy_scores2 = []\n",
    "\n",
    "for i in range(len(test_batchs2)):\n",
    "    x_train, x_test, y_train, y_test = train_test_split(feature_var[test_batchs2[i]], target_var, test_size=0.3, random_state=3)\n",
    "    classifier = KNeighborsClassifier(n_neighbors=5)\n",
    "    classifier.fit(x_train, y_train)\n",
    "    accuracy_scores2.append([test_batchs2[i], classifier.score(x_test, y_test)])\n",
    "\n",
    "accuracy_scores2 = sorted(accuracy_scores2, key=itemgetter(1), reverse=True)\n",
    "print(accuracy_scores2)\n",
    "\n",
    "#With an accuracy score of about 0.902, we will pick the feature variables 'rating', 'actor_id' and 'category_id'\n"
   ]
  },
  {
   "cell_type": "code",
   "execution_count": 51,
   "metadata": {
    "scrolled": true
   },
   "outputs": [
    {
     "name": "stdout",
     "output_type": "stream",
     "text": [
      "Ideal k value:  6 .. based on accuracy score:  0.9050736096181238\n"
     ]
    },
    {
     "data": {
      "text/plain": [
       "Text(0.5,0,'number of K neighbours')"
      ]
     },
     "execution_count": 51,
     "metadata": {},
     "output_type": "execute_result"
    },
    {
     "data": {
      "image/png": "[encoded data removed]",
      "text/plain": [
       "<Figure size 1728x1152 with 1 Axes>"
      ]
     },
     "metadata": {},
     "output_type": "display_data"
    }
   ],
   "source": [
    "# 2.4 next, we want to check the ideal number of neighbours (K)for our model\n",
    "#performing 10-fold cross validation on the feature variables selected above\n",
    "feature_var2 = data_df[['rating', 'actor_id', 'category_id']]\n",
    "target_var2 = data_df['Classification']\n",
    "\n",
    "\n",
    "results = []\n",
    "for k in range(1,10):\n",
    "    classifier = KNeighborsClassifier(n_neighbors=k)\n",
    "    score = cross_val_score(classifier, feature_var2, target_var2, cv=10)\n",
    "    results.append([k, np.mean(score)])\n",
    "\n",
    "sorted_scores = sorted(results, key=itemgetter(1), reverse=True)\n",
    "print('Ideal k value: ', sorted_scores[0][0], \".. based on accuracy score: \", sorted_scores[0][1])\n",
    "    \n",
    "x1,y1 = zip(*results)\n",
    "\n",
    "\n",
    "#graphing the scores on a scatter plot\n",
    "fig = plt.figure(figsize=(24,16))\n",
    "ax1 = fig.add_subplot(231)\n",
    "ax1.scatter(x1,y1)\n",
    "ax1.set_title('Accuracy scores for different K values')\n",
    "ax1.set_ylabel('accuracy scores')\n",
    "ax1.set_xlabel('number of K neighbours')\n",
    "\n",
    "\n",
    "\n",
    "\n",
    "# This graph show us that we should implement K=6 for our model as it has a very\n",
    "# high accuracy of about 0.91. "
   ]
  },
  {
   "cell_type": "code",
   "execution_count": 52,
   "metadata": {},
   "outputs": [
    {
     "name": "stdout",
     "output_type": "stream",
     "text": [
      "[[5291  179  181]\n",
      " [ 371 4475  175]\n",
      " [ 404  317 4630]]\n"
     ]
    }
   ],
   "source": [
    "# 3 independent testing of model through confusion matrix \n",
    "final_features = data_df[['rating', 'actor_id', 'category_id']]\n",
    "x_train, x_test, y_train, y_test = train_test_split(final_features, target_var, test_size=0.2)\n",
    "\n",
    "classifier = KNeighborsClassifier(n_neighbors=6)\n",
    "classifier.fit(x_train, y_train)\n",
    "y_predictions = classifier.predict(x_test)\n",
    "\n",
    "# 3.1 Confusion Matrix\n",
    "conmat = skm.confusion_matrix(y_test, y_predictions)\n",
    "print(conmat)"
   ]
  },
  {
   "cell_type": "markdown",
   "metadata": {},
   "source": [
    "our confusion matrix comes out as:\n",
    "\n",
    "<img src=\"images/conmat.png\" >\n",
    " \n",
    " \n",
    " "
   ]
  },
  {
   "cell_type": "markdown",
   "metadata": {},
   "source": [
    "The confusion matrix shows that we correctly classified 5272/5640 movies as cheap, 4521/5089 movies as moderate and 4775/5294 movies as expenive. However, our model also wrongly classified 166 cheap movies as moderate and 202 cheap movies as expensive. Moreover, 390 moderate movies were wrongly classified as cheap and 157 moderate movies were wrongly classified as expensive. In addition, 353 expensive movies were incorrectly classified as cheap and 314 expensive movies were wrongly classified as moderate. \n",
    "\n",
    "Overall, we can see that our classifier did a pretty good job at classifying the data. However, its weakness seems to lie in classifying expensive movies whereas it seems to be quite good at classifying cheap movies. "
   ]
  },
  {
   "cell_type": "code",
   "execution_count": 53,
   "metadata": {},
   "outputs": [
    {
     "name": "stdout",
     "output_type": "stream",
     "text": [
      "Precision:  0.8998296841927741  .. Recall:  0.8984584659551894  .. fscore:  0.8983635099543336  .. Support:  None\n",
      "0-1 loss:  0.10154153404481059\n"
     ]
    }
   ],
   "source": [
    "#3.2 To further investigate the precision of our classifier, we will \n",
    "#calculate the precision, recall and fscore for our classifier\n",
    "\n",
    "prfs = skm.precision_recall_fscore_support(y_test, y_predictions, average='weighted')\n",
    "loss01 = skm.zero_one_loss(y_test, y_predictions) \n",
    "print('Precision: ', prfs[0], ' .. Recall: ', prfs[1], ' .. fscore: ', prfs[2], ' .. Support: ', prfs[3])\n",
    "print(\"0-1 loss: \", loss01)"
   ]
  },
  {
   "cell_type": "markdown",
   "metadata": {},
   "source": [
    "As we can see, this first model is very accurate. The precision score tells us that if this model classifies something as for example 'Cheap', there is a 90.3% chance that this is correctly classified. Moreover, the Recall score tells us that this model correctly classified 90.3% of all the movies tested on. The 0-1 loss score further supports this as it illustrates that our model misclassified only 9% of the movies, which is a pretty good rate.   However, the reason for the outstanding performance of this model is because it is largely overtrained due to the many duplicate data points in the initial data set that we used to train this classifier. Hence, we will improve this model by using the second data frame we created at the beginning ('classification_final') and repeat the above steps with a dataset less likely to overtrain our model. Hopefully, that will allow us to recieve a more accurate idea of how well our classifier would classify unkown data, even if the precision, recall and 01 loss will most likely be worse for the second model."
   ]
  },
  {
   "cell_type": "code",
   "execution_count": 54,
   "metadata": {},
   "outputs": [
    {
     "data": {
      "text/html": [
       "<div>\n",
       "<style scoped>\n",
       "    .dataframe tbody tr th:only-of-type {\n",
       "        vertical-align: middle;\n",
       "    }\n",
       "\n",
       "    .dataframe tbody tr th {\n",
       "        vertical-align: top;\n",
       "    }\n",
       "\n",
       "    .dataframe thead th {\n",
       "        text-align: right;\n",
       "    }\n",
       "</style>\n",
       "<table border=\"1\" class=\"dataframe\">\n",
       "  <thead>\n",
       "    <tr style=\"text-align: right;\">\n",
       "      <th></th>\n",
       "      <th>Classification</th>\n",
       "      <th>rating</th>\n",
       "      <th>category_id</th>\n",
       "      <th>Mean_act_val</th>\n",
       "    </tr>\n",
       "    <tr>\n",
       "      <th>film_id</th>\n",
       "      <th></th>\n",
       "      <th></th>\n",
       "      <th></th>\n",
       "      <th></th>\n",
       "    </tr>\n",
       "  </thead>\n",
       "  <tbody>\n",
       "    <tr>\n",
       "      <th>1</th>\n",
       "      <td>Cheap</td>\n",
       "      <td>2</td>\n",
       "      <td>6</td>\n",
       "      <td>18.384443</td>\n",
       "    </tr>\n",
       "    <tr>\n",
       "      <th>2</th>\n",
       "      <td>Expensive</td>\n",
       "      <td>1</td>\n",
       "      <td>11</td>\n",
       "      <td>8.396858</td>\n",
       "    </tr>\n",
       "    <tr>\n",
       "      <th>3</th>\n",
       "      <td>Moderate</td>\n",
       "      <td>4</td>\n",
       "      <td>6</td>\n",
       "      <td>10.051630</td>\n",
       "    </tr>\n",
       "    <tr>\n",
       "      <th>4</th>\n",
       "      <td>Moderate</td>\n",
       "      <td>1</td>\n",
       "      <td>11</td>\n",
       "      <td>10.396669</td>\n",
       "    </tr>\n",
       "    <tr>\n",
       "      <th>5</th>\n",
       "      <td>Moderate</td>\n",
       "      <td>1</td>\n",
       "      <td>8</td>\n",
       "      <td>9.553378</td>\n",
       "    </tr>\n",
       "  </tbody>\n",
       "</table>\n",
       "</div>"
      ],
      "text/plain": [
       "        Classification  rating  category_id  Mean_act_val\n",
       "film_id                                                  \n",
       "1                Cheap       2            6     18.384443\n",
       "2            Expensive       1           11      8.396858\n",
       "3             Moderate       4            6     10.051630\n",
       "4             Moderate       1           11     10.396669\n",
       "5             Moderate       1            8      9.553378"
      ]
     },
     "execution_count": 54,
     "metadata": {},
     "output_type": "execute_result"
    }
   ],
   "source": [
    "classification_final.head()"
   ]
  },
  {
   "cell_type": "code",
   "execution_count": 55,
   "metadata": {},
   "outputs": [
    {
     "name": "stdout",
     "output_type": "stream",
     "text": [
      "[[['rating', 'Mean_act_val'], 0.3645833333333333], [['category_id', 'Mean_act_val'], 0.3020833333333333], [['rating', 'Mean_act_val', 'category_id'], 0.2916666666666667]]\n"
     ]
    }
   ],
   "source": [
    "#again, we will start by finding the most accurate features for predicting the price tags for movies\n",
    "\n",
    "#Seperating data\n",
    "final_target_var = classification_final['Classification']\n",
    "final_feature_var = classification_final.drop(['Classification'], axis=1)\n",
    "\n",
    "#Creating combinations that we think might be good together for new data frame with aggregated actor_id\n",
    "final_test_batchs=[['rating', 'Mean_act_val'], ['category_id', 'Mean_act_val'],['rating', 'Mean_act_val', 'category_id']]\n",
    "final_accuracy_scores = []\n",
    "\n",
    "#Test accuracy for the few combinations above to give us an initial idea on what combination of features\n",
    "# we might want to integrate into our KNN algorithm. We will again set the hyperparamter k to 5. \n",
    "for i in range(len(final_test_batchs)):\n",
    "    x_train, x_test, y_train, y_test = train_test_split(final_feature_var[final_test_batchs[i]], final_target_var, test_size=0.1, random_state=3)\n",
    "    classifier = KNeighborsClassifier(n_neighbors=5)\n",
    "    classifier.fit(x_train, y_train)\n",
    "    final_accuracy_scores.append([final_test_batchs[i], classifier.score(x_test, y_test)])\n",
    "\n",
    "final_accuracy_scores = sorted(final_accuracy_scores, key=itemgetter(1), reverse=True)\n",
    "print(final_accuracy_scores)"
   ]
  },
  {
   "cell_type": "markdown",
   "metadata": {},
   "source": [
    "As one can see above, the accuracy rates are much lower than for our first model. Nonetheless, this is expected because there are no duplicate data points so the classifier is not overtrained like it was in the first model. Since the combination of rating and Mean_act_val seem to provide the highest accuracy, we will use those for our model "
   ]
  },
  {
   "cell_type": "code",
   "execution_count": 56,
   "metadata": {},
   "outputs": [
    {
     "name": "stdout",
     "output_type": "stream",
     "text": [
      "Ideal k value:  7 .. based on accuracy score:  0.3812721318540923\n"
     ]
    },
    {
     "data": {
      "text/plain": [
       "Text(0.5,0,'number of K neighbours')"
      ]
     },
     "execution_count": 56,
     "metadata": {},
     "output_type": "execute_result"
    },
    {
     "data": {
      "image/png": "[encoded data removed]",
      "text/plain": [
       "<Figure size 1728x1152 with 1 Axes>"
      ]
     },
     "metadata": {},
     "output_type": "display_data"
    }
   ],
   "source": [
    "# next, we want to check the ideal number of neighbours (K)for our 2nd (new) model\n",
    "# again, we will be performing 10-fold cross validation on the feature variables selected above\n",
    "final_feature_var2 = classification_final[['rating', 'Mean_act_val']]\n",
    "final_target_var2 = classification_final['Classification']\n",
    "\n",
    "results = []\n",
    "for k in range(1,10):\n",
    "    classifier = KNeighborsClassifier(n_neighbors=k)\n",
    "    score = cross_val_score(classifier, final_feature_var2, final_target_var2, cv=10)\n",
    "    results.append([k, np.mean(score)])\n",
    "\n",
    "sorted_scores = sorted(results, key=itemgetter(1), reverse=True)\n",
    "print('Ideal k value: ', sorted_scores[0][0], \".. based on accuracy score: \", sorted_scores[0][1])\n",
    "    \n",
    "x2,y2 = zip(*results)\n",
    "\n",
    "\n",
    "#graphing the scores on a scatter plot\n",
    "fig = plt.figure(figsize=(24,16))\n",
    "ax1 = fig.add_subplot(231)\n",
    "ax1.scatter(x2,y2)\n",
    "ax1.set_title('Accuracy scores for different K values')\n",
    "ax1.set_ylabel('accuracy scores')\n",
    "ax1.set_xlabel('number of K neighbours')"
   ]
  },
  {
   "cell_type": "markdown",
   "metadata": {},
   "source": [
    "From the graph above we can see that the ideal number of neighbours for our second model is 7. Thus our new model will use the features 'rating' and 'Mean_act_val' searching the 7 nearest neighbours. Now all we have left to do is once more do an independent testing but this time our second model. First, we will compute a confusion matrix and then we will calculate the precision, recall and f1 score for our model. "
   ]
  },
  {
   "cell_type": "code",
   "execution_count": 57,
   "metadata": {},
   "outputs": [
    {
     "name": "stdout",
     "output_type": "stream",
     "text": [
      "[[29 19 20]\n",
      " [17 31 11]\n",
      " [18 33 13]]\n"
     ]
    }
   ],
   "source": [
    "#independent testing of model through confusion matrix \n",
    "final_features = classification_final[['rating', 'Mean_act_val']]\n",
    "x_train, x_test, y_train, y_test = train_test_split(final_features, final_target_var, test_size=0.2)\n",
    "\n",
    "classifier = KNeighborsClassifier(n_neighbors=7)\n",
    "classifier.fit(x_train, y_train)\n",
    "y_predictions = classifier.predict(x_test)\n",
    "\n",
    "# Confusion Matrix\n",
    "conmat = skm.confusion_matrix(y_test, y_predictions)\n",
    "print(conmat)"
   ]
  },
  {
   "cell_type": "markdown",
   "metadata": {},
   "source": [
    "The confusion matrix for our second model is the following:\n",
    "<img src=\"images/conmat2.png\" >\n"
   ]
  },
  {
   "cell_type": "markdown",
   "metadata": {},
   "source": [
    "From this new confusion matrix we can tell that our second model performs much worse than our first. It correctly classified 32 out of 53 cheap movies as cheap, 21 out of 79 moderate movies as moderate and 16 out of 59 Expensive movies as expensive. Overall, it seems as if our model is still worst at predicting the expensive movies and seemingly best for cheap movies. "
   ]
  },
  {
   "cell_type": "code",
   "execution_count": 58,
   "metadata": {},
   "outputs": [
    {
     "name": "stdout",
     "output_type": "stream",
     "text": [
      "Precision:  0.3756949501958333  .. Recall:  0.38219895287958117\n",
      "0-1 loss:  0.6178010471204188\n"
     ]
    }
   ],
   "source": [
    "#calculate the precision, recall and fscore for our second classifier\n",
    "\n",
    "prfs = skm.precision_recall_fscore_support(y_test, y_predictions, average='weighted')\n",
    "loss01 = skm.zero_one_loss(y_test, y_predictions) \n",
    "print('Precision: ', prfs[0], ' .. Recall: ', prfs[1])\n",
    "print(\"0-1 loss: \", loss01)"
   ]
  },
  {
   "cell_type": "markdown",
   "metadata": {},
   "source": [
    "From the scores above we can see that our model is not performing well. However, given the uniform nature of the data, nothing less is to be expected as it is extremely difficult to classify datapoints that share homogenous characteristics. Given that information, our model is not that bad after all. In addition, our exploration emphasizes the danger of overtraining your model due to bad training data, which is an important point to note for future analysis. \n",
    "\n",
    "The precision score tells us that if our second model classifies something as for example 'Cheap', there is a 40.9% chance that this is correctly classified. Moreover, the Recall score tells us that our second model correctly classified 41.36% of all the movies tested on. The 0-1 loss score further supports this as it illustrates that our model misclassified 58.6% of the movies. Therefore, it is fair to say that this model is no where near ideal but does provide a good basis as it is better at classifying than a random classifier would be (with 33% chance). "
   ]
  },
  {
   "cell_type": "markdown",
   "metadata": {},
   "source": [
    "#### Would you be able to get a better result, if you had used Clustering as a pre-processing step before Classfication? Justify your answer. \n",
    "<span style= 'float: right;'><b>[5 marks]</b></span>"
   ]
  },
  {
   "cell_type": "markdown",
   "metadata": {},
   "source": [
    "\n",
    "It has been shown that using results from clustering can help to improve the performance of classification. Yaswanth Kumar Alapati et al (2016) have experimented this method and the experimental results show that classfication performs better if we utilise the inputs from clustering. Moreover, Chakraborty(2014) also suggested that given classifcation algorithms do not perform well when there is a lack of sufficient manually labeled reliable data, the incorporation of clustering will provide supplementary evidence (e.g., if two objects belong to the same cluster, it is more likely that they would get the same label) that we can base on to predict the classification for a set of unknown objects.\n",
    "\n",
    "To clarify, assume that for section C part two, we will perform a clustering for the films in the dataset prior to running our classification. If our clustering model are robust and relevant features are included, we might obtain clusters of films that share common attributes. From the clustering output, we can also add a new variable, \"cluster_result\" to each observation to denote which clusters that they belong to. \n",
    "\n",
    "If movies with similar rental rate classification (Cheap/ Moderate/ Expensive) do share the attributes that we include in our clustering model, it is likely that our \"cluster_result\" variable will be pretty close to the rental rate classification. Thus, the inclusion of \"cluster_result\" in the classification model might have positive impact on the performance of the algorithm.\n",
    "\n",
    "Nonetheless, that positive impact can only be achieved if our clustering produces relevant results. For instance, if we cluster the movie based on \"rating\" and \"rating\" has no association to \"rental_rate\" classification, it's unlikely that our clustering will have any positive impact on the performance of classifcation. Thus, combining classification and clustering will only work if we carefully select our features \n",
    "\n"
   ]
  },
  {
   "cell_type": "markdown",
   "metadata": {},
   "source": [
    "***"
   ]
  },
  {
   "cell_type": "markdown",
   "metadata": {},
   "source": [
    "## Section D - Decision Trees (10 Marks)\n",
    "\n",
    "The following is a small synthetic data set about the weather conditions.  We are\n",
    "going to try and use decision trees to predict whether it will rain or not on the given day.\n",
    "\n",
    "\n",
    "|Temperature| Cloudy| UV Index| Humidity| Rain\n",
    "|---:|--:|--:|--:|--:|\n",
    "|25|No| Low| Low| No \n",
    "|29|No| Low| High| No\n",
    "|26|No| Low| Medium| No\n",
    "|26|No| Medium| Medium| No\n",
    "|27|No| Medium| High| No\n",
    "|28|No| High | High| No\n",
    "|25|No| High |Low| No\n",
    "|29|Yes| Low |Low| Yes\n",
    "|28|No| Medium| High| Yes\n",
    "|28|Yes| Medium| High| Yes\n",
    "|26|No| Low |Low| Yes\n",
    "|27|Yes| Low |High| Yes\n",
    "\n",
    "**Note:**\n",
    "* You can treat temperature as a continuous variable and split it on a range of values (to convert it to a categorical variable, for example).\n",
    "* Attribute selection in the tree uses information gain.\n",
    "* You can use LaTeX and/or markdown to format your equations."
   ]
  },
  {
   "cell_type": "markdown",
   "metadata": {},
   "source": [
    "#### 1. What is the initial entropy of Cloudy?\n",
    "\n",
    "<span style= 'float: right;'><b>[3 marks]</b></span>"
   ]
  },
  {
   "cell_type": "markdown",
   "metadata": {},
   "source": [
    "\n",
    "    \n",
    "From our data set, we have 9 days, which is not cloudy and 3 days, which is cloudy.\n",
    "\n",
    "So, the initial entropy Cloudy\n",
    "\n",
    "<img src=\"images/d1.png\">\n",
    "\n",
    "\n",
    "</span>"
   ]
  },
  {
   "cell_type": "markdown",
   "metadata": {},
   "source": [
    "#### 2. Which attribute would the decision-tree building algorithm choose at the root of the tree?\n",
    "\n",
    "\n",
    "<span style= 'float: right;'><b>[3 marks]</b></span>"
   ]
  },
  {
   "cell_type": "markdown",
   "metadata": {},
   "source": [
    "To determine which attribute that decision-tree building algorithm will choose at the root, we need to calculate information gain from each variable.\n",
    "\n",
    "Hence, we need to determine the following value:\n",
    "\n",
    "1) Initial entropy of rain:\n",
    "\n",
    "<img src=\"images/d2.png\">\n",
    "\n",
    "2) Information gain from cloudy due to raining= Entropy (Rain) - Entropy (Rain, Cloudy)\n",
    "\n",
    "<img src=\"images/d3.png\">\n",
    "\n",
    "3) Information gain from temperature due to raining = Entropy (Rain) - Entropy (Rain, temperature)\n",
    "\n",
    "<img src=\"images/d4.png\">\n",
    "\n",
    "4) Information gain from UV due to raining = Entropy (Rain) - Entropy (Rain, UV)\n",
    "\n",
    "<img src=\"images/d5.png\">\n",
    "\n",
    "4) Information gain from humidity due to raining = Entropy (Rain) - Entropy (Rain, humidity)\n",
    "\n",
    "<img src=\"images/d6.png\">\n",
    "\n",
    "The decision-tree building algorithm will choose the variable with highest information gain at the root of the tree. In this case, it is clear that cloudy has highest information gain due to raining. Thus, the chosen variable for the root of the tree is cloudy.\n",
    "\n"
   ]
  },
  {
   "cell_type": "markdown",
   "metadata": {},
   "source": [
    "#### 3. Calculate and specify the information gain of the attribute you chose to split on in the previous question.\n",
    "\n",
    "<span style= 'float: right;'><b>[4 marks]</b></span>"
   ]
  },
  {
   "cell_type": "markdown",
   "metadata": {},
   "source": [
    "As caculated in part 2, the information gain of the attribute chosen, cloudy is 0.4067157.\n",
    "\n",
    "Information gain from cloudy due to raining= Entropy (Rain) - Entropy (Rain, Cloudy)\n",
    "<img src=\"images/d3.png\">\n"
   ]
  }
 ],
 "metadata": {
  "kernelspec": {
   "display_name": "Python 3",
   "language": "python",
   "name": "python3"
  },
  "language_info": {
   "codemirror_mode": {
    "name": "ipython",
    "version": 3
   },
   "file_extension": ".py",
   "mimetype": "text/x-python",
   "name": "python",
   "nbconvert_exporter": "python",
   "pygments_lexer": "ipython3",
   "version": "3.6.8"
  }
 },
 "nbformat": 4,
 "nbformat_minor": 2
}
