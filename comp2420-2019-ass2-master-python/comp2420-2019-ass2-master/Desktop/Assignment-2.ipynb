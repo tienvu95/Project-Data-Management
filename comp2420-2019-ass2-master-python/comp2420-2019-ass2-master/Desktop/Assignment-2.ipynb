{
 "cells": [
  {
   "cell_type": "markdown",
   "metadata": {},
   "source": [
    "<h1 align='center'> COMP2420/COMP6420 - Introduction to Data Management,<br/> Analysis and Security</h1>\n",
    "\n",
    "<h1 align='center'> Assignment - 2</h1>\n",
    "\n",
    "-----\n",
    "<br/>\n",
    "\n",
    "## Grading\n",
    "\n",
    "|**Maximum Marks**         |  **100**\n",
    "|--------------------------|--------\n",
    "|  **Weight**              |  **20% of the Total Course Grade**\n",
    "|  **Submission deadline** |  **7:00PM, Friday, May 24**\n",
    "|  **Submission mode**     |  **Electronic, Using GitLab <br/> One submission per group**\n",
    "|  **Estimated time**      |  **20 hours**\n",
    "|  **Penalty**             |  **100% after the deadline**\n",
    "  \n",
    "\n",
    "\n",
    "## Submission\n",
    "\n",
    "You need to submit the notebook `Assignment-2.ipynb` and any other additional files that you may have created / hyperlinked in this notebook, as part of your submission by pushing it to your forked GitLab repository. You need to add your group details below. Make sure your group works on and submits only one fork of the assignment repository. \n",
    "\n",
    "\n",
    "### Note:\n",
    "\n",
    "* It is strongly advised to read the whole assignment before attempting it and have at least a cursory glance at the dataset in order to gauge the requirements and understand what you need to do as a bigger picture.\n",
    "\n",
    "* For answers requiring free form written text, use the designated cells denoted by `YOUR ANSWER HERE` -- double click on the cell to write inside them.\n",
    "\n",
    "* For all coding questions please write your code after the comment `YOUR CODE HERE`.\n",
    "\n",
    "* In the process of testing your code, you can insert more cells or use print statements for debugging, but when submitting your file remember to remove these cells and calls respectively.\n",
    "\n",
    "* With respect to any code that you submit, you will be marked on the **correctness** and **readability** of your code. If your marker can't understand your code, your marks may be deducted."
   ]
  },
  {
   "cell_type": "markdown",
   "metadata": {},
   "source": [
    "<span style=\"color:blue\">\n",
    "    \n",
    "### Group Number :  061\n",
    "\n",
    "### Student IDs: u6871331, u6894190 and u5846163\n",
    "\n",
    "</span>"
   ]
  },
  {
   "cell_type": "markdown",
   "metadata": {},
   "source": [
    "## Introduction\n",
    "\n"
   ]
  },
  {
   "cell_type": "code",
   "execution_count": 484,
   "metadata": {},
   "outputs": [],
   "source": [
    "# IMPORTING FREQUENTLY USED PYTHON MODULES\n",
    "import numpy as np\n",
    "import pandas as pd\n",
    "import seaborn as sns\n",
    "import matplotlib.pyplot as plt\n",
    "import psycopg2\n",
    "import os\n",
    "plt.style.use('seaborn-notebook')\n",
    "%matplotlib inline\n",
    "\n",
    "# JUST TO MAKE SURE SOME WARNINGS ARE IGNORED \n",
    "import warnings\n",
    "warnings.filterwarnings(\"ignore\")"
   ]
  },
  {
   "cell_type": "code",
   "execution_count": 485,
   "metadata": {},
   "outputs": [],
   "source": [
    "# IMPORT ANY OTHER REQUIRED MODULES IN THIS CELL\n",
    "\n",
    "from sklearn.cluster import KMeans\n",
    "import sklearn as sk\n",
    "from sklearn import datasets, metrics\n",
    "from sklearn.linear_model import SGDClassifier\n",
    "from scipy import stats\n",
    "\n",
    "from sklearn.preprocessing import OneHotEncoder\n",
    "from sklearn.preprocessing import LabelEncoder\n",
    "\n"
   ]
  },
  {
   "cell_type": "markdown",
   "metadata": {},
   "source": [
    "***"
   ]
  },
  {
   "cell_type": "markdown",
   "metadata": {},
   "source": [
    "## Section A - Database Management (15 Marks)\n",
    "\n",
    "You have been given the following database containing 15 tables relating to **DVD Movie Rentals**. The data contained in these tables is as follows -\n",
    "\n",
    "|  **Table**               |  **Data Description**      |\n",
    "|--------------------------|----------------------------|\n",
    "|  **actor**                   |  actors data including first name and last name     |\n",
    "|  **film**                    |  films data such as title, release year, length, rating, etc      |\n",
    "|  film_actor              |  stores the relationships between films and actors |\n",
    "|  **category**                |  stores film’s categories data |\n",
    "|  film_category           |  stores the relationships between films and categories | \n",
    "|  **store**                  |  store data including manager staff and address |\n",
    "|  **inventory**               |  stores inventory data |\n",
    "|  **rental**                  |  stores rental data |\n",
    "|  **payment**                 |  stores customer's payments |\n",
    "|  **staff**                   |  stores staff data |\n",
    "|  **customer**                |  stores customer data |\n",
    "|  **address**                 |  address data for staff and customers |\n",
    "|  **city**                    |  stores city data |\n",
    "|  **country**                 |  stores country data |\n",
    "\n",
    "Visualizing the relations between these tables can be aided by looking at the below **E-R Diagram**.\n",
    "\n",
    "<img src='./dvd_rental_er.png'>\n",
    "\n",
    "Based on your understanding of the relationships between these tables, answer the following questions by writing SQL queries to get the required data rows from the database and display them as a **Pandas dataframe**. "
   ]
  },
  {
   "cell_type": "markdown",
   "metadata": {},
   "source": [
    "***\n",
    "#### **NOTE**:\n",
    "For the following questions, in the CSIT labs you will be able to connect directly to the database using the below code within the notebook. From outside of the CSIT labs, you will need to perform SQL queries in your terminal by using [partch](https://cs.anu.edu.au/docs/student-computing-environment/linuxlabs/remoteaccess/#connectingtopartch3). Once you have the correct query, you may just fill in the boxes below.\n",
    "\n",
    "**Partch Instructions**\n",
    "1. Connect to partch as per the above hyperlink\n",
    "2. In your terminal, enter `psql` to access the sql database\n",
    "3. Enter `\\c dvdrental` to ensure you are accessing the assignment database (or simply specify dvdrental when connecting to the database server -- `psql dvdrental`).\n",
    "4. (Sanity Check) Enter `SELECT * FROM actor;` . If you receive the first row to be \"Penelope Guiness\", you should be good to go !\n",
    "***"
   ]
  },
  {
   "cell_type": "code",
   "execution_count": 486,
   "metadata": {},
   "outputs": [],
   "source": [
    "# Connect using psycopg2\n",
    "conn = psycopg2.connect(host=\"/var/run/postgresql\", database=\"dvdrental\")\n",
    "\n",
    "# Activate connection cursor\n",
    "curr = conn.cursor()"
   ]
  },
  {
   "cell_type": "code",
   "execution_count": 487,
   "metadata": {},
   "outputs": [],
   "source": [
    "def execute_sql(query):\n",
    "    # Select table and display\n",
    "    curr.execute(query)\n",
    "\n",
    "    # Fetches all the rows from the result of the query\n",
    "    rows = curr.fetchall()\n",
    "    \n",
    "    # Gets the column names for the table\n",
    "    colnames = [desc[0] for desc in curr.description]\n",
    "\n",
    "    # Converts into readable pandas dataframe\n",
    "    df_result = pd.DataFrame(rows, columns=colnames)\n",
    "    return df_result"
   ]
  },
  {
   "cell_type": "markdown",
   "metadata": {},
   "source": [
    "### 1. Write an SQL query to determine the total sales from the rentals of the film 'Affair Prejudice' from the rental store with `store_id = 2`. Your query should result in a single column called `Total Rental Cost` with the value of the total cost of all these rentals.\n",
    "<span style= 'float: right;'><b>[3 marks]</b></span>"
   ]
  },
  {
   "cell_type": "code",
   "execution_count": 488,
   "metadata": {},
   "outputs": [
    {
     "data": {
      "text/html": [
       "<div>\n",
       "<style scoped>\n",
       "    .dataframe tbody tr th:only-of-type {\n",
       "        vertical-align: middle;\n",
       "    }\n",
       "\n",
       "    .dataframe tbody tr th {\n",
       "        vertical-align: top;\n",
       "    }\n",
       "\n",
       "    .dataframe thead th {\n",
       "        text-align: right;\n",
       "    }\n",
       "</style>\n",
       "<table border=\"1\" class=\"dataframe\">\n",
       "  <thead>\n",
       "    <tr style=\"text-align: right;\">\n",
       "      <th></th>\n",
       "      <th>total_rental_cost</th>\n",
       "    </tr>\n",
       "  </thead>\n",
       "  <tbody>\n",
       "    <tr>\n",
       "      <th>0</th>\n",
       "      <td>33.91</td>\n",
       "    </tr>\n",
       "  </tbody>\n",
       "</table>\n",
       "</div>"
      ],
      "text/plain": [
       "  total_rental_cost\n",
       "0             33.91"
      ]
     },
     "execution_count": 488,
     "metadata": {},
     "output_type": "execute_result"
    }
   ],
   "source": [
    "# Vu\n",
    "\n",
    "query1 = \"SELECT sum(amount) AS Total_Rental_Cost \\\n",
    "        FROM payment \\\n",
    "        JOIN rental ON payment.rental_id = rental.rental_id \\\n",
    "        JOIN inventory ON rental.inventory_id = inventory.inventory_id \\\n",
    "        join film on inventory.film_id = film.film_id \\\n",
    "        WHERE film.title = 'Affair Prejudice' AND store_id = 2\"\n",
    "\n",
    "execute_sql(query1)"
   ]
  },
  {
   "cell_type": "markdown",
   "metadata": {},
   "source": [
    "### 2. Write an SQL query to retrieve the names of all customers who rented the film ‘Affair Prejudice’ from the store with `store_id = 1`. The result of your query should display each customer's first name and last name. \n",
    "<span style= 'float: right;'><b>[3 marks]</b></span>"
   ]
  },
  {
   "cell_type": "code",
   "execution_count": 489,
   "metadata": {},
   "outputs": [
    {
     "data": {
      "text/html": [
       "<div>\n",
       "<style scoped>\n",
       "    .dataframe tbody tr th:only-of-type {\n",
       "        vertical-align: middle;\n",
       "    }\n",
       "\n",
       "    .dataframe tbody tr th {\n",
       "        vertical-align: top;\n",
       "    }\n",
       "\n",
       "    .dataframe thead th {\n",
       "        text-align: right;\n",
       "    }\n",
       "</style>\n",
       "<table border=\"1\" class=\"dataframe\">\n",
       "  <thead>\n",
       "    <tr style=\"text-align: right;\">\n",
       "      <th></th>\n",
       "      <th>first_name</th>\n",
       "      <th>last_name</th>\n",
       "    </tr>\n",
       "  </thead>\n",
       "  <tbody>\n",
       "    <tr>\n",
       "      <th>0</th>\n",
       "      <td>Vivian</td>\n",
       "      <td>Ruiz</td>\n",
       "    </tr>\n",
       "    <tr>\n",
       "      <th>1</th>\n",
       "      <td>Nina</td>\n",
       "      <td>Soto</td>\n",
       "    </tr>\n",
       "    <tr>\n",
       "      <th>2</th>\n",
       "      <td>Jordan</td>\n",
       "      <td>Archuleta</td>\n",
       "    </tr>\n",
       "    <tr>\n",
       "      <th>3</th>\n",
       "      <td>Danielle</td>\n",
       "      <td>Daniels</td>\n",
       "    </tr>\n",
       "    <tr>\n",
       "      <th>4</th>\n",
       "      <td>Sue</td>\n",
       "      <td>Peters</td>\n",
       "    </tr>\n",
       "    <tr>\n",
       "      <th>5</th>\n",
       "      <td>Michael</td>\n",
       "      <td>Silverman</td>\n",
       "    </tr>\n",
       "    <tr>\n",
       "      <th>6</th>\n",
       "      <td>Jeff</td>\n",
       "      <td>East</td>\n",
       "    </tr>\n",
       "    <tr>\n",
       "      <th>7</th>\n",
       "      <td>Megan</td>\n",
       "      <td>Palmer</td>\n",
       "    </tr>\n",
       "    <tr>\n",
       "      <th>8</th>\n",
       "      <td>Eleanor</td>\n",
       "      <td>Hunt</td>\n",
       "    </tr>\n",
       "    <tr>\n",
       "      <th>9</th>\n",
       "      <td>Natalie</td>\n",
       "      <td>Meyer</td>\n",
       "    </tr>\n",
       "    <tr>\n",
       "      <th>10</th>\n",
       "      <td>Tommy</td>\n",
       "      <td>Collazo</td>\n",
       "    </tr>\n",
       "    <tr>\n",
       "      <th>11</th>\n",
       "      <td>Minnie</td>\n",
       "      <td>Romero</td>\n",
       "    </tr>\n",
       "    <tr>\n",
       "      <th>12</th>\n",
       "      <td>Carmen</td>\n",
       "      <td>Owens</td>\n",
       "    </tr>\n",
       "  </tbody>\n",
       "</table>\n",
       "</div>"
      ],
      "text/plain": [
       "   first_name  last_name\n",
       "0      Vivian       Ruiz\n",
       "1        Nina       Soto\n",
       "2      Jordan  Archuleta\n",
       "3    Danielle    Daniels\n",
       "4         Sue     Peters\n",
       "5     Michael  Silverman\n",
       "6        Jeff       East\n",
       "7       Megan     Palmer\n",
       "8     Eleanor       Hunt\n",
       "9     Natalie      Meyer\n",
       "10      Tommy    Collazo\n",
       "11     Minnie     Romero\n",
       "12     Carmen      Owens"
      ]
     },
     "execution_count": 489,
     "metadata": {},
     "output_type": "execute_result"
    }
   ],
   "source": [
    "# Vu\n",
    "query2 = \"SELECT first_name, last_name from customer \\\n",
    "        JOIN rental on customer.customer_id = rental.customer_id \\\n",
    "        JOIN inventory on rental.inventory_id = inventory.inventory_id \\\n",
    "        JOIN film on inventory.film_id = film.film_id \\\n",
    "        WHERE film.title = 'Affair Prejudice' AND inventory.store_id = 1\"\n",
    "\n",
    "execute_sql(query2)"
   ]
  },
  {
   "cell_type": "markdown",
   "metadata": {},
   "source": [
    "### 3. Write an SQL query to retrieve the names of all those customers who have a total of more than 100 dollars in recorded payments. Your query's result should include each customer's first name, last name and customer ID. \n",
    "<span style= 'float: right;'><b>[4 marks]</b></span>"
   ]
  },
  {
   "cell_type": "code",
   "execution_count": 490,
   "metadata": {},
   "outputs": [
    {
     "data": {
      "text/html": [
       "<div>\n",
       "<style scoped>\n",
       "    .dataframe tbody tr th:only-of-type {\n",
       "        vertical-align: middle;\n",
       "    }\n",
       "\n",
       "    .dataframe tbody tr th {\n",
       "        vertical-align: top;\n",
       "    }\n",
       "\n",
       "    .dataframe thead th {\n",
       "        text-align: right;\n",
       "    }\n",
       "</style>\n",
       "<table border=\"1\" class=\"dataframe\">\n",
       "  <thead>\n",
       "    <tr style=\"text-align: right;\">\n",
       "      <th></th>\n",
       "      <th>first_name</th>\n",
       "      <th>last_name</th>\n",
       "      <th>customer_id</th>\n",
       "    </tr>\n",
       "  </thead>\n",
       "  <tbody>\n",
       "    <tr>\n",
       "      <th>0</th>\n",
       "      <td>Wanda</td>\n",
       "      <td>Patterson</td>\n",
       "      <td>87</td>\n",
       "    </tr>\n",
       "    <tr>\n",
       "      <th>1</th>\n",
       "      <td>Dan</td>\n",
       "      <td>Paine</td>\n",
       "      <td>477</td>\n",
       "    </tr>\n",
       "    <tr>\n",
       "      <th>2</th>\n",
       "      <td>Priscilla</td>\n",
       "      <td>Lowe</td>\n",
       "      <td>273</td>\n",
       "    </tr>\n",
       "    <tr>\n",
       "      <th>3</th>\n",
       "      <td>Guy</td>\n",
       "      <td>Brownlee</td>\n",
       "      <td>550</td>\n",
       "    </tr>\n",
       "    <tr>\n",
       "      <th>4</th>\n",
       "      <td>Alice</td>\n",
       "      <td>Stewart</td>\n",
       "      <td>51</td>\n",
       "    </tr>\n",
       "    <tr>\n",
       "      <th>5</th>\n",
       "      <td>Yolanda</td>\n",
       "      <td>Weaver</td>\n",
       "      <td>190</td>\n",
       "    </tr>\n",
       "    <tr>\n",
       "      <th>6</th>\n",
       "      <td>Kyle</td>\n",
       "      <td>Spurlock</td>\n",
       "      <td>424</td>\n",
       "    </tr>\n",
       "    <tr>\n",
       "      <th>7</th>\n",
       "      <td>Nathan</td>\n",
       "      <td>Runyon</td>\n",
       "      <td>406</td>\n",
       "    </tr>\n",
       "    <tr>\n",
       "      <th>8</th>\n",
       "      <td>June</td>\n",
       "      <td>Carroll</td>\n",
       "      <td>176</td>\n",
       "    </tr>\n",
       "    <tr>\n",
       "      <th>9</th>\n",
       "      <td>Morris</td>\n",
       "      <td>Mccarter</td>\n",
       "      <td>576</td>\n",
       "    </tr>\n",
       "    <tr>\n",
       "      <th>10</th>\n",
       "      <td>Christopher</td>\n",
       "      <td>Greco</td>\n",
       "      <td>309</td>\n",
       "    </tr>\n",
       "    <tr>\n",
       "      <th>11</th>\n",
       "      <td>Misty</td>\n",
       "      <td>Lambert</td>\n",
       "      <td>292</td>\n",
       "    </tr>\n",
       "    <tr>\n",
       "      <th>12</th>\n",
       "      <td>Erik</td>\n",
       "      <td>Guillen</td>\n",
       "      <td>529</td>\n",
       "    </tr>\n",
       "    <tr>\n",
       "      <th>13</th>\n",
       "      <td>Audrey</td>\n",
       "      <td>Ray</td>\n",
       "      <td>173</td>\n",
       "    </tr>\n",
       "    <tr>\n",
       "      <th>14</th>\n",
       "      <td>Shawn</td>\n",
       "      <td>Heaton</td>\n",
       "      <td>390</td>\n",
       "    </tr>\n",
       "    <tr>\n",
       "      <th>15</th>\n",
       "      <td>Brett</td>\n",
       "      <td>Cornwell</td>\n",
       "      <td>502</td>\n",
       "    </tr>\n",
       "    <tr>\n",
       "      <th>16</th>\n",
       "      <td>Carolyn</td>\n",
       "      <td>Perez</td>\n",
       "      <td>42</td>\n",
       "    </tr>\n",
       "    <tr>\n",
       "      <th>17</th>\n",
       "      <td>Marsha</td>\n",
       "      <td>Douglas</td>\n",
       "      <td>257</td>\n",
       "    </tr>\n",
       "    <tr>\n",
       "      <th>18</th>\n",
       "      <td>Ethel</td>\n",
       "      <td>Webb</td>\n",
       "      <td>125</td>\n",
       "    </tr>\n",
       "    <tr>\n",
       "      <th>19</th>\n",
       "      <td>Cindy</td>\n",
       "      <td>Fisher</td>\n",
       "      <td>113</td>\n",
       "    </tr>\n",
       "    <tr>\n",
       "      <th>20</th>\n",
       "      <td>Amanda</td>\n",
       "      <td>Carter</td>\n",
       "      <td>40</td>\n",
       "    </tr>\n",
       "    <tr>\n",
       "      <th>21</th>\n",
       "      <td>Sergio</td>\n",
       "      <td>Stanfield</td>\n",
       "      <td>587</td>\n",
       "    </tr>\n",
       "    <tr>\n",
       "      <th>22</th>\n",
       "      <td>Sylvia</td>\n",
       "      <td>Ortiz</td>\n",
       "      <td>120</td>\n",
       "    </tr>\n",
       "    <tr>\n",
       "      <th>23</th>\n",
       "      <td>Brittany</td>\n",
       "      <td>Riley</td>\n",
       "      <td>187</td>\n",
       "    </tr>\n",
       "    <tr>\n",
       "      <th>24</th>\n",
       "      <td>Joe</td>\n",
       "      <td>Gilliland</td>\n",
       "      <td>349</td>\n",
       "    </tr>\n",
       "    <tr>\n",
       "      <th>25</th>\n",
       "      <td>Erin</td>\n",
       "      <td>Dunn</td>\n",
       "      <td>160</td>\n",
       "    </tr>\n",
       "    <tr>\n",
       "      <th>26</th>\n",
       "      <td>Leslie</td>\n",
       "      <td>Seward</td>\n",
       "      <td>506</td>\n",
       "    </tr>\n",
       "    <tr>\n",
       "      <th>27</th>\n",
       "      <td>Milton</td>\n",
       "      <td>Howland</td>\n",
       "      <td>508</td>\n",
       "    </tr>\n",
       "    <tr>\n",
       "      <th>28</th>\n",
       "      <td>Glenda</td>\n",
       "      <td>Frazier</td>\n",
       "      <td>242</td>\n",
       "    </tr>\n",
       "    <tr>\n",
       "      <th>29</th>\n",
       "      <td>Eric</td>\n",
       "      <td>Robert</td>\n",
       "      <td>331</td>\n",
       "    </tr>\n",
       "    <tr>\n",
       "      <th>...</th>\n",
       "      <td>...</td>\n",
       "      <td>...</td>\n",
       "      <td>...</td>\n",
       "    </tr>\n",
       "    <tr>\n",
       "      <th>266</th>\n",
       "      <td>Janet</td>\n",
       "      <td>Phillips</td>\n",
       "      <td>45</td>\n",
       "    </tr>\n",
       "    <tr>\n",
       "      <th>267</th>\n",
       "      <td>Daisy</td>\n",
       "      <td>Bates</td>\n",
       "      <td>295</td>\n",
       "    </tr>\n",
       "    <tr>\n",
       "      <th>268</th>\n",
       "      <td>Gina</td>\n",
       "      <td>Williamson</td>\n",
       "      <td>213</td>\n",
       "    </tr>\n",
       "    <tr>\n",
       "      <th>269</th>\n",
       "      <td>Naomi</td>\n",
       "      <td>Jennings</td>\n",
       "      <td>274</td>\n",
       "    </tr>\n",
       "    <tr>\n",
       "      <th>270</th>\n",
       "      <td>Cathy</td>\n",
       "      <td>Spencer</td>\n",
       "      <td>163</td>\n",
       "    </tr>\n",
       "    <tr>\n",
       "      <th>271</th>\n",
       "      <td>Bessie</td>\n",
       "      <td>Morrison</td>\n",
       "      <td>221</td>\n",
       "    </tr>\n",
       "    <tr>\n",
       "      <th>272</th>\n",
       "      <td>Nicholas</td>\n",
       "      <td>Barfield</td>\n",
       "      <td>362</td>\n",
       "    </tr>\n",
       "    <tr>\n",
       "      <th>273</th>\n",
       "      <td>Crystal</td>\n",
       "      <td>Ford</td>\n",
       "      <td>102</td>\n",
       "    </tr>\n",
       "    <tr>\n",
       "      <th>274</th>\n",
       "      <td>Veronica</td>\n",
       "      <td>Stone</td>\n",
       "      <td>158</td>\n",
       "    </tr>\n",
       "    <tr>\n",
       "      <th>275</th>\n",
       "      <td>Eduardo</td>\n",
       "      <td>Hiatt</td>\n",
       "      <td>594</td>\n",
       "    </tr>\n",
       "    <tr>\n",
       "      <th>276</th>\n",
       "      <td>Jessie</td>\n",
       "      <td>Milam</td>\n",
       "      <td>533</td>\n",
       "    </tr>\n",
       "    <tr>\n",
       "      <th>277</th>\n",
       "      <td>Marc</td>\n",
       "      <td>Outlaw</td>\n",
       "      <td>499</td>\n",
       "    </tr>\n",
       "    <tr>\n",
       "      <th>278</th>\n",
       "      <td>Jennie</td>\n",
       "      <td>Terry</td>\n",
       "      <td>265</td>\n",
       "    </tr>\n",
       "    <tr>\n",
       "      <th>279</th>\n",
       "      <td>Tommy</td>\n",
       "      <td>Collazo</td>\n",
       "      <td>459</td>\n",
       "    </tr>\n",
       "    <tr>\n",
       "      <th>280</th>\n",
       "      <td>Sandra</td>\n",
       "      <td>Martin</td>\n",
       "      <td>16</td>\n",
       "    </tr>\n",
       "    <tr>\n",
       "      <th>281</th>\n",
       "      <td>Gertrude</td>\n",
       "      <td>Castillo</td>\n",
       "      <td>207</td>\n",
       "    </tr>\n",
       "    <tr>\n",
       "      <th>282</th>\n",
       "      <td>Billy</td>\n",
       "      <td>Poulin</td>\n",
       "      <td>371</td>\n",
       "    </tr>\n",
       "    <tr>\n",
       "      <th>283</th>\n",
       "      <td>Darlene</td>\n",
       "      <td>Rose</td>\n",
       "      <td>157</td>\n",
       "    </tr>\n",
       "    <tr>\n",
       "      <th>284</th>\n",
       "      <td>Robin</td>\n",
       "      <td>Hayes</td>\n",
       "      <td>100</td>\n",
       "    </tr>\n",
       "    <tr>\n",
       "      <th>285</th>\n",
       "      <td>Rhonda</td>\n",
       "      <td>Kennedy</td>\n",
       "      <td>137</td>\n",
       "    </tr>\n",
       "    <tr>\n",
       "      <th>286</th>\n",
       "      <td>Lee</td>\n",
       "      <td>Hawks</td>\n",
       "      <td>421</td>\n",
       "    </tr>\n",
       "    <tr>\n",
       "      <th>287</th>\n",
       "      <td>Deborah</td>\n",
       "      <td>Walker</td>\n",
       "      <td>25</td>\n",
       "    </tr>\n",
       "    <tr>\n",
       "      <th>288</th>\n",
       "      <td>Debbie</td>\n",
       "      <td>Reyes</td>\n",
       "      <td>141</td>\n",
       "    </tr>\n",
       "    <tr>\n",
       "      <th>289</th>\n",
       "      <td>Thelma</td>\n",
       "      <td>Murray</td>\n",
       "      <td>122</td>\n",
       "    </tr>\n",
       "    <tr>\n",
       "      <th>290</th>\n",
       "      <td>Joyce</td>\n",
       "      <td>Edwards</td>\n",
       "      <td>49</td>\n",
       "    </tr>\n",
       "    <tr>\n",
       "      <th>291</th>\n",
       "      <td>Eddie</td>\n",
       "      <td>Tomlin</td>\n",
       "      <td>434</td>\n",
       "    </tr>\n",
       "    <tr>\n",
       "      <th>292</th>\n",
       "      <td>Stacey</td>\n",
       "      <td>Montgomery</td>\n",
       "      <td>211</td>\n",
       "    </tr>\n",
       "    <tr>\n",
       "      <th>293</th>\n",
       "      <td>Fernando</td>\n",
       "      <td>Churchill</td>\n",
       "      <td>536</td>\n",
       "    </tr>\n",
       "    <tr>\n",
       "      <th>294</th>\n",
       "      <td>Mitchell</td>\n",
       "      <td>Westmoreland</td>\n",
       "      <td>520</td>\n",
       "    </tr>\n",
       "    <tr>\n",
       "      <th>295</th>\n",
       "      <td>Eleanor</td>\n",
       "      <td>Hunt</td>\n",
       "      <td>148</td>\n",
       "    </tr>\n",
       "  </tbody>\n",
       "</table>\n",
       "<p>296 rows × 3 columns</p>\n",
       "</div>"
      ],
      "text/plain": [
       "      first_name     last_name  customer_id\n",
       "0          Wanda     Patterson           87\n",
       "1            Dan         Paine          477\n",
       "2      Priscilla          Lowe          273\n",
       "3            Guy      Brownlee          550\n",
       "4          Alice       Stewart           51\n",
       "5        Yolanda        Weaver          190\n",
       "6           Kyle      Spurlock          424\n",
       "7         Nathan        Runyon          406\n",
       "8           June       Carroll          176\n",
       "9         Morris      Mccarter          576\n",
       "10   Christopher         Greco          309\n",
       "11         Misty       Lambert          292\n",
       "12          Erik       Guillen          529\n",
       "13        Audrey           Ray          173\n",
       "14         Shawn        Heaton          390\n",
       "15         Brett      Cornwell          502\n",
       "16       Carolyn         Perez           42\n",
       "17        Marsha       Douglas          257\n",
       "18         Ethel          Webb          125\n",
       "19         Cindy        Fisher          113\n",
       "20        Amanda        Carter           40\n",
       "21        Sergio     Stanfield          587\n",
       "22        Sylvia         Ortiz          120\n",
       "23      Brittany         Riley          187\n",
       "24           Joe     Gilliland          349\n",
       "25          Erin          Dunn          160\n",
       "26        Leslie        Seward          506\n",
       "27        Milton       Howland          508\n",
       "28        Glenda       Frazier          242\n",
       "29          Eric        Robert          331\n",
       "..           ...           ...          ...\n",
       "266        Janet      Phillips           45\n",
       "267        Daisy         Bates          295\n",
       "268         Gina    Williamson          213\n",
       "269        Naomi      Jennings          274\n",
       "270        Cathy       Spencer          163\n",
       "271       Bessie      Morrison          221\n",
       "272     Nicholas      Barfield          362\n",
       "273      Crystal          Ford          102\n",
       "274     Veronica         Stone          158\n",
       "275      Eduardo         Hiatt          594\n",
       "276       Jessie         Milam          533\n",
       "277         Marc        Outlaw          499\n",
       "278       Jennie         Terry          265\n",
       "279        Tommy       Collazo          459\n",
       "280       Sandra        Martin           16\n",
       "281     Gertrude      Castillo          207\n",
       "282        Billy        Poulin          371\n",
       "283      Darlene          Rose          157\n",
       "284        Robin         Hayes          100\n",
       "285       Rhonda       Kennedy          137\n",
       "286          Lee         Hawks          421\n",
       "287      Deborah        Walker           25\n",
       "288       Debbie         Reyes          141\n",
       "289       Thelma        Murray          122\n",
       "290        Joyce       Edwards           49\n",
       "291        Eddie        Tomlin          434\n",
       "292       Stacey    Montgomery          211\n",
       "293     Fernando     Churchill          536\n",
       "294     Mitchell  Westmoreland          520\n",
       "295      Eleanor          Hunt          148\n",
       "\n",
       "[296 rows x 3 columns]"
      ]
     },
     "execution_count": 490,
     "metadata": {},
     "output_type": "execute_result"
    }
   ],
   "source": [
    "# Vu\n",
    "\n",
    "query3 = \"SELECT first_name, last_name, customer.customer_id \\\n",
    "        FROM customer \\\n",
    "        INNER JOIN payment ON customer.customer_id = payment.customer_id  \\\n",
    "        GROUP BY customer.customer_id \\\n",
    "        HAVING SUM(payment.amount) > 100\"\n",
    "\n",
    "execute_sql(query3)"
   ]
  },
  {
   "cell_type": "markdown",
   "metadata": {},
   "source": [
    "### 4. Write an SQL query to retrieve the names of all customers who have rented the movie ‘Angels Life’ from *both* stores with `store_id = 1` and `store_id = 2`. Your query's result should include each customer's first name, last name and customer ID.\n",
    "<span style= 'float: right;'><b>[5 marks]</b></span>"
   ]
  },
  {
   "cell_type": "code",
   "execution_count": 491,
   "metadata": {},
   "outputs": [
    {
     "data": {
      "text/html": [
       "<div>\n",
       "<style scoped>\n",
       "    .dataframe tbody tr th:only-of-type {\n",
       "        vertical-align: middle;\n",
       "    }\n",
       "\n",
       "    .dataframe tbody tr th {\n",
       "        vertical-align: top;\n",
       "    }\n",
       "\n",
       "    .dataframe thead th {\n",
       "        text-align: right;\n",
       "    }\n",
       "</style>\n",
       "<table border=\"1\" class=\"dataframe\">\n",
       "  <thead>\n",
       "    <tr style=\"text-align: right;\">\n",
       "      <th></th>\n",
       "      <th>first_name</th>\n",
       "      <th>last_name</th>\n",
       "      <th>customer_id</th>\n",
       "    </tr>\n",
       "  </thead>\n",
       "  <tbody>\n",
       "    <tr>\n",
       "      <th>0</th>\n",
       "      <td>Cathy</td>\n",
       "      <td>Spencer</td>\n",
       "      <td>163</td>\n",
       "    </tr>\n",
       "  </tbody>\n",
       "</table>\n",
       "</div>"
      ],
      "text/plain": [
       "  first_name last_name  customer_id\n",
       "0      Cathy   Spencer          163"
      ]
     },
     "execution_count": 491,
     "metadata": {},
     "output_type": "execute_result"
    }
   ],
   "source": [
    "# Vu\n",
    "\n",
    "query4 = \"SELECT first_name, last_name, customer.customer_id FROM customer \\\n",
    "        JOIN rental on customer.customer_id = rental.customer_id \\\n",
    "        JOIN inventory on rental.inventory_id = inventory.inventory_id \\\n",
    "        JOIN film on inventory.film_id = film.film_id \\\n",
    "        WHERE film.title = 'Angels Life' \\\n",
    "        GROUP BY first_name, last_name, customer.customer_id \\\n",
    "        HAVING COUNT (*) > 1\"\n",
    "        \n",
    "\n",
    "execute_sql(query4)"
   ]
  },
  {
   "cell_type": "markdown",
   "metadata": {},
   "source": [
    "***"
   ]
  },
  {
   "cell_type": "markdown",
   "metadata": {},
   "source": [
    "## Section B - Data Acquisition (20 Marks)\n",
    "\n",
    "In this section, you need to read and import the data from the database into Python and make it ready to be used by your machine learning algorithms in the next section. **Your task here is to load the required columns from the various appropriate tables in the database to fuel the data required to train your machine learning models in the next section.** You can load the required data into one or more Pandas dataframes, to suit the the needs of different Machine Learning models in Section C. \n",
    "\n",
    "If you fail to do so, or an error in the previous section is preventing you from doing so, we can provide you with a **CSV of the required data**. If you choose to use this CSV, you will not receive any marks for this section, but you'll be able to do the following section without having to spend time on this section.  \n",
    "\n",
    "<span style='color:red;'><b>Note:</b> While you are provided the .csv files to use for development of the later questions at home, you must submit a copy of the code that can read the database to receive marks for this section.</span>\n",
    "<span style= 'float: right;'><b>[20 marks]</b></span>"
   ]
  },
  {
   "cell_type": "code",
   "execution_count": 492,
   "metadata": {},
   "outputs": [
    {
     "data": {
      "text/html": [
       "<div>\n",
       "<style scoped>\n",
       "    .dataframe tbody tr th:only-of-type {\n",
       "        vertical-align: middle;\n",
       "    }\n",
       "\n",
       "    .dataframe tbody tr th {\n",
       "        vertical-align: top;\n",
       "    }\n",
       "\n",
       "    .dataframe thead th {\n",
       "        text-align: right;\n",
       "    }\n",
       "</style>\n",
       "<table border=\"1\" class=\"dataframe\">\n",
       "  <thead>\n",
       "    <tr style=\"text-align: right;\">\n",
       "      <th></th>\n",
       "      <th>rental_id</th>\n",
       "      <th>film_id</th>\n",
       "      <th>customer_id</th>\n",
       "      <th>rental_rate</th>\n",
       "      <th>rating</th>\n",
       "      <th>category_id</th>\n",
       "      <th>actor_id</th>\n",
       "      <th>amount</th>\n",
       "    </tr>\n",
       "  </thead>\n",
       "  <tbody>\n",
       "    <tr>\n",
       "      <th>0</th>\n",
       "      <td>1520</td>\n",
       "      <td>749</td>\n",
       "      <td>341</td>\n",
       "      <td>4.99</td>\n",
       "      <td>R</td>\n",
       "      <td>11</td>\n",
       "      <td>161.0</td>\n",
       "      <td>7.99</td>\n",
       "    </tr>\n",
       "    <tr>\n",
       "      <th>1</th>\n",
       "      <td>1520</td>\n",
       "      <td>749</td>\n",
       "      <td>341</td>\n",
       "      <td>4.99</td>\n",
       "      <td>R</td>\n",
       "      <td>11</td>\n",
       "      <td>127.0</td>\n",
       "      <td>7.99</td>\n",
       "    </tr>\n",
       "    <tr>\n",
       "      <th>2</th>\n",
       "      <td>1520</td>\n",
       "      <td>749</td>\n",
       "      <td>341</td>\n",
       "      <td>4.99</td>\n",
       "      <td>R</td>\n",
       "      <td>11</td>\n",
       "      <td>77.0</td>\n",
       "      <td>7.99</td>\n",
       "    </tr>\n",
       "    <tr>\n",
       "      <th>3</th>\n",
       "      <td>1520</td>\n",
       "      <td>749</td>\n",
       "      <td>341</td>\n",
       "      <td>4.99</td>\n",
       "      <td>R</td>\n",
       "      <td>11</td>\n",
       "      <td>59.0</td>\n",
       "      <td>7.99</td>\n",
       "    </tr>\n",
       "    <tr>\n",
       "      <th>4</th>\n",
       "      <td>1520</td>\n",
       "      <td>749</td>\n",
       "      <td>341</td>\n",
       "      <td>4.99</td>\n",
       "      <td>R</td>\n",
       "      <td>11</td>\n",
       "      <td>1.0</td>\n",
       "      <td>7.99</td>\n",
       "    </tr>\n",
       "  </tbody>\n",
       "</table>\n",
       "</div>"
      ],
      "text/plain": [
       "   rental_id  film_id  customer_id  rental_rate rating  category_id  actor_id  \\\n",
       "0       1520      749          341         4.99      R           11     161.0   \n",
       "1       1520      749          341         4.99      R           11     127.0   \n",
       "2       1520      749          341         4.99      R           11      77.0   \n",
       "3       1520      749          341         4.99      R           11      59.0   \n",
       "4       1520      749          341         4.99      R           11       1.0   \n",
       "\n",
       "   amount  \n",
       "0    7.99  \n",
       "1    7.99  \n",
       "2    7.99  \n",
       "3    7.99  \n",
       "4    7.99  "
      ]
     },
     "execution_count": 492,
     "metadata": {},
     "output_type": "execute_result"
    }
   ],
   "source": [
    "# Acquire data and pre-process it for clustering and classifiying\n",
    "\n",
    "query_data= pd.read_sql_query(\"SELECT rental.rental_id, inventory.film_id, rental.customer_id, rental_rate, rating,film_category.category_id, film_actor.actor_id , payment.amount \\\n",
    "        FROM rental \\\n",
    "        LEFT OUTER JOIN payment ON rental.rental_id = payment.rental_id\\\n",
    "        LEFT OUTER JOIN inventory ON rental.inventory_id = inventory.inventory_id \\\n",
    "        LEFT OUTER JOIN film ON film.film_id = inventory.film_id \\\n",
    "        LEFT OUTER JOIN film_actor ON film.film_id = film_actor.film_id \\\n",
    "        LEFT OUTER JOIN actor ON film_actor.actor_id = actor.actor_id \\\n",
    "        LEFT OUTER JOIN film_category ON film.film_id = film_category.film_id \", conn)\n",
    "\n",
    "master_df = pd.DataFrame(query_data)\n",
    "\n",
    "\n",
    "master_df.head()\n"
   ]
  },
  {
   "cell_type": "markdown",
   "metadata": {},
   "source": [
    "TO ADD IN MASTER \n",
    "\n",
    "\n",
    "To cluster the customer, we decided to consider the following aspect\n",
    "* Cluster based on purchasing power: look at the total number of movie rented and total money each customer spent\n",
    "* Cluster based on preference: Look at the rating and category that each customer prefers\n",
    "\n",
    "Hence, for clustering, I would like to import rental_id, customer_id, rating, amount and catergory_id.\n",
    "\n",
    "* From rental_id, we can determine how many movies that each customer rented by counting the number of rental id that associated to each customer.\n",
    "* For customer_id, we can use that to identify and aggregate the data for each customer.\n",
    "* Rating and catogery give insight to customer's preference\n",
    "* The sum of amount associated to each customer_id will give us the total spending of each customer\n",
    "\n"
   ]
  },
  {
   "cell_type": "code",
   "execution_count": 493,
   "metadata": {},
   "outputs": [
    {
     "data": {
      "text/html": [
       "<div>\n",
       "<style scoped>\n",
       "    .dataframe tbody tr th:only-of-type {\n",
       "        vertical-align: middle;\n",
       "    }\n",
       "\n",
       "    .dataframe tbody tr th {\n",
       "        vertical-align: top;\n",
       "    }\n",
       "\n",
       "    .dataframe thead th {\n",
       "        text-align: right;\n",
       "    }\n",
       "</style>\n",
       "<table border=\"1\" class=\"dataframe\">\n",
       "  <thead>\n",
       "    <tr style=\"text-align: right;\">\n",
       "      <th></th>\n",
       "      <th>rental_id</th>\n",
       "      <th>customer_id</th>\n",
       "      <th>amount</th>\n",
       "      <th>rating</th>\n",
       "      <th>category_id</th>\n",
       "    </tr>\n",
       "  </thead>\n",
       "  <tbody>\n",
       "    <tr>\n",
       "      <th>0</th>\n",
       "      <td>1422</td>\n",
       "      <td>1</td>\n",
       "      <td>0.99</td>\n",
       "      <td>PG-13</td>\n",
       "      <td>4</td>\n",
       "    </tr>\n",
       "    <tr>\n",
       "      <th>1</th>\n",
       "      <td>15298</td>\n",
       "      <td>1</td>\n",
       "      <td>2.99</td>\n",
       "      <td>PG</td>\n",
       "      <td>5</td>\n",
       "    </tr>\n",
       "    <tr>\n",
       "      <th>2</th>\n",
       "      <td>14825</td>\n",
       "      <td>1</td>\n",
       "      <td>1.99</td>\n",
       "      <td>PG</td>\n",
       "      <td>5</td>\n",
       "    </tr>\n",
       "    <tr>\n",
       "      <th>3</th>\n",
       "      <td>573</td>\n",
       "      <td>1</td>\n",
       "      <td>NaN</td>\n",
       "      <td>PG</td>\n",
       "      <td>15</td>\n",
       "    </tr>\n",
       "    <tr>\n",
       "      <th>4</th>\n",
       "      <td>13176</td>\n",
       "      <td>1</td>\n",
       "      <td>2.99</td>\n",
       "      <td>G</td>\n",
       "      <td>13</td>\n",
       "    </tr>\n",
       "  </tbody>\n",
       "</table>\n",
       "</div>"
      ],
      "text/plain": [
       "   rental_id  customer_id  amount rating  category_id\n",
       "0       1422            1    0.99  PG-13            4\n",
       "1      15298            1    2.99     PG            5\n",
       "2      14825            1    1.99     PG            5\n",
       "3        573            1     NaN     PG           15\n",
       "4      13176            1    2.99      G           13"
      ]
     },
     "execution_count": 493,
     "metadata": {},
     "output_type": "execute_result"
    }
   ],
   "source": [
    "#data preprocessing for section C - part 1.2\n",
    "\n",
    "data_part12 = master_df[['rental_id','customer_id','amount','rating','category_id']]\n",
    "data_part12a = data_part12.drop_duplicates()\n",
    "\n",
    "#reorganize data and reindex so that we can merge with other data_frame based on index (as we slice the data)\n",
    "\n",
    "data_part12b = data_part12a.sort_values('customer_id').reset_index().drop(['index'],axis =1)\n",
    "data_part12b.head()"
   ]
  },
  {
   "cell_type": "markdown",
   "metadata": {},
   "source": [
    "TO ADD IN MASTER FILE\n",
    "\n",
    "I decided to used one hot encoding for rating instead of using label encoding. If we used label encoding (1 to 5), the model might misunderstand that there are some kinds of order (1<2<3<4<5) exists in"
   ]
  },
  {
   "cell_type": "code",
   "execution_count": 494,
   "metadata": {},
   "outputs": [
    {
     "name": "stdout",
     "output_type": "stream",
     "text": [
      "[[0. 0. 0. 1. 0.]\n",
      " [0. 0. 1. 0. 0.]\n",
      " [0. 0. 1. 0. 0.]\n",
      " ...\n",
      " [0. 0. 0. 0. 1.]\n",
      " [0. 1. 0. 0. 0.]\n",
      " [0. 1. 0. 0. 0.]]\n"
     ]
    }
   ],
   "source": [
    "#using one hot encoding\n",
    "\n",
    "label_encoder = LabelEncoder()\n",
    "integer_encoded = label_encoder.fit_transform(data_part12b['rating'])\n",
    "\n",
    "# binary encode\n",
    "onehot_encoder = OneHotEncoder(sparse=False)\n",
    "integer_encoded = integer_encoded.reshape(len(integer_encoded), 1)\n",
    "onehot_encoded = onehot_encoder.fit_transform(integer_encoded)\n",
    "print(onehot_encoded)"
   ]
  },
  {
   "cell_type": "code",
   "execution_count": 495,
   "metadata": {},
   "outputs": [],
   "source": [
    "rating_hot_encoded = pd.DataFrame(columns=[\"G\", \"NC-17\", \"PG\", \"PG-13\", \"R\"], data=onehot_encoded)\n",
    "\n",
    "data_part12c = pd.merge(data_part12b, rating_hot_encoded, left_index = True, right_index = True)\n",
    "\n"
   ]
  },
  {
   "cell_type": "code",
   "execution_count": 496,
   "metadata": {},
   "outputs": [
    {
     "data": {
      "text/html": [
       "<div>\n",
       "<style scoped>\n",
       "    .dataframe tbody tr th:only-of-type {\n",
       "        vertical-align: middle;\n",
       "    }\n",
       "\n",
       "    .dataframe tbody tr th {\n",
       "        vertical-align: top;\n",
       "    }\n",
       "\n",
       "    .dataframe thead th {\n",
       "        text-align: right;\n",
       "    }\n",
       "</style>\n",
       "<table border=\"1\" class=\"dataframe\">\n",
       "  <thead>\n",
       "    <tr style=\"text-align: right;\">\n",
       "      <th></th>\n",
       "      <th>amount</th>\n",
       "      <th>category_id</th>\n",
       "      <th>rental_id</th>\n",
       "      <th>PG-13</th>\n",
       "      <th>NC-17</th>\n",
       "      <th>PG</th>\n",
       "      <th>R</th>\n",
       "      <th>G</th>\n",
       "    </tr>\n",
       "    <tr>\n",
       "      <th>customer_id</th>\n",
       "      <th></th>\n",
       "      <th></th>\n",
       "      <th></th>\n",
       "      <th></th>\n",
       "      <th></th>\n",
       "      <th></th>\n",
       "      <th></th>\n",
       "      <th></th>\n",
       "    </tr>\n",
       "  </thead>\n",
       "  <tbody>\n",
       "    <tr>\n",
       "      <th>1</th>\n",
       "      <td>114.70</td>\n",
       "      <td>14</td>\n",
       "      <td>32</td>\n",
       "      <td>6.0</td>\n",
       "      <td>9.0</td>\n",
       "      <td>9.0</td>\n",
       "      <td>5.0</td>\n",
       "      <td>3.0</td>\n",
       "    </tr>\n",
       "    <tr>\n",
       "      <th>2</th>\n",
       "      <td>123.74</td>\n",
       "      <td>13</td>\n",
       "      <td>27</td>\n",
       "      <td>7.0</td>\n",
       "      <td>6.0</td>\n",
       "      <td>6.0</td>\n",
       "      <td>4.0</td>\n",
       "      <td>4.0</td>\n",
       "    </tr>\n",
       "    <tr>\n",
       "      <th>3</th>\n",
       "      <td>130.76</td>\n",
       "      <td>13</td>\n",
       "      <td>26</td>\n",
       "      <td>5.0</td>\n",
       "      <td>1.0</td>\n",
       "      <td>2.0</td>\n",
       "      <td>12.0</td>\n",
       "      <td>6.0</td>\n",
       "    </tr>\n",
       "    <tr>\n",
       "      <th>4</th>\n",
       "      <td>81.78</td>\n",
       "      <td>14</td>\n",
       "      <td>22</td>\n",
       "      <td>5.0</td>\n",
       "      <td>1.0</td>\n",
       "      <td>5.0</td>\n",
       "      <td>4.0</td>\n",
       "      <td>7.0</td>\n",
       "    </tr>\n",
       "    <tr>\n",
       "      <th>5</th>\n",
       "      <td>134.65</td>\n",
       "      <td>15</td>\n",
       "      <td>38</td>\n",
       "      <td>8.0</td>\n",
       "      <td>8.0</td>\n",
       "      <td>10.0</td>\n",
       "      <td>9.0</td>\n",
       "      <td>3.0</td>\n",
       "    </tr>\n",
       "  </tbody>\n",
       "</table>\n",
       "</div>"
      ],
      "text/plain": [
       "             amount  category_id  rental_id  PG-13  NC-17    PG     R    G\n",
       "customer_id                                                               \n",
       "1            114.70           14         32    6.0    9.0   9.0   5.0  3.0\n",
       "2            123.74           13         27    7.0    6.0   6.0   4.0  4.0\n",
       "3            130.76           13         26    5.0    1.0   2.0  12.0  6.0\n",
       "4             81.78           14         22    5.0    1.0   5.0   4.0  7.0\n",
       "5            134.65           15         38    8.0    8.0  10.0   9.0  3.0"
      ]
     },
     "execution_count": 496,
     "metadata": {},
     "output_type": "execute_result"
    }
   ],
   "source": [
    "data_part12d = data_part12c.groupby(['customer_id']).agg({'amount': 'sum', 'category_id' :lambda x: x.nunique(), \\\n",
    "                                                             'rental_id':'count','PG-13' : 'sum','NC-17' : 'sum','PG' : 'sum','R' : 'sum','G' : 'sum'})\n",
    "data_part12d.head()"
   ]
  },
  {
   "cell_type": "code",
   "execution_count": 497,
   "metadata": {},
   "outputs": [],
   "source": [
    "data_part12d.rename(columns={\"rental_id\": \"total_rent\"}, inplace=True)\n"
   ]
  },
  {
   "cell_type": "markdown",
   "metadata": {},
   "source": [
    "***"
   ]
  },
  {
   "cell_type": "markdown",
   "metadata": {},
   "source": [
    "## Section C - Machine Learning (55 Marks)\n",
    "<span style='color:purple;'><b>Note:</b> We have provided the .csv outputs for the files to use in these questions if you are working on the assignment at home. Please note if any of these questions refer to those csvs and not the data from Section B in your submitted assignment, you will receive no marks for Section B.</span>"
   ]
  },
  {
   "cell_type": "markdown",
   "metadata": {},
   "source": [
    "### Part 1 - Clustering (25 Marks)"
   ]
  },
  {
   "cell_type": "markdown",
   "metadata": {},
   "source": [
    "### Part 1.1 - Clustering Short Answers (8 Marks)"
   ]
  },
  {
   "cell_type": "markdown",
   "metadata": {},
   "source": [
    "#### 1. Can a Decision Tree be used to perform clustering? If so, explain how. If not, provide a counterexample showing how it is not suitable for the function.\n",
    "<span style= 'float: right;'><b>[4 marks]</b></span>"
   ]
  },
  {
   "cell_type": "markdown",
   "metadata": {},
   "source": [
    "#### <span style=\"color:blue\"> Your answer here: </span>\n",
    "\n",
    "Although decision tree is more widely known for regression and classification, researchers have discovered various approaches and instances where decision tree can be applied to perform clustering.\n",
    "\n",
    "The first technique is CLTree approach, introduced by Liu, Xia and Yu (2005), in their paper \"Clustering Via Decision Tree Construction\". The essence of their method is the idea of partitioning data into cluster region and empty region. \n",
    "\n",
    "<img src=\"image.png\">\n",
    "\n",
    "Refer to our figure 1, assume that initially, our data can be plotted as seen in (A). It's easy to distinguish the two clusters from the plot. Following CLTree method, we will add some uniformedly distributed N points (presented by \"o\") to our plot"
   ]
  },
  {
   "cell_type": "markdown",
   "metadata": {},
   "source": [
    "#### 2. Will a K-means Clustering Algorithm generate the same results each time? Provide examples on how this may or may not be the case.\n",
    "<span style= 'float: right;'><b>[4 marks]</b></span>"
   ]
  },
  {
   "cell_type": "markdown",
   "metadata": {},
   "source": [
    "#### <span style=\"color:blue\"> Your answer here: </span>\n",
    "\n",
    "**"
   ]
  },
  {
   "cell_type": "markdown",
   "metadata": {},
   "source": [
    "### Part 1.2 - K-Means Clustering Implementation (17 Marks)"
   ]
  },
  {
   "cell_type": "markdown",
   "metadata": {},
   "source": [
    "Clustering helps visualise a dataset based on attributes considered important to the data scientist and/or reader.  From the dataset acquired after completing **Section - B**, implement a `K-Means clustering algorithm` to help you cluster the dataset of customers on the basis of the movies they have rented from the DVD rental stores. Various attributes related to the movies such `rating`, `year`, `rental_rate` and `year` may be useful for this exercise. Another interesting attribute that you can look at is the `fulltext` of the movie. In terms of the customer details, you can look at which movies a customer has rented, and the total number of movies rented by a customer. After you've prepared your learning model, plot a **visualization** showing the different clusters. If you have used more than 2 features for your clustering, you are still expected to provide a visualization by reducing the dimensions into a 2D graph.\n",
    "\n",
    "It's upto you to decide how many clusters you would like to incorporate in your model. You are expected to justify all aspects of your implementation including the reasoning behind the choice of **the number of clusters** and **number of iterations** in your model. \n",
    "\n",
    "<span style='color:red;'><b>Note:</b> You are only allowed to use packages that are within the Anaconda distribution.</span>\n",
    "<span style= 'float: right;'><b>[15 marks total: 10 marks model, 5 marks justification & commentary]</b></span>"
   ]
  },
  {
   "cell_type": "code",
   "execution_count": 498,
   "metadata": {},
   "outputs": [],
   "source": [
    "# YOUR CODE HERE\n",
    "\n",
    "num_clusters = 3\n",
    "km = KMeans(n_clusters=num_clusters, max_iter=25,init='k-means++', n_init=10)\n",
    "\n",
    "\n"
   ]
  },
  {
   "cell_type": "code",
   "execution_count": 499,
   "metadata": {},
   "outputs": [
    {
     "data": {
      "text/plain": [
       "KMeans(algorithm='auto', copy_x=True, init='k-means++', max_iter=25,\n",
       "    n_clusters=3, n_init=10, n_jobs=1, precompute_distances='auto',\n",
       "    random_state=None, tol=0.0001, verbose=0)"
      ]
     },
     "execution_count": 499,
     "metadata": {},
     "output_type": "execute_result"
    }
   ],
   "source": [
    "km.fit(data_part12d)"
   ]
  },
  {
   "cell_type": "code",
   "execution_count": 500,
   "metadata": {},
   "outputs": [
    {
     "data": {
      "text/plain": [
       "{0: 264, 1: 217, 2: 118}"
      ]
     },
     "execution_count": 500,
     "metadata": {},
     "output_type": "execute_result"
    }
   ],
   "source": [
    "predicted_clusters = km.predict(data_part12d)\n",
    "\n",
    "unique, counts = np.unique(predicted_clusters, return_counts=True)\n",
    "dict(zip(unique, counts))"
   ]
  },
  {
   "cell_type": "code",
   "execution_count": 501,
   "metadata": {},
   "outputs": [
    {
     "data": {
      "text/plain": [
       "0.438122084138808"
      ]
     },
     "execution_count": 501,
     "metadata": {},
     "output_type": "execute_result"
    }
   ],
   "source": [
    "labels = km.labels_\n",
    "metrics.silhouette_score(data_part12d, labels, metric='euclidean')\n"
   ]
  },
  {
   "cell_type": "code",
   "execution_count": 502,
   "metadata": {},
   "outputs": [
    {
     "data": {
      "image/png": "[encoded data removed]",
      "text/plain": [
       "<Figure size 864x576 with 1 Axes>"
      ]
     },
     "metadata": {},
     "output_type": "display_data"
    }
   ],
   "source": [
    "markers = ['o','x','s']\n",
    "colors = ['purple','green','y']\n",
    "plt.figure(figsize=(12,8))\n",
    "plt.scatter(data_part12d['amount'], data_part12d['total_rent'], c=predicted_clusters, s=10, cmap='viridis')\n",
    "centers = km.cluster_centers_\n",
    "for ind in range(len(markers)):\n",
    "    plt.scatter(centers[ind, 0], centers[ind, 2], c=colors[ind], s=100, marker=markers[ind])\n",
    "plt.title('Result of sklearn k-means Clustering', fontsize=20)\n",
    "plt.show()"
   ]
  },
  {
   "cell_type": "code",
   "execution_count": 503,
   "metadata": {},
   "outputs": [
    {
     "data": {
      "image/png": "[encoded data removed]",
      "text/plain": [
       "<Figure size 864x576 with 1 Axes>"
      ]
     },
     "metadata": {},
     "output_type": "display_data"
    }
   ],
   "source": [
    "markers = ['o','x','s']\n",
    "colors = ['purple','green','y']\n",
    "plt.figure(figsize=(12,8))\n",
    "plt.scatter(data_part12d['amount'], data_part12d['category_id'], c=predicted_clusters, s=10, cmap='viridis')\n",
    "centers = km.cluster_centers_\n",
    "for ind in range(len(markers)):\n",
    "    plt.scatter(centers[ind, 0], centers[ind, 1], c=colors[ind], s=100, marker=markers[ind])\n",
    "plt.title('Result of sklearn k-means Clustering', fontsize=20)\n",
    "plt.show()"
   ]
  },
  {
   "cell_type": "code",
   "execution_count": 504,
   "metadata": {},
   "outputs": [
    {
     "data": {
      "image/png": "[encoded data removed]",
      "text/plain": [
       "<Figure size 864x576 with 1 Axes>"
      ]
     },
     "metadata": {},
     "output_type": "display_data"
    }
   ],
   "source": [
    "markers = ['o','x','s']\n",
    "colors = ['purple','green','y']\n",
    "plt.figure(figsize=(12,8))\n",
    "plt.scatter(data_part12d['PG-13'], data_part12d['PG'], c=predicted_clusters, s=10, cmap='viridis')\n",
    "centers = km.cluster_centers_\n",
    "for ind in range(len(markers)):\n",
    "    plt.scatter(centers[ind, 3], centers[ind, 5], c=colors[ind], s=100, marker=markers[ind])\n",
    "plt.title('Result of sklearn k-means Clustering', fontsize=20)\n",
    "plt.show()"
   ]
  },
  {
   "cell_type": "code",
   "execution_count": 505,
   "metadata": {},
   "outputs": [],
   "source": [
    "data_part12d1 = data_part12d[['amount','total_rent']]"
   ]
  },
  {
   "cell_type": "code",
   "execution_count": 506,
   "metadata": {},
   "outputs": [],
   "source": [
    "#model 2\n",
    "num_clusters = 3\n",
    "km = KMeans(n_clusters=num_clusters, max_iter=5,init='k-means++', n_init=1)\n",
    "\n"
   ]
  },
  {
   "cell_type": "code",
   "execution_count": 507,
   "metadata": {},
   "outputs": [
    {
     "data": {
      "text/plain": [
       "KMeans(algorithm='auto', copy_x=True, init='k-means++', max_iter=5,\n",
       "    n_clusters=3, n_init=1, n_jobs=1, precompute_distances='auto',\n",
       "    random_state=None, tol=0.0001, verbose=0)"
      ]
     },
     "execution_count": 507,
     "metadata": {},
     "output_type": "execute_result"
    }
   ],
   "source": [
    "km.fit(data_part12d1)"
   ]
  },
  {
   "cell_type": "code",
   "execution_count": 508,
   "metadata": {},
   "outputs": [
    {
     "data": {
      "text/plain": [
       "{0: 114, 1: 266, 2: 219}"
      ]
     },
     "execution_count": 508,
     "metadata": {},
     "output_type": "execute_result"
    }
   ],
   "source": [
    "predicted_clusters1 = km.predict(data_part12d1)\n",
    "\n",
    "unique1, counts1 = np.unique(predicted_clusters1, return_counts=True)\n",
    "dict(zip(unique1, counts1))"
   ]
  },
  {
   "cell_type": "code",
   "execution_count": 509,
   "metadata": {},
   "outputs": [
    {
     "data": {
      "image/png": "[encoded data removed]",
      "text/plain": [
       "<Figure size 864x576 with 1 Axes>"
      ]
     },
     "metadata": {},
     "output_type": "display_data"
    }
   ],
   "source": [
    "markers = ['o','x','s']\n",
    "colors = ['purple','green','y']\n",
    "plt.figure(figsize=(12,8))\n",
    "plt.scatter(data_part12d1['amount'], data_part12d1['total_rent'], c=predicted_clusters, s=10, cmap='viridis')\n",
    "centers = km.cluster_centers_\n",
    "for ind in range(len(markers)):\n",
    "    plt.scatter(centers[ind, 0], centers[ind, 1], c=colors[ind], s=100, marker=markers[ind])\n",
    "plt.title('Result of sklearn k-means Clustering', fontsize=20)\n",
    "plt.show()"
   ]
  },
  {
   "cell_type": "code",
   "execution_count": 510,
   "metadata": {},
   "outputs": [
    {
     "data": {
      "text/plain": [
       "array([[140.32114035,  33.19298246],\n",
       "       [106.36741445,  27.60456274],\n",
       "       [ 78.08477477,  22.53153153]])"
      ]
     },
     "execution_count": 510,
     "metadata": {},
     "output_type": "execute_result"
    }
   ],
   "source": [
    "centers"
   ]
  },
  {
   "cell_type": "code",
   "execution_count": 511,
   "metadata": {},
   "outputs": [
    {
     "data": {
      "text/plain": [
       "0.4390451019115906"
      ]
     },
     "execution_count": 511,
     "metadata": {},
     "output_type": "execute_result"
    }
   ],
   "source": [
    "labels = km.labels_\n",
    "metrics.silhouette_score(data_part12d, labels, metric='euclidean')\n"
   ]
  },
  {
   "cell_type": "code",
   "execution_count": 512,
   "metadata": {},
   "outputs": [],
   "source": [
    "data_part12d2 = data_part12d[['PG-13','NC-17','PG','R','G']]"
   ]
  },
  {
   "cell_type": "code",
   "execution_count": 513,
   "metadata": {},
   "outputs": [],
   "source": [
    "#model 3\n",
    "# YOUR CODE HERE\n",
    "\n",
    "num_clusters = 3 \n",
    "km = KMeans(n_clusters=num_clusters, max_iter=25,init='k-means++', n_init=10)\n",
    "\n"
   ]
  },
  {
   "cell_type": "code",
   "execution_count": 514,
   "metadata": {},
   "outputs": [
    {
     "data": {
      "text/plain": [
       "KMeans(algorithm='auto', copy_x=True, init='k-means++', max_iter=25,\n",
       "    n_clusters=3, n_init=10, n_jobs=1, precompute_distances='auto',\n",
       "    random_state=None, tol=0.0001, verbose=0)"
      ]
     },
     "execution_count": 514,
     "metadata": {},
     "output_type": "execute_result"
    }
   ],
   "source": [
    "km.fit(data_part12d2)"
   ]
  },
  {
   "cell_type": "code",
   "execution_count": 515,
   "metadata": {},
   "outputs": [
    {
     "data": {
      "text/plain": [
       "{0: 231, 1: 198, 2: 170}"
      ]
     },
     "execution_count": 515,
     "metadata": {},
     "output_type": "execute_result"
    }
   ],
   "source": [
    "predicted_clusters = km.predict(data_part12d2)\n",
    "\n",
    "unique, counts = np.unique(predicted_clusters, return_counts=True)\n",
    "dict(zip(unique, counts))"
   ]
  },
  {
   "cell_type": "code",
   "execution_count": 516,
   "metadata": {},
   "outputs": [
    {
     "data": {
      "text/plain": [
       "0.1439489641056634"
      ]
     },
     "execution_count": 516,
     "metadata": {},
     "output_type": "execute_result"
    }
   ],
   "source": [
    "labels = km.labels_\n",
    "metrics.silhouette_score(data_part12d2, labels, metric='euclidean')"
   ]
  },
  {
   "cell_type": "code",
   "execution_count": 517,
   "metadata": {},
   "outputs": [
    {
     "data": {
      "image/png": "[encoded data removed]",
      "text/plain": [
       "<Figure size 864x576 with 1 Axes>"
      ]
     },
     "metadata": {},
     "output_type": "display_data"
    }
   ],
   "source": [
    "markers = ['o','x','s']\n",
    "colors = ['purple','green','y']\n",
    "plt.figure(figsize=(12,8))\n",
    "plt.scatter(data_part12d2['PG-13'], data_part12d2['NC-17'], c=predicted_clusters, s=10, cmap='viridis')\n",
    "centers = km.cluster_centers_\n",
    "for ind in range(len(markers)):\n",
    "    plt.scatter(centers[ind, 0], centers[ind, 1], c=colors[ind], s=100, marker=markers[ind])\n",
    "plt.title('Result of sklearn k-means Clustering', fontsize=20)\n",
    "plt.show()"
   ]
  },
  {
   "cell_type": "code",
   "execution_count": 518,
   "metadata": {},
   "outputs": [
    {
     "data": {
      "image/png": "[encoded data removed]",
      "text/plain": [
       "<Figure size 864x576 with 1 Axes>"
      ]
     },
     "metadata": {},
     "output_type": "display_data"
    }
   ],
   "source": [
    "markers = ['o','x','s']\n",
    "colors = ['purple','green','y']\n",
    "plt.figure(figsize=(12,8))\n",
    "plt.scatter(data_part12d2['PG'], data_part12d2['R'], c=predicted_clusters, s=10, cmap='viridis')\n",
    "centers = km.cluster_centers_\n",
    "for ind in range(len(markers)):\n",
    "    plt.scatter(centers[ind, 2], centers[ind, 3], c=colors[ind], s=100, marker=markers[ind])\n",
    "plt.title('Result of sklearn k-means Clustering', fontsize=20)\n",
    "plt.show()"
   ]
  },
  {
   "cell_type": "code",
   "execution_count": 519,
   "metadata": {},
   "outputs": [
    {
     "data": {
      "image/png": "[encoded data removed]",
      "text/plain": [
       "<Figure size 864x576 with 1 Axes>"
      ]
     },
     "metadata": {},
     "output_type": "display_data"
    }
   ],
   "source": [
    "markers = ['o','x','s']\n",
    "colors = ['purple','green','y']\n",
    "plt.figure(figsize=(12,8))\n",
    "plt.scatter(data_part12d2['PG-13'], data_part12d2['R'], c=predicted_clusters, s=10, cmap='viridis')\n",
    "centers = km.cluster_centers_\n",
    "for ind in range(len(markers)):\n",
    "    plt.scatter(centers[ind, 0], centers[ind, 3], c=colors[ind], s=100, marker=markers[ind])\n",
    "plt.title('Result of sklearn k-means Clustering', fontsize=20)\n",
    "plt.show()"
   ]
  },
  {
   "cell_type": "code",
   "execution_count": 520,
   "metadata": {},
   "outputs": [],
   "source": [
    "data_part12d3 = data_part12d[['category_id','PG-13','NC-17','PG','R','G']]"
   ]
  },
  {
   "cell_type": "code",
   "execution_count": 521,
   "metadata": {},
   "outputs": [],
   "source": [
    "#Model 4, fit all variables available\n",
    "\n",
    "# YOUR CODE HERE\n",
    "\n",
    "num_clusters = 3\n",
    "km = KMeans(n_clusters=num_clusters, max_iter=25,init='k-means++', n_init=10)\n"
   ]
  },
  {
   "cell_type": "code",
   "execution_count": 522,
   "metadata": {},
   "outputs": [
    {
     "data": {
      "text/plain": [
       "KMeans(algorithm='auto', copy_x=True, init='k-means++', max_iter=25,\n",
       "    n_clusters=3, n_init=10, n_jobs=1, precompute_distances='auto',\n",
       "    random_state=None, tol=0.0001, verbose=0)"
      ]
     },
     "execution_count": 522,
     "metadata": {},
     "output_type": "execute_result"
    }
   ],
   "source": [
    "km.fit(data_part12d3)"
   ]
  },
  {
   "cell_type": "code",
   "execution_count": 523,
   "metadata": {},
   "outputs": [
    {
     "data": {
      "text/plain": [
       "{0: 181, 1: 190, 2: 228}"
      ]
     },
     "execution_count": 523,
     "metadata": {},
     "output_type": "execute_result"
    }
   ],
   "source": [
    "predicted_clusters = km.predict(data_part12d3)\n",
    "\n",
    "unique, counts = np.unique(predicted_clusters, return_counts=True)\n",
    "dict(zip(unique, counts))"
   ]
  },
  {
   "cell_type": "code",
   "execution_count": 524,
   "metadata": {},
   "outputs": [
    {
     "data": {
      "text/plain": [
       "0.13956580480645978"
      ]
     },
     "execution_count": 524,
     "metadata": {},
     "output_type": "execute_result"
    }
   ],
   "source": [
    "labels = km.labels_\n",
    "metrics.silhouette_score(data_part12d3, labels, metric='euclidean')"
   ]
  },
  {
   "cell_type": "code",
   "execution_count": 525,
   "metadata": {},
   "outputs": [
    {
     "data": {
      "image/png": "[encoded data removed]",
      "text/plain": [
       "<Figure size 864x576 with 1 Axes>"
      ]
     },
     "metadata": {},
     "output_type": "display_data"
    }
   ],
   "source": [
    "markers = ['o','D','s']\n",
    "colors = ['purple','green','y']\n",
    "plt.figure(figsize=(12,8))\n",
    "plt.scatter(data_part12d3['category_id'], data_part12d3['PG-13'], c=predicted_clusters, s=10, cmap='viridis')\n",
    "centers = km.cluster_centers_\n",
    "for ind in range(len(markers)):\n",
    "    plt.scatter(centers[ind, 0], centers[ind, 1], c=colors[ind], s=100, marker=markers[ind])\n",
    "plt.title('Result of sklearn k-means Clustering', fontsize=20)\n",
    "plt.show()\n"
   ]
  },
  {
   "cell_type": "code",
   "execution_count": 526,
   "metadata": {},
   "outputs": [
    {
     "data": {
      "image/png": "[encoded data removed]",
      "text/plain": [
       "<Figure size 864x576 with 1 Axes>"
      ]
     },
     "metadata": {},
     "output_type": "display_data"
    }
   ],
   "source": [
    "markers = ['o','D','s']\n",
    "colors = ['purple','green','y']\n",
    "plt.figure(figsize=(12,8))\n",
    "plt.scatter(data_part12d3['category_id'], data_part12d3['G'], c=predicted_clusters, s=10, cmap='viridis')\n",
    "centers = km.cluster_centers_\n",
    "for ind in range(len(markers)):\n",
    "    plt.scatter(centers[ind, 0], centers[ind, 5], c=colors[ind], s=100, marker=markers[ind])\n",
    "plt.title('Result of sklearn k-means Clustering', fontsize=20)\n",
    "plt.show()"
   ]
  },
  {
   "cell_type": "code",
   "execution_count": 527,
   "metadata": {},
   "outputs": [
    {
     "data": {
      "text/plain": [
       "0.44682665987708226"
      ]
     },
     "execution_count": 527,
     "metadata": {},
     "output_type": "execute_result"
    }
   ],
   "source": [
    "num_clusters = 8\n",
    " \n",
    "km = KMeans(n_clusters=num_clusters, max_iter=25,init='k-means++', n_init=10)\n",
    "\n",
    "km.fit(data_part12d1)\n",
    "\n",
    "labels = km.labels_\n",
    "metrics.silhouette_score(data_part12d1, labels, metric='euclidean')"
   ]
  },
  {
   "cell_type": "markdown",
   "metadata": {},
   "source": [
    "Cluster = 2 0.538521461255812 (10)\n",
    "\n",
    "Cluster = 3 0.4970546067178341 (7) 0.49709750617580795 (3)\n",
    "\n",
    "Cluster = 4 0.47866535441971847 0.4786594476987402 0.4761242061475926 0.47770790312740047 0.47505360816406034\n",
    "0.4689823620456955 0.46812594131524937 0.4771592330305071 0.4678040709734296 0.4794457326514759\n",
    "\n",
    "Cluster = 5 0.4913034644001657 0.4922019884784975 0.4922993275622072 0.4922993275622072 0.49153430339308535 0.4913034644001657 0.4922993275622072 0.4913034644001657 0.4909967989088404 0.49088010672436183\n",
    "\n",
    "Cluster = 6 0.4846360834934626 0.48196090405573155 0.4774735036317234 0.4826626595081744 0.4851603695674949 0.48196090405573155 0.4851603695674949 0.4774735036317234 0.4851603695674949 0.48140016069149005\n",
    "\n",
    "Cluster = 7 0.46973220095984264 0.4690464613145256 0.47014226141265 0.46938772043070287 0.47009484229688137\n",
    "0.47014226141265 0.4701650390191253 0.47014226141265 0.46973220095984264 0.4695543431624774\n",
    "\n",
    "Cluster = 8 0.44545823203477497 0.44545406445624985 0.4422764156401571 0.4410899475971334 0.4419171246973995\n",
    "0.44682665987708226 0.4419171246973995 0.4422764156401571 0.4422764156401571\n",
    "\n",
    " \n",
    "\n",
    "\n",
    "\n"
   ]
  },
  {
   "cell_type": "markdown",
   "metadata": {},
   "source": [
    "#### <span style=\"color:blue\"> Your justifications & commentary here: </span>\n",
    "\n",
    "**"
   ]
  },
  {
   "cell_type": "markdown",
   "metadata": {},
   "source": [
    "#### What do your resulting clusters represent?  Explain the distinguishing characteristics of each cluster. \n",
    "<span style= 'float: right;'><b>[2 marks]</b></span>"
   ]
  },
  {
   "cell_type": "markdown",
   "metadata": {},
   "source": [
    "#### <span style=\"color:blue\"> Your answer here: </span>\n",
    "\n",
    "**"
   ]
  },
  {
   "cell_type": "markdown",
   "metadata": {},
   "source": [
    "***"
   ]
  },
  {
   "cell_type": "markdown",
   "metadata": {},
   "source": [
    "### Part 2 - Classification (30 Marks)\n",
    "\n",
    "The rental company has decided that they want to use simple machine learning to allocate price tags to their movies. The tags are as follows:\n",
    "\n",
    "\n",
    "|  **Classification**      |  **Requirements**        |\n",
    "|--------------------------|------------------------- |\n",
    "|  Cheap                   |  Rental Rate is 0.99   |\n",
    "|  Moderate                |  Rental Rate is 2.99   |\n",
    "|  Expensive               |  Rental Rate is 4.99  |\n",
    "\n",
    "\n",
    "**Your task is to implement a `Classification Algorithm` (such as K-Nearest Neighbours) that can predict the `Price Label` of a movie**. You are required to perform the following tasks:\n",
    "\n",
    "1. Create useable dataset/s by manually determining the 'truth values' for existing data (where the rating is within the classification system defined above)\n",
    "2. Implement an algorithm that can predict the classification as per the above classifications.\n",
    "3. Perform independent testing of the model and provide statistical metrics outlining the performance of your model. Splitting the dataset into testing and training subsets will assist with this.\n",
    "\n",
    "You are welcome to use any features within the dataset, except the `Rental Rate` of the film. Various attributes relating to a movie in the tables `rating`, `movie`, `film_actor`, `actor` and `film_category` can be helpful while making the algorithm. If required, you can also look to make new **compound attributes** that may be helpful in increasing the accuracy of your model.\n",
    "You are expected to justify all aspects of your answer including the features used, the metrics provided and validation system employed. Provide commentary on the strengths and potential pitfalls of the model.\n",
    "\n",
    "<span style='color:red;'><b>Note:</b> You are only allowed to use packages that are within the Anaconda distribution. This means packages such as Keras, Tensorflow etc are not available for use.</span> \n",
    "<span style= 'float: right;'><b>[25 marks total: 18 marks model, 7 marks justification & commentary]</b></span>"
   ]
  },
  {
   "cell_type": "code",
   "execution_count": 528,
   "metadata": {},
   "outputs": [],
   "source": [
    "# YOUR CODE HERE\n"
   ]
  },
  {
   "cell_type": "code",
   "execution_count": 529,
   "metadata": {},
   "outputs": [
    {
     "ename": "NameError",
     "evalue": "name 'film' is not defined",
     "output_type": "error",
     "traceback": [
      "\u001b[0;31m---------------------------------------------------------------------------\u001b[0m",
      "\u001b[0;31mNameError\u001b[0m                                 Traceback (most recent call last)",
      "\u001b[0;32m<ipython-input-529-d98661e3ee88>\u001b[0m in \u001b[0;36m<module>\u001b[0;34m()\u001b[0m\n\u001b[0;32m----> 1\u001b[0;31m \u001b[0mdata_part2\u001b[0m \u001b[0;34m=\u001b[0m \u001b[0mfilm\u001b[0m\u001b[0;34m.\u001b[0m\u001b[0mmerge\u001b[0m\u001b[0;34m(\u001b[0m\u001b[0mcategory\u001b[0m\u001b[0;34m,\u001b[0m \u001b[0mon\u001b[0m\u001b[0;34m=\u001b[0m\u001b[0;34m\"film_id\"\u001b[0m\u001b[0;34m)\u001b[0m\u001b[0;34m.\u001b[0m\u001b[0mfillna\u001b[0m\u001b[0;34m(\u001b[0m\u001b[0;34m\"\"\u001b[0m\u001b[0;34m)\u001b[0m\u001b[0;34m\u001b[0m\u001b[0;34m\u001b[0m\u001b[0m\n\u001b[0m\u001b[1;32m      2\u001b[0m \u001b[0mdata_part2\u001b[0m \u001b[0;34m=\u001b[0m \u001b[0mdata_part2\u001b[0m\u001b[0;34m.\u001b[0m\u001b[0mmerge\u001b[0m\u001b[0;34m(\u001b[0m\u001b[0mfilm_actor\u001b[0m\u001b[0;34m,\u001b[0m \u001b[0mon\u001b[0m\u001b[0;34m=\u001b[0m\u001b[0;34m\"film_id\"\u001b[0m\u001b[0;34m)\u001b[0m\u001b[0;34m.\u001b[0m\u001b[0mfillna\u001b[0m\u001b[0;34m(\u001b[0m\u001b[0;34m\"\"\u001b[0m\u001b[0;34m)\u001b[0m\u001b[0;34m\u001b[0m\u001b[0;34m\u001b[0m\u001b[0m\n\u001b[1;32m      3\u001b[0m \u001b[0;34m\u001b[0m\u001b[0m\n\u001b[1;32m      4\u001b[0m \u001b[0mdata_part2\u001b[0m \u001b[0;34m=\u001b[0m \u001b[0mdata_part2\u001b[0m\u001b[0;34m[\u001b[0m\u001b[0;34m[\u001b[0m\u001b[0;34m'film_id'\u001b[0m\u001b[0;34m,\u001b[0m\u001b[0;34m'rental_duration'\u001b[0m\u001b[0;34m,\u001b[0m\u001b[0;34m'rental_rate'\u001b[0m\u001b[0;34m,\u001b[0m\u001b[0;34m'replacement_cost'\u001b[0m\u001b[0;34m,\u001b[0m\u001b[0;34m'rating'\u001b[0m\u001b[0;34m,\u001b[0m\u001b[0;34m'category_id'\u001b[0m\u001b[0;34m,\u001b[0m\u001b[0;34m'actor_id'\u001b[0m\u001b[0;34m]\u001b[0m\u001b[0;34m]\u001b[0m\u001b[0;34m\u001b[0m\u001b[0;34m\u001b[0m\u001b[0m\n\u001b[1;32m      5\u001b[0m \u001b[0;34m\u001b[0m\u001b[0m\n",
      "\u001b[0;31mNameError\u001b[0m: name 'film' is not defined"
     ]
    }
   ],
   "source": [
    "data_part2 = film.merge(category, on=\"film_id\").fillna(\"\")\n",
    "data_part2 = data_part2.merge(film_actor, on=\"film_id\").fillna(\"\")\n",
    "\n",
    "data_part2 = data_part2[['film_id','rental_duration','rental_rate','replacement_cost','rating','category_id','actor_id']]\n",
    "\n",
    "replacement_items2 = {0.99: \"Cheap\", 2.99: \"Moderate\", 4.99 : \"Expensive\", \"PG-13\": 1, \"NC-17\": 2, \"PG\": 3, \"R\": 4, \"G\" : 5}\n",
    "data_part2 = data_part2.replace(replacement_items2)\n",
    "\n",
    "\n",
    "data_part2_mod = data_part2.groupby(['film_id']).agg({'rental_duration': 'first','rental_rate':'first', 'replacement_cost': 'first', \\\n",
    "                                                            'rating' : 'first', 'category_id': 'first',\\\n",
    "                                                             'actor_id':lambda x: x.nunique()})\n",
    "\n",
    "Y_part2 = data_part2_mod['rental_rate']\n",
    "X_part2 = data_part2_mod.drop(['rental_rate'], axis=1)\n",
    "\n",
    "\n"
   ]
  },
  {
   "cell_type": "code",
   "execution_count": null,
   "metadata": {},
   "outputs": [],
   "source": [
    "\n",
    "length = X_part2_mod.shape[0]\n",
    "X_train = X_part2_mod[:int(length*0.8)]\n",
    "y_train = Y_part2[:int(length*0.8)]\n",
    "X_test = X_part2_mod[int(length*0.8):]\n",
    "y_test = Y_part2[int(length*0.8):]\n",
    "\n",
    "\n",
    "print(\"training:\", X_train.shape, y_train.shape)\n",
    "print(\"testing:\", X_test.shape, y_test.shape)\n",
    "\n",
    "\n"
   ]
  },
  {
   "cell_type": "code",
   "execution_count": null,
   "metadata": {},
   "outputs": [],
   "source": [
    "scaling = sk.preprocessing.StandardScaler().fit(X_train)\n",
    "X_train = scaling.transform(X_train)\n",
    "X_test = scaling.transform(X_test)"
   ]
  },
  {
   "cell_type": "code",
   "execution_count": null,
   "metadata": {},
   "outputs": [],
   "source": [
    "np.random.seed(2)\n",
    "\n",
    "classifier = SGDClassifier(max_iter=50, tol=1e-3)\n",
    "classifier.fit(X_train, y_train)\n",
    "\n",
    "print(\"Classifier Coefficients:\\n\", classifier.coef_)\n",
    "print(\"\\nClassifier Intercepts:\\n\", classifier.intercept_)"
   ]
  },
  {
   "cell_type": "code",
   "execution_count": null,
   "metadata": {},
   "outputs": [],
   "source": [
    "result = classifier.predict(X_test)\n",
    "result"
   ]
  },
  {
   "cell_type": "markdown",
   "metadata": {},
   "source": [
    "#### <span style=\"color:blue\"> Your justifications & commentary here: </span>\n",
    "\n",
    "**"
   ]
  },
  {
   "cell_type": "markdown",
   "metadata": {},
   "source": [
    "#### Would you be able to get a better result, if you had used Clustering as a pre-processing step before Classfication? Justify your answer. \n",
    "<span style= 'float: right;'><b>[5 marks]</b></span>"
   ]
  },
  {
   "cell_type": "markdown",
   "metadata": {},
   "source": [
    "#### <span style=\"color:blue\"> Your answer here: </span>\n",
    "\n",
    "**"
   ]
  },
  {
   "cell_type": "markdown",
   "metadata": {},
   "source": [
    "***"
   ]
  },
  {
   "cell_type": "markdown",
   "metadata": {},
   "source": [
    "## Section D - Decision Trees (10 Marks)\n",
    "\n",
    "The following is a small synthetic data set about the weather conditions.  We are\n",
    "going to try and use decision trees to predict whether it will rain or not on the given day.\n",
    "\n",
    "\n",
    "|Temperature| Cloudy| UV Index| Humidity| Rain\n",
    "|---:|--:|--:|--:|--:|\n",
    "|25|No| Low| Low| No \n",
    "|29|No| Low| High| No\n",
    "|26|No| Low| Medium| No\n",
    "|26|No| Medium| Medium| No\n",
    "|27|No| Medium| High| No\n",
    "|28|No| High | High| No\n",
    "|25|No| High |Low| No\n",
    "|29|Yes| Low |Low| Yes\n",
    "|28|No| Medium| High| Yes\n",
    "|28|Yes| Medium| High| Yes\n",
    "|26|No| Low |Low| Yes\n",
    "|27|Yes| Low |High| Yes\n",
    "\n",
    "**Note:**\n",
    "* You can treat temperature as a continuous variable and split on a range of age values.\n",
    "* Attribute selection in the tree uses information gain "
   ]
  },
  {
   "cell_type": "markdown",
   "metadata": {},
   "source": [
    "#### 1. What is the initial entropy of Cloudy?\n",
    "\n",
    "<span style= 'float: right;'><b>[3 marks]</b></span>"
   ]
  },
  {
   "cell_type": "markdown",
   "metadata": {},
   "source": [
    "<span style=\"color:blue\">\n",
    "    \n",
    "From our data set, we have 9 days, which is not cloudy and 3 days, which is cloudy.\n",
    "\n",
    "So, the initial entropy Cloudy\n",
    "\n",
    "\n",
    "\n",
    "</span>"
   ]
  },
  {
   "cell_type": "markdown",
   "metadata": {},
   "source": [
    "#### 2. Which attribute would you choose to place at the root of a decision tree? Why?\n",
    "\n",
    "<span style= 'float: right;'><b>[3 marks]</b></span>"
   ]
  },
  {
   "cell_type": "markdown",
   "metadata": {},
   "source": [
    "<span style=\"color:blue\">\n",
    "    \n",
    "#### YOUR ANSWER HERE\n",
    "\n",
    "\n",
    "</span>"
   ]
  },
  {
   "cell_type": "markdown",
   "metadata": {},
   "source": [
    "#### 3. Calculate and specify the information gain of the attribute you chose in the previous question.\n",
    "\n",
    "<span style= 'float: right;'><b>[4 marks]</b></span>"
   ]
  },
  {
   "cell_type": "markdown",
   "metadata": {},
   "source": [
    "<span style=\"color:blue\">\n",
    "    \n",
    "#### YOUR ANSWER HERE\n",
    "\n",
    "\n",
    "</span>"
   ]
  }
 ],
 "metadata": {
  "kernelspec": {
   "display_name": "Python 3",
   "language": "python",
   "name": "python3"
  },
  "language_info": {
   "codemirror_mode": {
    "name": "ipython",
    "version": 3
   },
   "file_extension": ".py",
   "mimetype": "text/x-python",
   "name": "python",
   "nbconvert_exporter": "python",
   "pygments_lexer": "ipython3",
   "version": "3.6.7"
  }
 },
 "nbformat": 4,
 "nbformat_minor": 2
}
